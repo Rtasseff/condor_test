{
 "cells": [
  {
   "cell_type": "markdown",
   "id": "3a2d40a4-5cb9-4ddd-9bd7-5b80c3dae409",
   "metadata": {},
   "source": [
    "# US Stock Market Trends and Rare Events"
   ]
  },
  {
   "cell_type": "code",
   "execution_count": null,
   "id": "05880db7-8239-43c6-87a7-7a5f77ef3d51",
   "metadata": {},
   "outputs": [],
   "source": []
  }
 ],
 "metadata": {
  "kernelspec": {
   "display_name": "Python 3 (ipykernel)",
   "language": "python",
   "name": "python3"
  },
  "language_info": {
   "codemirror_mode": {
    "name": "ipython",
    "version": 3
   },
   "file_extension": ".py",
   "mimetype": "text/x-python",
   "name": "python",
   "nbconvert_exporter": "python",
   "pygments_lexer": "ipython3",
   "version": "3.11.5"
  }
 },
 "nbformat": 4,
 "nbformat_minor": 5
}
