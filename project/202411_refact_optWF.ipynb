{
 "cells": [
  {
   "cell_type": "markdown",
   "id": "2c0e93f2-6df9-4cbf-b2f9-ebba24df520d",
   "metadata": {},
   "source": [
    "# A Test Case for Refactoring a Basic Portfolio Optimization Workflow\n",
    "\n",
    "We recreated a basic portfolio optimization workflow from \n",
    "functions that will eventually be called from an automated pipeline.\n",
    "Then compared to a past project using assets from the \n",
    "S&P 500 to ensure proper implimentation. \n",
    "We then replaced the current statistical estimators,\n",
    "which assume a normal distribution, \n",
    "with robust estimators like those used in past projects through 202410-202411.\n",
    "Finally we considered a slight variation that uses a bayesian approch \n",
    "to incorperate expectations derived from other sources.\n",
    "Eventaully the functions called here will become a key part of the \n",
    "inital Condor Funds web-based minimally viable prototype.\n",
    "\n",
    "The goal here is to identify:\n",
    "* create seperate functions to support a basic portfolio optimization workflow\n",
    "* call them from this project to comapre against a past project to ensure concistancy\n",
    "* add alternate stratagies from past projects and compare\n",
    "* add an alternate bayesian optimization approch and compare \n",
    "\n",
    "### *Notice*\n",
    "*We stress that none of our Jupyter Notebook projects are to be considered final and of publication quality unless otherwise stated. We also provide no warranty or guarantee of any kind. These projects are meant for testing code and learning concepts in a transparent, and often evolving manner. If new methodologies, stratagies or fundamental understandings are applied in the future, they will most likely be explored in future projects. For transparency and documentation, old projects will not be removed but instead will be deprecated (and clearly marked as such). Look for updates on GitHub https://github.com/Rtasseff/condor_test/tree/main/project*\n",
    "\n",
    "## Setup"
   ]
  },
  {
   "cell_type": "code",
   "execution_count": 1,
   "id": "19a586e7-cc0a-49f7-8c19-068425dd0c1d",
   "metadata": {
    "scrolled": true
   },
   "outputs": [],
   "source": [
    "# data set\n",
    "datasetName = 'sp500_combined.csv'\n",
    "\n",
    "# Paths\n",
    "\n",
    "# Analytics dir path *USER SET*\n",
    "analyticsDir = '/Users/rtasseff/projects/condor_test/analytics'\n",
    "# Data dir path *USER SET*\n",
    "dataDir = '/Users/rtasseff/projects/tmp/data_analytics_v1'\n",
    "import sys\n",
    "# adding analytics to the system path\n",
    "sys.path.insert(0, analyticsDir)\n",
    "\n",
    "from data_mining import load\n",
    "from functions import genStats\n",
    "from functions import genFin\n",
    "from functions import assetPreassess as apa\n",
    "from functions import utils\n",
    "\n",
    "\n",
    "import numpy as np\n",
    "import matplotlib.pyplot as plt\n"
   ]
  },
  {
   "cell_type": "markdown",
   "id": "b0cf5b18-acce-4d4a-8b4f-241395414e61",
   "metadata": {},
   "source": [
    "## Background \n",
    "\n",
    "*** need to review all text ***\n",
    "Modern Portfolio Theory (MPT) is a concept in Finance that describes ways of diversifying and allocating assets in a financial portfolio in order to maximize the portfolio's expected return given the owner's risk tolerance. American economist Harry Markowitz first introduced MPT in a 1952 paper. The theory was intended to eliminate ideosyncratic risk, which is the risk inherent in a particular investment due to its unique characteristics.\n",
    "\n",
    "*** At some point want to stress that mathmatically we ae using volitility as a statistical measure for 'risk', but the use of risk has some implied meaning that is not covered by this analysis. then further expand on what it might mean in a later example ***\n",
    "\n",
    "A key component of this framework is diversification. When using MPT, an investor bundles different types of investments together so that when some of the securities fall in value, other securities rise in equal amount. Thus, the overall portfolio stays even but as markets rise overall, the portfolio rises along with the market's inside tide.\n",
    "\n",
    "MPT argues that any given investment's risk and return characteristics should not be viewed alone but evaluated by how it affects the overall portfolio's risk and return. That is, an investor can construct a portfolio of multiple assets that will result in greater returns without a higher level of risk. As an alternative, starting with a desired level of expected return, the investor can construct a portfolio with the lowest possible risk that is capable of producing that return.\n",
    "\n",
    "MPT uses precise financial mathematics to carefully construct the portfolio. The steps involved included:\n",
    "1. portfolio selection - valuing and choosing the securities that might be included in the portfolio;\n",
    "2. portfolio optimization - calculating the optimal allocation, or percentage, for each of the selected assets (i.e. choosing the right mix of assets to maximize return and/or minimize risk);\n",
    "3. portfolio rebalancing - after the portfolio is implimented (i.e. assets are purchased) the value of individual assets will change over time and the holdings of various assets will need to be decreased or increased to ensure the original allocation (i.e. to maintain the correct overall percentage of each asset); \n",
    "4. portfolio reallocation - periodically it is important to check on the behaviour of individual assets as changes to the asset allocations may needed.\n",
    "\n",
    "*** Went off on a tangent here, need to focus this ***\n",
    "In the analysis here, we focused on step (2). Other steps will be convered in future projects and Condor Funds materials. It is worth pointing out that step (4) is of important practicale concern. Since the analysis here is enterly dependant on historical data, future events may change the statistical estiamtes of this data as they ocurr. In addition, there are many other market factors to consider for investment choices. The importance of these factors depends on the preferences of the individual investor. In particular, the time-frame for investment and the size (number of different assets) of the portfolio impact the liklyhood that observed returns and risks mirror historical ones. Longer investment time-frames and bigger portfolios (e.g. a 'buy-and-hold' straetegy over 10+ years on a well diversifed portfolio) allow for noise and abnormal events to smooth out, or correct themselves, over time. In these cases, reallocation could be done by simply repeating step (2). Shorter time frames (e.g. < 5 years) become increasingly reliant on other market insights not considered here. Of course there is no guarentee on any time-frame, as past performance does not always mean future results. For example, a new technology could drive a once strong company into bankruptcy over the course of a decade. In this case there would be no chance of recovery over time. However, there are stratagies accessible to even novice investors for periodically (sometimes without effort) repeating step (1) as well, but these will not be discussed here. \n",
    "\n",
    "\n",
    "Valuing the securities that might be included in the portfolio.\n",
    "Calculating the desired asset allocation, that is, the mix of assets.\n",
    "Performing calculations to optimize the portfolio to get the maximum amount of return for the minimum amount of risk.\n",
    "Using financial analysis to monitor the portfolio to see if it meets expectations and then making changes to the individual securities or asset mix when market warrant a change.\n",
    "An important consideration in MPT is that based on statistical measures such as variance and correlation, a single investment's performance is less important than how it impacts the entire portfolio.\n",
    "\n",
    "MPT also assumes that investors are risk-averse, meaning that they prefer a less risky portfolio to a riskier one for a given level of return. As a practical matter, risk aversion implies that most people should invest in multiple asset classes (stocks, bonds, commodities, cash equivalents or cryptocurrencies for example).\n",
    "\n",
    "## Data"
   ]
  },
  {
   "cell_type": "code",
   "execution_count": 21,
   "id": "1ef5e904-703e-469e-b045-96b33f79ce0e",
   "metadata": {},
   "outputs": [
    {
     "name": "stdout",
     "output_type": "stream",
     "text": [
      "Full data set of assets\n"
     ]
    },
    {
     "data": {
      "text/plain": [
       "<bound method DataFrame.info of Symbol               A        AAL        AAPL        ABBV        ABNB  \\\n",
       "Date                                                                    \n",
       "2014-04-01   36.972244  35.767616   17.015982   34.212463         NaN   \n",
       "2014-04-02   37.175602  35.550785   17.044250   35.026749         NaN   \n",
       "2014-04-03   37.129684  35.201973   16.926130   35.131809         NaN   \n",
       "2014-04-04   36.454021  34.466633   16.707170   34.278126         NaN   \n",
       "2014-04-07   35.653683  33.731285   16.444855   33.240589         NaN   \n",
       "...                ...        ...         ...         ...         ...   \n",
       "2024-03-22  147.210846  14.820000  172.046646  176.798874  167.860001   \n",
       "2024-03-25  145.323914  14.920000  170.618591  176.878128  167.990005   \n",
       "2024-03-26  144.175781  14.920000  169.480133  177.532028  167.389999   \n",
       "2024-03-27  147.130981  15.300000  173.075241  178.681305  166.410004   \n",
       "2024-03-28  145.273987  15.350000  171.247726  180.415100  164.960007   \n",
       "\n",
       "Symbol             ABT       ACGL         ACN        ADBE         ADI  ...  \\\n",
       "Date                                                                   ...   \n",
       "2014-04-01   31.586086  19.070000   66.292648   65.930000   43.509895  ...   \n",
       "2014-04-02   31.676416  19.033333   66.667702   65.480003   43.493805  ...   \n",
       "2014-04-03   31.733900  19.053333   66.134285   62.450001   43.429455  ...   \n",
       "2014-04-04   31.717468  18.926666   65.125809   61.320000   42.576618  ...   \n",
       "2014-04-07   31.339781  18.643333   65.742561   60.470001   42.737541  ...   \n",
       "...                ...        ...         ...         ...         ...  ...   \n",
       "2024-03-22  110.024338  90.680000  336.198242  499.519989  193.509995  ...   \n",
       "2024-03-25  109.467110  90.989998  332.532440  507.230011  190.630005  ...   \n",
       "2024-03-26  110.949753  90.589996  335.092529  507.600006  188.960007  ...   \n",
       "2024-03-27  112.919983  91.480003  339.624969  504.399994  193.330002  ...   \n",
       "2024-03-28  113.099098  92.440002  345.273071  504.600006  197.789993  ...   \n",
       "\n",
       "Symbol             WTW         WY        WYNN        XEL         XOM  \\\n",
       "Date                                                                   \n",
       "2014-04-01   98.896851  19.938574  193.241638  22.083103   62.915455   \n",
       "2014-04-02   98.516464  19.724396  193.479767  22.046623   63.057087   \n",
       "2014-04-03   98.784973  19.911802  189.107605  22.090393   63.044197   \n",
       "2014-04-04   97.599121  19.811403  181.724304  22.367619   62.677242   \n",
       "2014-04-07   96.189491  19.416512  179.232040  22.272781   62.303886   \n",
       "...                ...        ...         ...        ...         ...   \n",
       "2024-03-22  272.332977  35.610001   99.889999  52.270000  112.575607   \n",
       "2024-03-25  272.841339  35.490002   99.410004  52.480000  113.726265   \n",
       "2024-03-26  273.260010  35.450001  100.580002  51.799999  112.873192   \n",
       "2024-03-27  275.920013  35.930000  101.790001  53.380001  114.043686   \n",
       "2024-03-28  275.000000  35.910000  102.230003  53.750000  115.303452   \n",
       "\n",
       "Symbol             XYL         YUM         ZBH        ZBRA         ZTS  \n",
       "Date                                                                    \n",
       "2014-04-01   32.646675   45.210091   85.481316   69.580002   27.247137  \n",
       "2014-04-02   33.191513   45.834221   86.611343   69.730003   27.497793  \n",
       "2014-04-03   32.752136   45.435974   87.867012   69.519997   27.497793  \n",
       "2014-04-04   32.778488   44.841564   86.701050   68.220001   27.219286  \n",
       "2014-04-07   31.970026   44.716743   85.068726   67.669998   26.922215  \n",
       "...                ...         ...         ...         ...         ...  \n",
       "2024-03-22  129.210007  136.229996  126.961258  291.440002  168.419785  \n",
       "2024-03-25  127.760002  134.619995  127.669930  297.940002  167.332886  \n",
       "2024-03-26  127.900002  134.800003  127.630005  291.380005  165.198959  \n",
       "2024-03-27  129.380005  137.320007  132.610001  299.160004  168.030884  \n",
       "2024-03-28  129.240005  138.649994  131.979996  301.440002  168.728912  \n",
       "\n",
       "[2516 rows x 499 columns]>"
      ]
     },
     "execution_count": 21,
     "metadata": {},
     "output_type": "execute_result"
    }
   ],
   "source": [
    "# Read saved date base\n",
    "# select stocks of interest by symbol list *USER SET*\n",
    "stocklist = [\"MSFT\", \"NEE\", \"CVX\"]\n",
    "\n",
    "# get all data\n",
    "assets = load.multiAssetHist_CSV(dataDir+'/'+datasetName)\n",
    "print('Full data set of assets')\n",
    "assets\n",
    "assets.info\n"
   ]
  },
  {
   "cell_type": "code",
   "execution_count": 24,
   "id": "d27bb9a4-1f63-4739-887b-c4959deaf348",
   "metadata": {},
   "outputs": [
    {
     "name": "stdout",
     "output_type": "stream",
     "text": [
      "----------------\n",
      "Subset of assets\n",
      "----------------\n"
     ]
    },
    {
     "data": {
      "text/plain": [
       "<bound method DataFrame.info of Symbol            MSFT        NEE         CVX\n",
       "Date                                         \n",
       "2014-04-01   35.011497  18.322134   78.053154\n",
       "2014-04-02   34.952339  18.163750   78.282722\n",
       "2014-04-03   34.664944  18.271915   78.079414\n",
       "2014-04-04   33.701321  18.351105   77.921974\n",
       "2014-04-07   33.642155  18.136713   76.964340\n",
       "...                ...        ...         ...\n",
       "2024-03-22  427.968048  61.779999  154.660004\n",
       "2024-03-25  422.098633  62.610001  156.470001\n",
       "2024-03-26  420.890808  61.430000  155.270004\n",
       "2024-03-27  420.671204  63.790001  156.350006\n",
       "2024-03-28  419.962494  63.910000  157.740005\n",
       "\n",
       "[2516 rows x 3 columns]>"
      ]
     },
     "execution_count": 24,
     "metadata": {},
     "output_type": "execute_result"
    }
   ],
   "source": [
    "# get subset\n",
    "\n",
    "assetsSub = assets[stocklist]\n",
    "\n",
    "print('----------------')\n",
    "print('Subset of assets')\n",
    "print('----------------')\n",
    "\n",
    "assetsSub\n",
    "assetsSub.info"
   ]
  },
  {
   "cell_type": "code",
   "execution_count": null,
   "id": "9ce02e47-5048-4c35-930d-5e98179febd3",
   "metadata": {},
   "outputs": [],
   "source": [
    "# optimization\n",
    "\n",
    "\n",
    "\n",
    "\n"
   ]
  }
 ],
 "metadata": {
  "kernelspec": {
   "display_name": "Python 3 (ipykernel)",
   "language": "python",
   "name": "python3"
  },
  "language_info": {
   "codemirror_mode": {
    "name": "ipython",
    "version": 3
   },
   "file_extension": ".py",
   "mimetype": "text/x-python",
   "name": "python",
   "nbconvert_exporter": "python",
   "pygments_lexer": "ipython3",
   "version": "3.11.0"
  }
 },
 "nbformat": 4,
 "nbformat_minor": 5
}
