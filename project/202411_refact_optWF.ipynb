{
 "cells": [
  {
   "cell_type": "markdown",
   "id": "2c0e93f2-6df9-4cbf-b2f9-ebba24df520d",
   "metadata": {},
   "source": [
    "# A Test Case for Refactoring a Basic Portfolio Optimization Workflow\n",
    "\n",
    "We recreated a basic portfolio optimization workflow from \n",
    "functions that will eventually be called from an automated pipeline.\n",
    "Then compared to a past project using assets from the \n",
    "S&P 500 to ensure proper implimentation. \n",
    "We then replaced the current statistical estimators,\n",
    "which assume a normal distribution, \n",
    "with robust estimators like those used in past projects through 202410-202411.\n",
    "Finally we considered a slight variation that uses a bayesian approch \n",
    "to incorperate expectations derived from other sources.\n",
    "Eventaully the functions called here will become a key part of the \n",
    "inital Condor Funds web-based minimally viable prototype.\n",
    "\n",
    "The goal here is to identify:\n",
    "* create seperate functions to support a basic portfolio optimization workflow\n",
    "* call them from this project to comapre against a past project to ensure concistancy\n",
    "* add alternate stratagies from past projects and compare\n",
    "* add portfolio class and asset specific stat meta props\n",
    "* add an alternate bayesian optimization approch and compare \n",
    "\n",
    "### *Notice*\n",
    "*We stress that none of our Jupyter Notebook projects are to be considered final and of publication quality unless otherwise stated. We also provide no warranty or guarantee of any kind. These projects are meant for testing code and learning concepts in a transparent, and often evolving manner. If new methodologies, stratagies or fundamental understandings are applied in the future, they will most likely be explored in future projects. For transparency and documentation, old projects will not be removed but instead will be deprecated (and clearly marked as such). Look for updates on GitHub https://github.com/Rtasseff/condor_test/tree/main/project*\n",
    "\n",
    "## Setup"
   ]
  },
  {
   "cell_type": "code",
   "execution_count": 1,
   "id": "19a586e7-cc0a-49f7-8c19-068425dd0c1d",
   "metadata": {
    "scrolled": true
   },
   "outputs": [],
   "source": [
    "# data set\n",
    "datasetName = 'sp500_combined.csv'\n",
    "\n",
    "# Paths\n",
    "\n",
    "# Analytics dir path *USER SET*\n",
    "analyticsDir = '/Users/rtasseff/projects/condor_test/analytics'\n",
    "# Data dir path *USER SET*\n",
    "dataDir = '/Users/rtasseff/projects/tmp/data_analytics_v1'\n",
    "import sys\n",
    "# adding analytics to the system path\n",
    "sys.path.insert(0, analyticsDir)\n",
    "\n",
    "from data_mining import load\n",
    "from functions import genStats\n",
    "from functions import genFin\n",
    "from functions import assetPreassess as apa\n",
    "from functions import utils\n",
    "from functions import portOpt as po\n",
    "from classes import CondorCoreObs as condor\n",
    "\n",
    "\n",
    "import numpy as np\n",
    "import matplotlib.pyplot as plt\n",
    "import plotly.graph_objects as go\n",
    "import pandas as pd\n",
    "\n"
   ]
  },
  {
   "cell_type": "markdown",
   "id": "b0cf5b18-acce-4d4a-8b4f-241395414e61",
   "metadata": {},
   "source": [
    "## Background \n",
    "\n",
    "Educational Source:\n",
    "https://ocw.mit.edu/courses/15-401-finance-theory-i-fall-2008/dd628e151309a7f23962b1a31b9356e5_MIT15_401F08_lec13.pdf\n",
    "\n",
    "*** need to review all text ***\n",
    "Modern Portfolio Theory (MPT) is a concept in Finance that describes ways of diversifying and allocating assets in a financial portfolio in order to maximize the portfolio's expected return given the owner's risk tolerance. American economist Harry Markowitz first introduced MPT in a 1952 paper. The theory was intended to eliminate ideosyncratic risk, which is the risk inherent in a particular investment due to its unique characteristics.\n",
    "\n",
    "*** At some point want to stress that mathmatically we ae using volitility as a statistical measure for 'risk', but the use of risk has some implied meaning that is not covered by this analysis. then further expand on what it might mean in a later example ***\n",
    "\n",
    "A key component of this framework is diversification. When using MPT, an investor bundles different types of investments together so that when some of the securities fall in value, other securities rise in equal amount. Thus, the overall portfolio stays even but as markets rise overall, the portfolio rises along with the market's inside tide.\n",
    "\n",
    "MPT argues that any given investment's risk and return characteristics should not be viewed alone but evaluated by how it affects the overall portfolio's risk and return. That is, an investor can construct a portfolio of multiple assets that will result in greater returns without a higher level of risk. As an alternative, starting with a desired level of expected return, the investor can construct a portfolio with the lowest possible risk that is capable of producing that return.\n",
    "\n",
    "MPT uses precise financial mathematics to carefully construct the portfolio. The steps involved included:\n",
    "1. portfolio selection - valuing and choosing the securities that might be included in the portfolio;\n",
    "2. portfolio optimization - calculating the optimal allocation, or percentage, for each of the selected assets (i.e. choosing the right mix of assets to maximize return and/or minimize risk);\n",
    "3. portfolio rebalancing - after the portfolio is implimented (i.e. assets are purchased) the value of individual assets will change over time and the holdings of various assets will need to be decreased or increased to ensure the original allocation (i.e. to maintain the correct overall percentage of each asset); \n",
    "4. portfolio reallocation - periodically it is important to check on the behaviour of individual assets as changes to the asset allocations may needed.\n",
    "\n",
    "*** Went off on a tangent here, need to focus this ***\n",
    "In the analysis here, we focused on step (2). Other steps will be convered in future projects and Condor Funds materials. It is worth pointing out that step (4) is of important practicale concern. Since the analysis here is enterly dependant on historical data, future events may change the statistical estiamtes of this data as they ocurr. In addition, there are many other market factors to consider for investment choices. The importance of these factors depends on the preferences of the individual investor. In particular, the time-frame for investment and the size (number of different assets) of the portfolio impact the liklyhood that observed returns and risks mirror historical ones. Longer investment time-frames and bigger portfolios (e.g. a 'buy-and-hold' straetegy over 10+ years on a well diversifed portfolio) allow for noise and abnormal events to smooth out, or correct themselves, over time. In these cases, reallocation could be done by simply repeating step (2). Shorter time frames (e.g. < 5 years) become increasingly reliant on other market insights not considered here. Of course there is no guarentee on any time-frame, as past performance does not always mean future results. For example, a new technology could drive a once strong company into bankruptcy over the course of a decade. In this case there would be no chance of recovery over time. However, there are stratagies accessible to even novice investors for periodically (sometimes without effort) repeating step (1) as well, but these will not be discussed here. \n",
    "\n",
    "\n",
    "Valuing the securities that might be included in the portfolio.\n",
    "Calculating the desired asset allocation, that is, the mix of assets.\n",
    "Performing calculations to optimize the portfolio to get the maximum amount of return for the minimum amount of risk.\n",
    "Using financial analysis to monitor the portfolio to see if it meets expectations and then making changes to the individual securities or asset mix when market warrant a change.\n",
    "An important consideration in MPT is that based on statistical measures such as variance and correlation, a single investment's performance is less important than how it impacts the entire portfolio.\n",
    "\n",
    "MPT also assumes that investors are risk-averse, meaning that they prefer a less risky portfolio to a riskier one for a given level of return. As a practical matter, risk aversion implies that most people should invest in multiple asset classes (stocks, bonds, commodities, cash equivalents or cryptocurrencies for example).\n",
    "\n",
    "## Data"
   ]
  },
  {
   "cell_type": "code",
   "execution_count": 2,
   "id": "1ef5e904-703e-469e-b045-96b33f79ce0e",
   "metadata": {},
   "outputs": [
    {
     "name": "stdout",
     "output_type": "stream",
     "text": [
      "Full data set of assets\n"
     ]
    },
    {
     "data": {
      "text/plain": [
       "<bound method DataFrame.info of Symbol               A        AAL        AAPL        ABBV        ABNB  \\\n",
       "Date                                                                    \n",
       "2014-04-01   36.972244  35.767616   17.015982   34.212463         NaN   \n",
       "2014-04-02   37.175602  35.550785   17.044250   35.026749         NaN   \n",
       "2014-04-03   37.129684  35.201973   16.926130   35.131809         NaN   \n",
       "2014-04-04   36.454021  34.466633   16.707170   34.278126         NaN   \n",
       "2014-04-07   35.653683  33.731285   16.444855   33.240589         NaN   \n",
       "...                ...        ...         ...         ...         ...   \n",
       "2024-03-22  147.210846  14.820000  172.046646  176.798874  167.860001   \n",
       "2024-03-25  145.323914  14.920000  170.618591  176.878128  167.990005   \n",
       "2024-03-26  144.175781  14.920000  169.480133  177.532028  167.389999   \n",
       "2024-03-27  147.130981  15.300000  173.075241  178.681305  166.410004   \n",
       "2024-03-28  145.273987  15.350000  171.247726  180.415100  164.960007   \n",
       "\n",
       "Symbol             ABT       ACGL         ACN        ADBE         ADI  ...  \\\n",
       "Date                                                                   ...   \n",
       "2014-04-01   31.586086  19.070000   66.292648   65.930000   43.509895  ...   \n",
       "2014-04-02   31.676416  19.033333   66.667702   65.480003   43.493805  ...   \n",
       "2014-04-03   31.733900  19.053333   66.134285   62.450001   43.429455  ...   \n",
       "2014-04-04   31.717468  18.926666   65.125809   61.320000   42.576618  ...   \n",
       "2014-04-07   31.339781  18.643333   65.742561   60.470001   42.737541  ...   \n",
       "...                ...        ...         ...         ...         ...  ...   \n",
       "2024-03-22  110.024338  90.680000  336.198242  499.519989  193.509995  ...   \n",
       "2024-03-25  109.467110  90.989998  332.532440  507.230011  190.630005  ...   \n",
       "2024-03-26  110.949753  90.589996  335.092529  507.600006  188.960007  ...   \n",
       "2024-03-27  112.919983  91.480003  339.624969  504.399994  193.330002  ...   \n",
       "2024-03-28  113.099098  92.440002  345.273071  504.600006  197.789993  ...   \n",
       "\n",
       "Symbol             WTW         WY        WYNN        XEL         XOM  \\\n",
       "Date                                                                   \n",
       "2014-04-01   98.896851  19.938574  193.241638  22.083103   62.915455   \n",
       "2014-04-02   98.516464  19.724396  193.479767  22.046623   63.057087   \n",
       "2014-04-03   98.784973  19.911802  189.107605  22.090393   63.044197   \n",
       "2014-04-04   97.599121  19.811403  181.724304  22.367619   62.677242   \n",
       "2014-04-07   96.189491  19.416512  179.232040  22.272781   62.303886   \n",
       "...                ...        ...         ...        ...         ...   \n",
       "2024-03-22  272.332977  35.610001   99.889999  52.270000  112.575607   \n",
       "2024-03-25  272.841339  35.490002   99.410004  52.480000  113.726265   \n",
       "2024-03-26  273.260010  35.450001  100.580002  51.799999  112.873192   \n",
       "2024-03-27  275.920013  35.930000  101.790001  53.380001  114.043686   \n",
       "2024-03-28  275.000000  35.910000  102.230003  53.750000  115.303452   \n",
       "\n",
       "Symbol             XYL         YUM         ZBH        ZBRA         ZTS  \n",
       "Date                                                                    \n",
       "2014-04-01   32.646675   45.210091   85.481316   69.580002   27.247137  \n",
       "2014-04-02   33.191513   45.834221   86.611343   69.730003   27.497793  \n",
       "2014-04-03   32.752136   45.435974   87.867012   69.519997   27.497793  \n",
       "2014-04-04   32.778488   44.841564   86.701050   68.220001   27.219286  \n",
       "2014-04-07   31.970026   44.716743   85.068726   67.669998   26.922215  \n",
       "...                ...         ...         ...         ...         ...  \n",
       "2024-03-22  129.210007  136.229996  126.961258  291.440002  168.419785  \n",
       "2024-03-25  127.760002  134.619995  127.669930  297.940002  167.332886  \n",
       "2024-03-26  127.900002  134.800003  127.630005  291.380005  165.198959  \n",
       "2024-03-27  129.380005  137.320007  132.610001  299.160004  168.030884  \n",
       "2024-03-28  129.240005  138.649994  131.979996  301.440002  168.728912  \n",
       "\n",
       "[2516 rows x 499 columns]>"
      ]
     },
     "execution_count": 2,
     "metadata": {},
     "output_type": "execute_result"
    }
   ],
   "source": [
    "# Read saved date base\n",
    "\n",
    "\n",
    "# get all data\n",
    "assets = load.multiAssetHist_CSV(dataDir+'/'+datasetName)\n",
    "print('Full data set of assets')\n",
    "assets\n",
    "assets.info\n"
   ]
  },
  {
   "cell_type": "code",
   "execution_count": 3,
   "id": "d27bb9a4-1f63-4739-887b-c4959deaf348",
   "metadata": {},
   "outputs": [
    {
     "name": "stdout",
     "output_type": "stream",
     "text": [
      "----------------\n",
      "Subset of assets\n",
      "----------------\n",
      "\n",
      "- Prices:\n",
      "[[ 35.0114975   18.32213402  78.05315399]\n",
      " [ 34.95233917  18.16374969  78.28272247]\n",
      " [ 34.6649437   18.27191544  78.07941437]\n",
      " ...\n",
      " [420.89080811  61.43000031 155.27000427]\n",
      " [420.67120361  63.79000092 156.3500061 ]\n",
      " [419.9624939   63.90999985 157.74000549]]\n",
      "\n",
      "- Dates:\n",
      "['2014-04-01T00:00:00.000000000' '2014-04-02T00:00:00.000000000'\n",
      " '2014-04-03T00:00:00.000000000' ... '2024-03-26T00:00:00.000000000'\n",
      " '2024-03-27T00:00:00.000000000' '2024-03-28T00:00:00.000000000']\n",
      "\n",
      "- Symbols:\n",
      "['MSFT' 'NEE' 'CVX']\n"
     ]
    }
   ],
   "source": [
    "# get subset\n",
    "\n",
    "# select stocks of interest by symbol list *USER SET*\n",
    "stocklist = [\"MSFT\", \"NEE\", \"CVX\"]\n",
    "\n",
    "assetsSub = assets[stocklist]\n",
    "\n",
    "print('----------------')\n",
    "print('Subset of assets')\n",
    "print('----------------')\n",
    "\n",
    "assetsSub.head()\n",
    "\n",
    "prices, dates, syms = load.df2np(assetsSub)\n",
    "\n",
    "print('')\n",
    "print('- Prices:')\n",
    "print(prices)\n",
    "\n",
    "print('')\n",
    "print('- Dates:')\n",
    "print(dates)\n",
    "\n",
    "print('')\n",
    "print('- Symbols:')\n",
    "print(syms)"
   ]
  },
  {
   "cell_type": "code",
   "execution_count": 4,
   "id": "9ce02e47-5048-4c35-930d-5e98179febd3",
   "metadata": {},
   "outputs": [
    {
     "name": "stdout",
     "output_type": "stream",
     "text": [
      "-0.0016911120634433268\n",
      "[[-0.00169111 -0.00868201  0.00293686]\n",
      " [-0.00825649  0.00593737 -0.00260048]\n",
      " [-0.02819188  0.00432457 -0.00201845]\n",
      " ...\n",
      " [-0.00286558 -0.0190267  -0.00769874]\n",
      " [-0.0005219   0.03769813  0.00693156]\n",
      " [-0.00168613  0.00187939  0.00885102]]\n",
      "[0.00098787 0.00049677 0.00027974]\n",
      "[0.00028903 0.00022456 0.00035058]\n",
      "['2014-04-02T00:00:00.000000000' '2014-04-03T00:00:00.000000000'\n",
      " '2014-04-04T00:00:00.000000000' ... '2024-03-26T00:00:00.000000000'\n",
      " '2024-03-27T00:00:00.000000000' '2024-03-28T00:00:00.000000000']\n",
      "2515\n"
     ]
    },
    {
     "data": {
      "text/plain": [
       "'RTasseff reviewed code and found differences this, and an old code example.\\nIn old example code all rows containing nan values were removed, \\nwhich removes data for all symbols for that date if one symbol has nan.\\nOne example of a major impact this has is that Air BnB was added in 2023.\\nSo there are nans for ABNB for all times before 2023.\\nA direct comparision to the new workflow could not be made.\\nWe decided against rewriting anything here or there for the sole purpose of \\ncomparision.\\nThe old code was only used as an example of the method,\\nno actianable analysis was ever done or planned, it was just a learning example.\\nWe see no reason to spend more time on it.\\nWe did some hand spot checking on the returned values here.\\nOne example is shown.  \\nMore were done in ipython, manually, but not shown here.\\nWe determined this plus previous tests was sufficent to continue.\\n'"
      ]
     },
     "execution_count": 4,
     "metadata": {},
     "output_type": "execute_result"
    }
   ],
   "source": [
    "# optimization\n",
    "\n",
    "# compare against old results\n",
    "period=1\n",
    "returns = genFin.returns(prices,period=period,metric='Log')\n",
    "# use for spot check\n",
    "print(np.log(34.95233917/35.0114975))\n",
    "print(returns)\n",
    "returnDates = dates[period:]\n",
    "\n",
    "returnExps, returnDisps = genFin.calc_return_prop(returns,'Normal')\n",
    "\n",
    "print(returnExps)\n",
    "print(returnDisps**2)\n",
    "print(returnDates)\n",
    "print(len(returns))\n",
    "\n",
    "\"\"\"RTasseff reviewed code and found differences this, and an old code example.\n",
    "In old example code all rows containing nan values were removed, \n",
    "which removes data for all symbols for that date if one symbol has nan.\n",
    "One example of a major impact this has is that Air BnB was added in 2023.\n",
    "So there are nans for ABNB for all times before 2023.\n",
    "A direct comparision to the new workflow could not be made.\n",
    "We decided against rewriting anything here or there for the sole purpose of \n",
    "comparision.\n",
    "The old code was only used as an example of the method,\n",
    "no actianable analysis was ever done or planned, it was just a learning example.\n",
    "We see no reason to spend more time on it.\n",
    "We did some hand spot checking on the returned values here.\n",
    "One example is shown.  \n",
    "More were done in ipython, manually, but not shown here.\n",
    "We determined this plus previous tests was sufficent to continue.\n",
    "\"\"\""
   ]
  },
  {
   "cell_type": "code",
   "execution_count": 5,
   "id": "9b4eff54-3211-4478-baa8-849bbb2281ae",
   "metadata": {},
   "outputs": [
    {
     "name": "stdout",
     "output_type": "stream",
     "text": [
      "Expected Returns\n",
      "[0.02116498 0.01326033 0.00917267]\n",
      "Dispersion in Returns\n",
      "[0.06209538 0.05969037 0.08650711]\n",
      "Variation in Returns\n",
      "[0.00385584 0.00356294 0.00748348]\n",
      "Co-Variation in Returns\n",
      "[[0.00388693 0.00169858 0.00162529]\n",
      " [0.00169858 0.00359167 0.00116302]\n",
      " [0.00162529 0.00116302 0.00754383]]\n"
     ]
    }
   ],
   "source": [
    "import plotly.graph_objects as go\n",
    "\n",
    "# calc need stat props\n",
    "\n",
    "# set from 202411_apa_SP500\n",
    "month=21\n",
    "sampInt=20\n",
    "\n",
    "\n",
    "returns = genFin.returns(prices,month,'Relative')\n",
    "returnDates = dates[month:]\n",
    "\n",
    "# get sampling subset\n",
    "inds = np.arange(0,len(returns),sampInt)\n",
    "returns_samp = returns[inds]\n",
    "returnDates_samp = returnDates[inds]\n",
    "\n",
    "returnExps, returnDisps = genFin.calc_return_prop(returns_samp,'Normal')\n",
    "returnCoDispsSq = genFin.returnCoDispSq(returns_samp,'Normal')\n",
    "print('Expected Returns')\n",
    "print(returnExps)\n",
    "print('Dispersion in Returns')\n",
    "print(returnDisps) # this should be very near the diagonal of the codispssq\n",
    "print('Variation in Returns')\n",
    "print(returnDisps**2) # this should be very near the diagonal of the codispssq\n",
    "print('Co-Variation in Returns')\n",
    "print(returnCoDispsSq)\n"
   ]
  },
  {
   "cell_type": "code",
   "execution_count": 6,
   "id": "5ad13be6-f441-4734-969f-753ae1f133a4",
   "metadata": {
    "scrolled": true
   },
   "outputs": [
    {
     "name": "stdout",
     "output_type": "stream",
     "text": [
      "-- Portfolio Props, Monthly --\n",
      "0.014532659735113574\n",
      "0.05163569059196007\n",
      "-- Portfolio Props, Annualized --\n",
      "0.1743919168213629\n",
      "0.17887127917836224\n",
      "-- Portfolio Props, Errors --\n",
      "Weights in w do not add to one: 1.00001\n",
      "operands could not be broadcast together with shapes (3,) (4,) \n",
      "-- Sharpe Ratio --\n",
      "-0.2814460224799701\n",
      "-0.9749576210469613\n",
      "-0.7513331231189633\n",
      "-- Optimize Sharpe Ratio --\n",
      " message: Optimization terminated successfully\n",
      " success: True\n",
      "  status: 0\n",
      "     fun: -0.3476977020135474\n",
      "       x: [ 7.737e-01  2.263e-01  0.000e+00]\n",
      "     nit: 6\n",
      "     jac: [-5.855e-05  2.001e-04  5.658e-03]\n",
      "    nfev: 24\n",
      "    njev: 6\n",
      " message: Optimization terminated successfully\n",
      " success: True\n",
      "  status: 0\n",
      "     fun: -1.0004203601042256\n",
      "       x: [ 8.503e-01  1.497e-01  9.541e-18]\n",
      "     nit: 5\n",
      "     jac: [-2.003e-01 -2.002e-01 -8.275e-02]\n",
      "    nfev: 20\n",
      "    njev: 5\n",
      "weights max SR\n",
      "[8.50300680e-01 1.49699320e-01 9.54097912e-18]\n",
      "-- Optimize Dispersion --\n",
      " message: Optimization terminated successfully\n",
      " success: True\n",
      "  status: 0\n",
      "     fun: 0.049739259694189915\n",
      "       x: [ 3.594e-01  4.592e-01  1.814e-01]\n",
      "     nit: 9\n",
      "     jac: [ 4.969e-02  4.968e-02  4.999e-02]\n",
      "    nfev: 36\n",
      "    njev: 9\n",
      " message: Optimization terminated successfully\n",
      " success: True\n",
      "  status: 0\n",
      "     fun: 0.17230113829500904\n",
      "       x: [ 3.600e-01  4.595e-01  1.805e-01]\n",
      "     nit: 7\n",
      "     jac: [ 1.722e-01  1.721e-01  1.728e-01]\n",
      "    nfev: 28\n",
      "    njev: 7\n",
      "weights min disp\n",
      "[0.36001785 0.45950151 0.18048064]\n",
      "0.05163569059196007\n",
      "0.17887127917836224\n",
      "-- Optimize for a return--\n",
      " message: Optimization terminated successfully\n",
      " success: True\n",
      "  status: 0\n",
      "     fun: 0.17327423947329038\n",
      "       x: [ 2.737e-01  5.083e-01  2.180e-01]\n",
      "     nit: 4\n",
      "     jac: [ 1.580e-01  1.762e-01  1.857e-01]\n",
      "    nfev: 16\n",
      "    njev: 4\n",
      " message: Optimization terminated successfully\n",
      " success: True\n",
      "  status: 0\n",
      "     fun: 0.3007302206778418\n",
      "       x: [ 0.000e+00  5.703e-04  9.994e-01]\n",
      "     nit: 2\n",
      "     jac: [ 6.486e-02  4.646e-02  3.009e-01]\n",
      "    nfev: 8\n",
      "    njev: 2\n"
     ]
    }
   ],
   "source": [
    "# -- testing new functions for opt --\n",
    "\n",
    "# get portfolio properties\n",
    "m = len(returnExps)\n",
    "w = np.ones(m) * (1/m)\n",
    "returnExp_port, returnDisp_port = genFin.asset_set_perform(w, returnExps, returnCoDispsSq)\n",
    "\n",
    "# mannual spot check with above\n",
    "print('-- Portfolio Props, Monthly --')\n",
    "print(returnExp_port)\n",
    "print(returnDisp_port)\n",
    "\n",
    "# returns are calculated on monthly basis so use this \n",
    "returnExp_port, returnDisp_port = genFin.asset_set_perform(w, returnExps, returnCoDispsSq, annualizeBy='M')\n",
    "\n",
    "# mannual spot check with above\n",
    "print('-- Portfolio Props, Annualized --')\n",
    "print(returnExp_port)\n",
    "print(returnDisp_port)\n",
    "\n",
    "# test to capture errors\n",
    "print('-- Portfolio Props, Errors --')\n",
    "\n",
    "# catch weight error\n",
    "w = np.array([.9,.1,.00001])\n",
    "try:\n",
    "    returnExp_port, returnDisp_port = genFin.asset_set_perform(w, returnExps, returnCoDispsSq)\n",
    "except Exception as exc:\n",
    "    print(exc)\n",
    "\n",
    "# size mis match\n",
    "w = np.ones(m+1) * (1/(m+1))\n",
    "try:\n",
    "    returnExp_port, returnDisp_port = genFin.asset_set_perform(w, returnExps, returnCoDispsSq)\n",
    "except Exception as exc:\n",
    "    print(exc)\n",
    "\n",
    "\n",
    "\n",
    "\n",
    "# Function to calculate negative Sharpe ratio\n",
    "w = np.ones(m) * (1/m)\n",
    "sr = genFin.asset_set_neg_sharpe_ratio(w, returnExps, returnCoDispsSq)\n",
    "print('-- Sharpe Ratio --')\n",
    "print(sr)\n",
    "sr = genFin.asset_set_neg_sharpe_ratio(w, returnExps, returnCoDispsSq, annualizeBy='M')\n",
    "print(sr)\n",
    "sr = genFin.asset_set_neg_sharpe_ratio(w, returnExps, returnCoDispsSq, riskFreeRate=.04, annualizeBy='M')\n",
    "print(sr)\n",
    "\n",
    "\n",
    "# Function to maximize Sharpe ratio\n",
    "print('-- Optimize Sharpe Ratio --')\n",
    "optResults = po.max_sharpe_ratio(returnExps, returnCoDispsSq, riskFreeRate=0)\n",
    "print(optResults)\n",
    "optResults = po.max_sharpe_ratio(returnExps, returnCoDispsSq, riskFreeRate=.04,annualizeBy='M')\n",
    "print(optResults)\n",
    "\n",
    "# store solutions for later\n",
    "wSRMax = optResults['x']\n",
    "print('weights max SR')\n",
    "print(wSRMax)\n",
    "allocationSRMax = pd.DataFrame(100*np.round(wSRMax,2),index=syms,columns=[\"allocation\"])\n",
    "returnSRMax, dispSRMax = genFin.asset_set_perform(wSRMax, returnExps, returnCoDispsSq, annualizeBy='M')\n",
    "\n",
    "\"\"\"did manual sanity check on output.\n",
    "mostly MSFT as it had the best returns\n",
    "NEE had slightly lower retunrs but the variance was slightly lower\n",
    "and the correlation was only moderate, thus some NEE was included\n",
    "CVX was basically not included as it had low returns and high variation\n",
    "and the variation was not negative.\n",
    "\n",
    "We should note that we have made a trade off \n",
    "technically the comparision of assets should fully include the exact same \n",
    "time frame.\n",
    "That is the returns and the variance for all asset use the exact same set of \n",
    "time points.\n",
    "However, this may not always be the case since we deal with missing \n",
    "variables pairwise and not in totality.\n",
    "That is if one asset has a missing variable \n",
    "we remove that observation from calculating its return and covariances\n",
    "but we do not remove that observation from calulating another assets\n",
    "expected return.\n",
    "We did this to minimize loss of data.  \n",
    "In an extream example of data loss above, we say that the limited \n",
    "data set avalible for one asset, e.g. only a few years of ABNB, \n",
    "could mean that we exclude the vast majority of data for all assets \n",
    "even though most had data. \n",
    "In that example, this mass exclusion meant that we could \n",
    "not have enough data fro a proper sample interval simply \n",
    "because one asset did not have enough.\n",
    "On the outset this seems clear that we want to avoide the case above.\n",
    "And in our code we have.\n",
    "However, there is a notable draw back in an extream case of negative correlation.\n",
    "If asset A and B were perfectly uncorrelated (corr coef = -1)\n",
    "and they both returned positve returns, it would likly be in our interest \n",
    "to have both assets.\n",
    "In fact this is a perfect diversification senario \n",
    "such that holding portfolio A and B can completly remove fluctations \n",
    "that are specific to A or B, which is what MFT is trying to do overall.\n",
    "Since they both have positive returns it means that there is something \n",
    "increasing in value that is not specfici to A or B and that non-systemic thing is \n",
    "what we want to invest in.\n",
    "It could be overal economic health and/or industry specific health,\n",
    "but the fact that it is large than one company, is why it is less risky \n",
    "numerically less risky because we, by purpose, reduce the variation \n",
    "and more generally as one 2 independent companies are less likly to \n",
    "experiance sudden and extream loss compared to one company alone.\n",
    "However, this only works if the negative corealation and \n",
    "the positive expected return are calculated on the exact same time frame.\n",
    "That is we get positive returns in both over the same observations that\n",
    "they are varing oppositly.\n",
    "If there was an odd situation in which A had been around for a long time\n",
    "and until recently did well,\n",
    "but recently it did very poorly with -x returns.\n",
    "Where as B only started recently and did well with +x returns.\n",
    "Maybe B is making only money from otherwise A oppertunities.\n",
    "Then a situation would arrise where A has an expected positive return y\n",
    "despite its recent losses because of it long positve history.\n",
    "But there are not the returns that yeldied the negative corelation \n",
    "as it can only be calculated for the recent history in which B existed.\n",
    "If the overall trend of A holds, as well as the recent neg correlation \n",
    "then that is fine, but if the recent trend holds completly \n",
    "then the returns will be closer to -x. \n",
    "In this case the perfect neg cross corelation just means one \n",
    "companies losses and gains earase the others and you are left with \n",
    "0 return (no loss but no gain).\n",
    "This is the case Where A is just being replaced by B.\n",
    "We are allowing this as it is an extreme outlier case.\n",
    "And, if one specific asset was so severly comprimised (lots of missing data)\n",
    "the pipeline would have already thrown a flag alerting the user that \n",
    "this asset will comprimise the statistical asset.\n",
    "We either hurt the analysis by minimizing the data avalible \n",
    "with loss of statistical power or by hurting the analysis fundementals.\n",
    "We need to add an option to min data for more conservitive estimates.\n",
    "\"\"\"\n",
    "\n",
    "\n",
    "# Function to minimize portfolio Dispersion\n",
    "print('-- Optimize Dispersion --')\n",
    "\n",
    "optResults = po.min_dispersion(returnExps, returnCoDispsSq)\n",
    "print(optResults)\n",
    "optResults = po.min_dispersion(returnExps, returnCoDispsSq, annualizeBy='M')\n",
    "print(optResults)\n",
    "\n",
    "# store solutions for later\n",
    "wDispMin = optResults['x']\n",
    "returnDispMin, dispDispMin = genFin.asset_set_perform(wDispMin, returnExps, returnCoDispsSq, annualizeBy='M')\n",
    "print('weights min disp')\n",
    "print(wDispMin)\n",
    "allocationDispMin = pd.DataFrame(100*np.round(wDispMin,2),index=syms,columns=[\"allocation\"])\n",
    "\n",
    "print(po._asset_set_disp(w, returnExps, returnCoDispsSq, annualizeBy='None'))\n",
    "print(po._asset_set_disp(w, returnExps, returnCoDispsSq, annualizeBy='M'))\n",
    "\"\"\" Spot checked for sanity,\n",
    "Dispersion is lower than the individuals (see above) \n",
    "some benifit is gained by a combined portfolio beccause they are not perfectly \n",
    "correlated.\n",
    "But you cannot do much better because they are not anit correlated.\n",
    "We also hold the least amount of CVX because it has the highest dispersion.\n",
    "Finally we not that it does not mater if you annualize or not \n",
    "because it is just multipling by the same constant value.\n",
    "The function value changes but the position in weight space does not.\n",
    "The slight difference is just a numerial one.\n",
    "\"\"\"\n",
    "# Function to optimize the portfolio for a target return\n",
    "print('-- Optimize for a return--')\n",
    "# one solution could exist near even weights\n",
    "optResults = po.min_dispersion(returnExps, returnCoDispsSq, returnTarget=0.17439, annualizeBy='M')\n",
    "print(optResults)\n",
    "# one solution could exist near all wieght on worst (third) asset\n",
    "optResults = po.min_dispersion(returnExps, returnCoDispsSq, returnTarget=0.1101, annualizeBy='M')\n",
    "print(optResults)\n",
    "# manual sanity checks confirmed \n",
    "\n"
   ]
  },
  {
   "cell_type": "code",
   "execution_count": 25,
   "id": "9e3e8dde-846f-4527-b0b3-0f9c6286be77",
   "metadata": {
    "scrolled": true
   },
   "outputs": [
    {
     "name": "stdout",
     "output_type": "stream",
     "text": [
      "[0.02116498 0.01326033 0.00917267]\n",
      "0.021164978903819156\n",
      "-- Efficient Frontier --\n",
      "targets\n",
      "[0.18442082 0.19137671 0.19833261 0.2052885  0.21224439 0.21920028\n",
      " 0.22615618 0.23311207 0.24006796 0.24702385 0.25397975]\n",
      "weights\n",
      "[[3.59112966e-01 4.62156243e-01 1.78730790e-01]\n",
      " [4.18969966e-01 4.28355511e-01 1.52674523e-01]\n",
      " [4.78726093e-01 3.94850720e-01 1.26423187e-01]\n",
      " [5.38395584e-01 3.61600099e-01 1.00004317e-01]\n",
      " [5.98014482e-01 3.28497905e-01 7.34876125e-02]\n",
      " [6.57619982e-01 2.95435021e-01 4.69449967e-02]\n",
      " [7.17235339e-01 2.62343218e-01 2.04214434e-02]\n",
      " [7.80006234e-01 2.19993766e-01 0.00000000e+00]\n",
      " [8.53337491e-01 1.46662509e-01 5.55111512e-17]\n",
      " [9.26668748e-01 7.33312523e-02 0.00000000e+00]\n",
      " [1.00000000e+00 6.84620519e-13 6.63234024e-18]]\n",
      "r\n",
      "[0.18442082 0.19137671 0.19833261 0.2052885  0.21224439 0.21920028\n",
      " 0.22615618 0.23311207 0.24006796 0.24702385 0.25397975]\n",
      "d\n",
      "[0.17230124 0.17275059 0.17411488 0.17637274 0.17949039 0.18342398\n",
      " 0.18812234 0.19354424 0.19998473 0.20749737 0.21597032]\n"
     ]
    },
    {
     "data": {
      "application/vnd.plotly.v1+json": {
       "config": {
        "plotlyServerURL": "https://plot.ly"
       },
       "data": [
        {
         "hoverinfo": "text",
         "marker": {
          "color": "gray",
          "line": {
           "color": "black",
           "width": 3
          },
          "size": 14
         },
         "mode": "markers",
         "name": "Assets",
         "text": [
          "MSFT: Return: 25.4% +/- points 21.51 (24.45%)",
          "NEE: Return: 15.91% +/- points 20.68 (37.51%)",
          "CVX: Return: 11.01% +/- points 29.97 (78.59%)"
         ],
         "type": "scatter",
         "x": [
          21.51,
          20.68,
          29.97
         ],
         "y": [
          25.4,
          15.91,
          11.01
         ]
        },
        {
         "hoverinfo": "text",
         "marker": {
          "color": "red",
          "line": {
           "color": "black",
           "width": 3
          },
          "size": 14
         },
         "mode": "markers",
         "name": "Maximum Sharpe Ratio",
         "text": [
          "Return: 23.98% +/- 19.97 points (83.28%)<br>      allocation\nMSFT        85.0\nNEE         15.0\nCVX          0.0"
         ],
         "type": "scatter",
         "x": [
          19.969595899059915
         ],
         "y": [
          23.98
         ]
        },
        {
         "hoverinfo": "text",
         "marker": {
          "color": "green",
          "line": {
           "color": "black",
           "width": 3
          },
          "size": 14
         },
         "mode": "markers",
         "name": "Minimum Volatility",
         "text": [
          "Return: 18.44% +/- 17.23 points (93.43%)<br>      allocation\nMSFT        36.0\nNEE         46.0\nCVX         18.0"
         ],
         "type": "scatter",
         "x": [
          17.230113829500905
         ],
         "y": [
          18.44
         ]
        },
        {
         "hoverinfo": "text",
         "line": {
          "color": "black",
          "dash": "dashdot",
          "width": 3
         },
         "mode": "lines",
         "name": "Efficient Frontier",
         "text": [
          "Return: 18.44% +/- 17.23 points (93.43%)<br>MSFT: 35.91%<br>NEE: 46.22%<br>CVX: 17.87%",
          "Return: 18.51% +/- 17.23 points (93.08%)<br>MSFT: 36.51%<br>NEE: 45.88%<br>CVX: 17.61%",
          "Return: 18.58% +/- 17.23 points (92.74%)<br>MSFT: 37.11%<br>NEE: 45.54%<br>CVX: 17.35%",
          "Return: 18.65% +/- 17.23 points (92.4%)<br>MSFT: 37.71%<br>NEE: 45.2%<br>CVX: 17.09%",
          "Return: 18.72% +/- 17.24 points (92.08%)<br>MSFT: 38.31%<br>NEE: 44.86%<br>CVX: 16.83%",
          "Return: 18.79% +/- 17.24 points (91.76%)<br>MSFT: 38.91%<br>NEE: 44.52%<br>CVX: 16.57%",
          "Return: 18.86% +/- 17.25 points (91.45%)<br>MSFT: 39.5%<br>NEE: 44.18%<br>CVX: 16.31%",
          "Return: 18.93% +/- 17.25 points (91.14%)<br>MSFT: 40.1%<br>NEE: 43.85%<br>CVX: 16.05%",
          "Return: 19.0% +/- 17.26 points (90.84%)<br>MSFT: 40.7%<br>NEE: 43.51%<br>CVX: 15.79%",
          "Return: 19.07% +/- 17.27 points (90.55%)<br>MSFT: 41.3%<br>NEE: 43.17%<br>CVX: 15.53%",
          "Return: 19.14% +/- 17.28 points (90.27%)<br>MSFT: 41.9%<br>NEE: 42.84%<br>CVX: 15.27%",
          "Return: 19.21% +/- 17.28 points (89.99%)<br>MSFT: 42.5%<br>NEE: 42.5%<br>CVX: 15.01%",
          "Return: 19.28% +/- 17.3 points (89.72%)<br>MSFT: 43.09%<br>NEE: 42.16%<br>CVX: 14.74%",
          "Return: 19.35% +/- 17.31 points (89.46%)<br>MSFT: 43.69%<br>NEE: 41.83%<br>CVX: 14.48%",
          "Return: 19.42% +/- 17.32 points (89.2%)<br>MSFT: 44.29%<br>NEE: 41.49%<br>CVX: 14.22%",
          "Return: 19.49% +/- 17.33 points (88.95%)<br>MSFT: 44.89%<br>NEE: 41.16%<br>CVX: 13.96%",
          "Return: 19.56% +/- 17.35 points (88.7%)<br>MSFT: 45.48%<br>NEE: 40.82%<br>CVX: 13.69%",
          "Return: 19.62% +/- 17.36 points (88.47%)<br>MSFT: 46.08%<br>NEE: 40.49%<br>CVX: 13.43%",
          "Return: 19.69% +/- 17.38 points (88.23%)<br>MSFT: 46.68%<br>NEE: 40.15%<br>CVX: 13.17%",
          "Return: 19.76% +/- 17.39 points (88.01%)<br>MSFT: 47.28%<br>NEE: 39.82%<br>CVX: 12.91%",
          "Return: 19.83% +/- 17.41 points (87.79%)<br>MSFT: 47.87%<br>NEE: 39.49%<br>CVX: 12.64%",
          "Return: 19.9% +/- 17.43 points (87.58%)<br>MSFT: 48.47%<br>NEE: 39.15%<br>CVX: 12.38%",
          "Return: 19.97% +/- 17.45 points (87.37%)<br>MSFT: 49.07%<br>NEE: 38.82%<br>CVX: 12.12%",
          "Return: 20.04% +/- 17.47 points (87.17%)<br>MSFT: 49.66%<br>NEE: 38.49%<br>CVX: 11.85%",
          "Return: 20.11% +/- 17.49 points (86.97%)<br>MSFT: 50.26%<br>NEE: 38.15%<br>CVX: 11.59%",
          "Return: 20.18% +/- 17.51 points (86.78%)<br>MSFT: 50.86%<br>NEE: 37.82%<br>CVX: 11.32%",
          "Return: 20.25% +/- 17.54 points (86.6%)<br>MSFT: 51.45%<br>NEE: 37.49%<br>CVX: 11.06%",
          "Return: 20.32% +/- 17.56 points (86.42%)<br>MSFT: 52.05%<br>NEE: 37.16%<br>CVX: 10.79%",
          "Return: 20.39% +/- 17.59 points (86.24%)<br>MSFT: 52.65%<br>NEE: 36.82%<br>CVX: 10.53%",
          "Return: 20.46% +/- 17.61 points (86.08%)<br>MSFT: 53.24%<br>NEE: 36.49%<br>CVX: 10.27%",
          "Return: 20.53% +/- 17.64 points (85.91%)<br>MSFT: 53.84%<br>NEE: 36.16%<br>CVX: 10.0%",
          "Return: 20.6% +/- 17.66 points (85.76%)<br>MSFT: 54.44%<br>NEE: 35.83%<br>CVX: 9.74%",
          "Return: 20.67% +/- 17.69 points (85.61%)<br>MSFT: 55.03%<br>NEE: 35.5%<br>CVX: 9.47%",
          "Return: 20.74% +/- 17.72 points (85.46%)<br>MSFT: 55.63%<br>NEE: 35.17%<br>CVX: 9.21%",
          "Return: 20.81% +/- 17.75 points (85.32%)<br>MSFT: 56.22%<br>NEE: 34.83%<br>CVX: 8.94%",
          "Return: 20.88% +/- 17.78 points (85.18%)<br>MSFT: 56.82%<br>NEE: 34.5%<br>CVX: 8.68%",
          "Return: 20.95% +/- 17.81 points (85.05%)<br>MSFT: 57.42%<br>NEE: 34.17%<br>CVX: 8.41%",
          "Return: 21.02% +/- 17.85 points (84.92%)<br>MSFT: 58.01%<br>NEE: 33.84%<br>CVX: 8.14%",
          "Return: 21.09% +/- 17.88 points (84.8%)<br>MSFT: 58.61%<br>NEE: 33.51%<br>CVX: 7.88%",
          "Return: 21.15% +/- 17.91 points (84.68%)<br>MSFT: 59.21%<br>NEE: 33.18%<br>CVX: 7.61%",
          "Return: 21.22% +/- 17.95 points (84.57%)<br>MSFT: 59.8%<br>NEE: 32.85%<br>CVX: 7.35%",
          "Return: 21.29% +/- 17.98 points (84.46%)<br>MSFT: 60.4%<br>NEE: 32.52%<br>CVX: 7.08%",
          "Return: 21.36% +/- 18.02 points (84.36%)<br>MSFT: 60.99%<br>NEE: 32.19%<br>CVX: 6.82%",
          "Return: 21.43% +/- 18.06 points (84.26%)<br>MSFT: 61.64%<br>NEE: 31.7%<br>CVX: 6.66%",
          "Return: 21.5% +/- 18.1 points (84.16%)<br>MSFT: 62.16%<br>NEE: 31.6%<br>CVX: 6.24%",
          "Return: 21.57% +/- 18.14 points (84.07%)<br>MSFT: 62.68%<br>NEE: 31.5%<br>CVX: 5.82%",
          "Return: 21.64% +/- 18.18 points (83.98%)<br>MSFT: 63.38%<br>NEE: 30.87%<br>CVX: 5.76%",
          "Return: 21.71% +/- 18.22 points (83.9%)<br>MSFT: 63.97%<br>NEE: 30.54%<br>CVX: 5.49%",
          "Return: 21.78% +/- 18.26 points (83.82%)<br>MSFT: 64.57%<br>NEE: 30.2%<br>CVX: 5.23%",
          "Return: 21.85% +/- 18.3 points (83.75%)<br>MSFT: 65.17%<br>NEE: 29.87%<br>CVX: 4.96%",
          "Return: 21.92% +/- 18.34 points (83.68%)<br>MSFT: 65.76%<br>NEE: 29.54%<br>CVX: 4.69%",
          "Return: 21.99% +/- 18.39 points (83.61%)<br>MSFT: 66.36%<br>NEE: 29.21%<br>CVX: 4.43%",
          "Return: 22.06% +/- 18.43 points (83.55%)<br>MSFT: 66.95%<br>NEE: 28.88%<br>CVX: 4.16%",
          "Return: 22.13% +/- 18.48 points (83.49%)<br>MSFT: 67.55%<br>NEE: 28.55%<br>CVX: 3.9%",
          "Return: 22.2% +/- 18.52 points (83.44%)<br>MSFT: 68.15%<br>NEE: 28.22%<br>CVX: 3.63%",
          "Return: 22.27% +/- 18.57 points (83.39%)<br>MSFT: 68.74%<br>NEE: 27.89%<br>CVX: 3.37%",
          "Return: 22.34% +/- 18.62 points (83.34%)<br>MSFT: 69.34%<br>NEE: 27.56%<br>CVX: 3.1%",
          "Return: 22.41% +/- 18.66 points (83.29%)<br>MSFT: 69.94%<br>NEE: 27.23%<br>CVX: 2.84%",
          "Return: 22.48% +/- 18.71 points (83.25%)<br>MSFT: 70.53%<br>NEE: 26.89%<br>CVX: 2.57%",
          "Return: 22.55% +/- 18.76 points (83.22%)<br>MSFT: 71.13%<br>NEE: 26.56%<br>CVX: 2.31%",
          "Return: 22.62% +/- 18.81 points (83.18%)<br>MSFT: 71.72%<br>NEE: 26.23%<br>CVX: 2.04%",
          "Return: 22.69% +/- 18.86 points (83.15%)<br>MSFT: 72.32%<br>NEE: 25.91%<br>CVX: 1.78%",
          "Return: 22.75% +/- 18.91 points (83.13%)<br>MSFT: 72.91%<br>NEE: 25.58%<br>CVX: 1.51%",
          "Return: 22.82% +/- 18.97 points (83.1%)<br>MSFT: 73.51%<br>NEE: 25.25%<br>CVX: 1.24%",
          "Return: 22.89% +/- 19.02 points (83.08%)<br>MSFT: 74.11%<br>NEE: 24.92%<br>CVX: 0.98%",
          "Return: 22.96% +/- 19.07 points (83.06%)<br>MSFT: 74.7%<br>NEE: 24.59%<br>CVX: 0.71%",
          "Return: 23.03% +/- 19.13 points (83.05%)<br>MSFT: 75.3%<br>NEE: 24.25%<br>CVX: 0.45%",
          "Return: 23.1% +/- 19.18 points (83.04%)<br>MSFT: 75.8%<br>NEE: 24.2%<br>CVX: 0.0%",
          "Return: 23.17% +/- 19.24 points (83.03%)<br>MSFT: 76.53%<br>NEE: 23.47%<br>CVX: 0.0%",
          "Return: 23.24% +/- 19.3 points (83.02%)<br>MSFT: 77.27%<br>NEE: 22.73%<br>CVX: 0.0%",
          "Return: 23.31% +/- 19.35 points (83.03%)<br>MSFT: 78.0%<br>NEE: 22.0%<br>CVX: 0.0%",
          "Return: 23.38% +/- 19.41 points (83.03%)<br>MSFT: 78.73%<br>NEE: 21.27%<br>CVX: 0.0%",
          "Return: 23.45% +/- 19.47 points (83.04%)<br>MSFT: 79.47%<br>NEE: 20.53%<br>CVX: 0.0%",
          "Return: 23.52% +/- 19.54 points (83.06%)<br>MSFT: 80.2%<br>NEE: 19.8%<br>CVX: 0.0%",
          "Return: 23.59% +/- 19.6 points (83.08%)<br>MSFT: 80.93%<br>NEE: 19.07%<br>CVX: 0.0%",
          "Return: 23.66% +/- 19.66 points (83.11%)<br>MSFT: 81.67%<br>NEE: 18.33%<br>CVX: 0.0%",
          "Return: 23.73% +/- 19.73 points (83.14%)<br>MSFT: 82.4%<br>NEE: 17.6%<br>CVX: 0.0%",
          "Return: 23.8% +/- 19.79 points (83.17%)<br>MSFT: 83.13%<br>NEE: 16.87%<br>CVX: 0.0%",
          "Return: 23.87% +/- 19.86 points (83.21%)<br>MSFT: 83.87%<br>NEE: 16.13%<br>CVX: 0.0%",
          "Return: 23.94% +/- 19.93 points (83.26%)<br>MSFT: 84.6%<br>NEE: 15.4%<br>CVX: 0.0%",
          "Return: 24.01% +/- 20.0 points (83.3%)<br>MSFT: 85.33%<br>NEE: 14.67%<br>CVX: 0.0%",
          "Return: 24.08% +/- 20.07 points (83.36%)<br>MSFT: 86.07%<br>NEE: 13.93%<br>CVX: 0.0%",
          "Return: 24.15% +/- 20.14 points (83.41%)<br>MSFT: 86.8%<br>NEE: 13.2%<br>CVX: 0.0%",
          "Return: 24.22% +/- 20.21 points (83.47%)<br>MSFT: 87.53%<br>NEE: 12.47%<br>CVX: 0.0%",
          "Return: 24.29% +/- 20.29 points (83.54%)<br>MSFT: 88.27%<br>NEE: 11.73%<br>CVX: 0.0%",
          "Return: 24.35% +/- 20.36 points (83.6%)<br>MSFT: 89.0%<br>NEE: 11.0%<br>CVX: 0.0%",
          "Return: 24.42% +/- 20.44 points (83.68%)<br>MSFT: 89.73%<br>NEE: 10.27%<br>CVX: 0.0%",
          "Return: 24.49% +/- 20.51 points (83.75%)<br>MSFT: 90.47%<br>NEE: 9.53%<br>CVX: 0.0%",
          "Return: 24.56% +/- 20.59 points (83.83%)<br>MSFT: 91.2%<br>NEE: 8.8%<br>CVX: 0.0%",
          "Return: 24.63% +/- 20.67 points (83.91%)<br>MSFT: 91.93%<br>NEE: 8.07%<br>CVX: 0.0%",
          "Return: 24.7% +/- 20.75 points (84.0%)<br>MSFT: 92.67%<br>NEE: 7.33%<br>CVX: 0.0%",
          "Return: 24.77% +/- 20.83 points (84.09%)<br>MSFT: 93.4%<br>NEE: 6.6%<br>CVX: 0.0%",
          "Return: 24.84% +/- 20.91 points (84.18%)<br>MSFT: 94.13%<br>NEE: 5.87%<br>CVX: 0.0%",
          "Return: 24.91% +/- 20.99 points (84.28%)<br>MSFT: 94.87%<br>NEE: 5.13%<br>CVX: 0.0%",
          "Return: 24.98% +/- 21.08 points (84.38%)<br>MSFT: 95.6%<br>NEE: 4.4%<br>CVX: 0.0%",
          "Return: 25.05% +/- 21.16 points (84.48%)<br>MSFT: 96.33%<br>NEE: 3.67%<br>CVX: 0.0%",
          "Return: 25.12% +/- 21.25 points (84.58%)<br>MSFT: 97.07%<br>NEE: 2.93%<br>CVX: 0.0%",
          "Return: 25.19% +/- 21.33 points (84.69%)<br>MSFT: 97.8%<br>NEE: 2.2%<br>CVX: 0.0%",
          "Return: 25.26% +/- 21.42 points (84.8%)<br>MSFT: 98.53%<br>NEE: 1.47%<br>CVX: 0.0%",
          "Return: 25.33% +/- 21.51 points (84.92%)<br>MSFT: 99.27%<br>NEE: 0.73%<br>CVX: 0.0%",
          "Return: 25.4% +/- 21.6 points (85.03%)<br>MSFT: 100.0%<br>NEE: 0.0%<br>CVX: 0.0%"
         ],
         "type": "scatter",
         "x": [
          17.23,
          17.23,
          17.23,
          17.23,
          17.24,
          17.24,
          17.25,
          17.25,
          17.26,
          17.27,
          17.28,
          17.28,
          17.3,
          17.31,
          17.32,
          17.33,
          17.35,
          17.36,
          17.38,
          17.39,
          17.41,
          17.43,
          17.45,
          17.47,
          17.49,
          17.51,
          17.54,
          17.56,
          17.59,
          17.61,
          17.64,
          17.66,
          17.69,
          17.72,
          17.75,
          17.78,
          17.81,
          17.85,
          17.88,
          17.91,
          17.95,
          17.98,
          18.02,
          18.06,
          18.1,
          18.14,
          18.18,
          18.22,
          18.26,
          18.3,
          18.34,
          18.39,
          18.43,
          18.48,
          18.52,
          18.57,
          18.62,
          18.66,
          18.71,
          18.76,
          18.81,
          18.86,
          18.91,
          18.97,
          19.02,
          19.07,
          19.13,
          19.18,
          19.24,
          19.3,
          19.35,
          19.41,
          19.47,
          19.54,
          19.6,
          19.66,
          19.73,
          19.79,
          19.86,
          19.93,
          20,
          20.07,
          20.14,
          20.21,
          20.29,
          20.36,
          20.44,
          20.51,
          20.59,
          20.67,
          20.75,
          20.83,
          20.91,
          20.99,
          21.08,
          21.16,
          21.25,
          21.33,
          21.42,
          21.51,
          21.6
         ],
         "y": [
          18.44,
          18.51,
          18.58,
          18.65,
          18.72,
          18.79,
          18.86,
          18.93,
          19,
          19.07,
          19.14,
          19.21,
          19.28,
          19.35,
          19.42,
          19.49,
          19.56,
          19.62,
          19.69,
          19.76,
          19.83,
          19.9,
          19.97,
          20.04,
          20.11,
          20.18,
          20.25,
          20.32,
          20.39,
          20.46,
          20.53,
          20.6,
          20.67,
          20.74,
          20.81,
          20.88,
          20.95,
          21.02,
          21.09,
          21.15,
          21.22,
          21.29,
          21.36,
          21.43,
          21.5,
          21.57,
          21.64,
          21.71,
          21.78,
          21.85,
          21.92,
          21.99,
          22.06,
          22.13,
          22.2,
          22.27,
          22.34,
          22.41,
          22.48,
          22.55,
          22.62,
          22.69,
          22.75,
          22.82,
          22.89,
          22.96,
          23.03,
          23.1,
          23.17,
          23.24,
          23.31,
          23.38,
          23.45,
          23.52,
          23.59,
          23.66,
          23.73,
          23.8,
          23.87,
          23.94,
          24.01,
          24.08,
          24.15,
          24.22,
          24.29,
          24.35,
          24.42,
          24.49,
          24.56,
          24.63,
          24.7,
          24.77,
          24.84,
          24.91,
          24.98,
          25.05,
          25.12,
          25.19,
          25.26,
          25.33,
          25.4
         ]
        },
        {
         "hoverinfo": "text",
         "marker": {
          "color": "blue",
          "line": {
           "color": "black",
           "width": 3
          },
          "size": 14
         },
         "mode": "markers",
         "name": "Risk-Free Asset",
         "text": "Risk-Free Rate: 4.0%",
         "type": "scatter",
         "x": [
          0
         ],
         "y": [
          4
         ]
        },
        {
         "line": {
          "color": "orange",
          "dash": "dashdot",
          "width": 2
         },
         "mode": "lines",
         "name": "Capital Allocation Line",
         "type": "scatter",
         "x": [
          0,
          19.969595899059915,
          21.59703162726981
         ],
         "y": [
          4,
          23.977990320473385,
          25.60611015773561
         ]
        }
       ],
       "layout": {
        "height": 495,
        "legend": {
         "bgcolor": "#E2E2E2",
         "bordercolor": "black",
         "borderwidth": 2,
         "traceorder": "normal",
         "x": 0,
         "y": 1
        },
        "showlegend": true,
        "template": {
         "data": {
          "bar": [
           {
            "error_x": {
             "color": "#2a3f5f"
            },
            "error_y": {
             "color": "#2a3f5f"
            },
            "marker": {
             "line": {
              "color": "#E5ECF6",
              "width": 0.5
             },
             "pattern": {
              "fillmode": "overlay",
              "size": 10,
              "solidity": 0.2
             }
            },
            "type": "bar"
           }
          ],
          "barpolar": [
           {
            "marker": {
             "line": {
              "color": "#E5ECF6",
              "width": 0.5
             },
             "pattern": {
              "fillmode": "overlay",
              "size": 10,
              "solidity": 0.2
             }
            },
            "type": "barpolar"
           }
          ],
          "carpet": [
           {
            "aaxis": {
             "endlinecolor": "#2a3f5f",
             "gridcolor": "white",
             "linecolor": "white",
             "minorgridcolor": "white",
             "startlinecolor": "#2a3f5f"
            },
            "baxis": {
             "endlinecolor": "#2a3f5f",
             "gridcolor": "white",
             "linecolor": "white",
             "minorgridcolor": "white",
             "startlinecolor": "#2a3f5f"
            },
            "type": "carpet"
           }
          ],
          "choropleth": [
           {
            "colorbar": {
             "outlinewidth": 0,
             "ticks": ""
            },
            "type": "choropleth"
           }
          ],
          "contour": [
           {
            "colorbar": {
             "outlinewidth": 0,
             "ticks": ""
            },
            "colorscale": [
             [
              0,
              "#0d0887"
             ],
             [
              0.1111111111111111,
              "#46039f"
             ],
             [
              0.2222222222222222,
              "#7201a8"
             ],
             [
              0.3333333333333333,
              "#9c179e"
             ],
             [
              0.4444444444444444,
              "#bd3786"
             ],
             [
              0.5555555555555556,
              "#d8576b"
             ],
             [
              0.6666666666666666,
              "#ed7953"
             ],
             [
              0.7777777777777778,
              "#fb9f3a"
             ],
             [
              0.8888888888888888,
              "#fdca26"
             ],
             [
              1,
              "#f0f921"
             ]
            ],
            "type": "contour"
           }
          ],
          "contourcarpet": [
           {
            "colorbar": {
             "outlinewidth": 0,
             "ticks": ""
            },
            "type": "contourcarpet"
           }
          ],
          "heatmap": [
           {
            "colorbar": {
             "outlinewidth": 0,
             "ticks": ""
            },
            "colorscale": [
             [
              0,
              "#0d0887"
             ],
             [
              0.1111111111111111,
              "#46039f"
             ],
             [
              0.2222222222222222,
              "#7201a8"
             ],
             [
              0.3333333333333333,
              "#9c179e"
             ],
             [
              0.4444444444444444,
              "#bd3786"
             ],
             [
              0.5555555555555556,
              "#d8576b"
             ],
             [
              0.6666666666666666,
              "#ed7953"
             ],
             [
              0.7777777777777778,
              "#fb9f3a"
             ],
             [
              0.8888888888888888,
              "#fdca26"
             ],
             [
              1,
              "#f0f921"
             ]
            ],
            "type": "heatmap"
           }
          ],
          "heatmapgl": [
           {
            "colorbar": {
             "outlinewidth": 0,
             "ticks": ""
            },
            "colorscale": [
             [
              0,
              "#0d0887"
             ],
             [
              0.1111111111111111,
              "#46039f"
             ],
             [
              0.2222222222222222,
              "#7201a8"
             ],
             [
              0.3333333333333333,
              "#9c179e"
             ],
             [
              0.4444444444444444,
              "#bd3786"
             ],
             [
              0.5555555555555556,
              "#d8576b"
             ],
             [
              0.6666666666666666,
              "#ed7953"
             ],
             [
              0.7777777777777778,
              "#fb9f3a"
             ],
             [
              0.8888888888888888,
              "#fdca26"
             ],
             [
              1,
              "#f0f921"
             ]
            ],
            "type": "heatmapgl"
           }
          ],
          "histogram": [
           {
            "marker": {
             "pattern": {
              "fillmode": "overlay",
              "size": 10,
              "solidity": 0.2
             }
            },
            "type": "histogram"
           }
          ],
          "histogram2d": [
           {
            "colorbar": {
             "outlinewidth": 0,
             "ticks": ""
            },
            "colorscale": [
             [
              0,
              "#0d0887"
             ],
             [
              0.1111111111111111,
              "#46039f"
             ],
             [
              0.2222222222222222,
              "#7201a8"
             ],
             [
              0.3333333333333333,
              "#9c179e"
             ],
             [
              0.4444444444444444,
              "#bd3786"
             ],
             [
              0.5555555555555556,
              "#d8576b"
             ],
             [
              0.6666666666666666,
              "#ed7953"
             ],
             [
              0.7777777777777778,
              "#fb9f3a"
             ],
             [
              0.8888888888888888,
              "#fdca26"
             ],
             [
              1,
              "#f0f921"
             ]
            ],
            "type": "histogram2d"
           }
          ],
          "histogram2dcontour": [
           {
            "colorbar": {
             "outlinewidth": 0,
             "ticks": ""
            },
            "colorscale": [
             [
              0,
              "#0d0887"
             ],
             [
              0.1111111111111111,
              "#46039f"
             ],
             [
              0.2222222222222222,
              "#7201a8"
             ],
             [
              0.3333333333333333,
              "#9c179e"
             ],
             [
              0.4444444444444444,
              "#bd3786"
             ],
             [
              0.5555555555555556,
              "#d8576b"
             ],
             [
              0.6666666666666666,
              "#ed7953"
             ],
             [
              0.7777777777777778,
              "#fb9f3a"
             ],
             [
              0.8888888888888888,
              "#fdca26"
             ],
             [
              1,
              "#f0f921"
             ]
            ],
            "type": "histogram2dcontour"
           }
          ],
          "mesh3d": [
           {
            "colorbar": {
             "outlinewidth": 0,
             "ticks": ""
            },
            "type": "mesh3d"
           }
          ],
          "parcoords": [
           {
            "line": {
             "colorbar": {
              "outlinewidth": 0,
              "ticks": ""
             }
            },
            "type": "parcoords"
           }
          ],
          "pie": [
           {
            "automargin": true,
            "type": "pie"
           }
          ],
          "scatter": [
           {
            "fillpattern": {
             "fillmode": "overlay",
             "size": 10,
             "solidity": 0.2
            },
            "type": "scatter"
           }
          ],
          "scatter3d": [
           {
            "line": {
             "colorbar": {
              "outlinewidth": 0,
              "ticks": ""
             }
            },
            "marker": {
             "colorbar": {
              "outlinewidth": 0,
              "ticks": ""
             }
            },
            "type": "scatter3d"
           }
          ],
          "scattercarpet": [
           {
            "marker": {
             "colorbar": {
              "outlinewidth": 0,
              "ticks": ""
             }
            },
            "type": "scattercarpet"
           }
          ],
          "scattergeo": [
           {
            "marker": {
             "colorbar": {
              "outlinewidth": 0,
              "ticks": ""
             }
            },
            "type": "scattergeo"
           }
          ],
          "scattergl": [
           {
            "marker": {
             "colorbar": {
              "outlinewidth": 0,
              "ticks": ""
             }
            },
            "type": "scattergl"
           }
          ],
          "scattermapbox": [
           {
            "marker": {
             "colorbar": {
              "outlinewidth": 0,
              "ticks": ""
             }
            },
            "type": "scattermapbox"
           }
          ],
          "scatterpolar": [
           {
            "marker": {
             "colorbar": {
              "outlinewidth": 0,
              "ticks": ""
             }
            },
            "type": "scatterpolar"
           }
          ],
          "scatterpolargl": [
           {
            "marker": {
             "colorbar": {
              "outlinewidth": 0,
              "ticks": ""
             }
            },
            "type": "scatterpolargl"
           }
          ],
          "scatterternary": [
           {
            "marker": {
             "colorbar": {
              "outlinewidth": 0,
              "ticks": ""
             }
            },
            "type": "scatterternary"
           }
          ],
          "surface": [
           {
            "colorbar": {
             "outlinewidth": 0,
             "ticks": ""
            },
            "colorscale": [
             [
              0,
              "#0d0887"
             ],
             [
              0.1111111111111111,
              "#46039f"
             ],
             [
              0.2222222222222222,
              "#7201a8"
             ],
             [
              0.3333333333333333,
              "#9c179e"
             ],
             [
              0.4444444444444444,
              "#bd3786"
             ],
             [
              0.5555555555555556,
              "#d8576b"
             ],
             [
              0.6666666666666666,
              "#ed7953"
             ],
             [
              0.7777777777777778,
              "#fb9f3a"
             ],
             [
              0.8888888888888888,
              "#fdca26"
             ],
             [
              1,
              "#f0f921"
             ]
            ],
            "type": "surface"
           }
          ],
          "table": [
           {
            "cells": {
             "fill": {
              "color": "#EBF0F8"
             },
             "line": {
              "color": "white"
             }
            },
            "header": {
             "fill": {
              "color": "#C8D4E3"
             },
             "line": {
              "color": "white"
             }
            },
            "type": "table"
           }
          ]
         },
         "layout": {
          "annotationdefaults": {
           "arrowcolor": "#2a3f5f",
           "arrowhead": 0,
           "arrowwidth": 1
          },
          "autotypenumbers": "strict",
          "coloraxis": {
           "colorbar": {
            "outlinewidth": 0,
            "ticks": ""
           }
          },
          "colorscale": {
           "diverging": [
            [
             0,
             "#8e0152"
            ],
            [
             0.1,
             "#c51b7d"
            ],
            [
             0.2,
             "#de77ae"
            ],
            [
             0.3,
             "#f1b6da"
            ],
            [
             0.4,
             "#fde0ef"
            ],
            [
             0.5,
             "#f7f7f7"
            ],
            [
             0.6,
             "#e6f5d0"
            ],
            [
             0.7,
             "#b8e186"
            ],
            [
             0.8,
             "#7fbc41"
            ],
            [
             0.9,
             "#4d9221"
            ],
            [
             1,
             "#276419"
            ]
           ],
           "sequential": [
            [
             0,
             "#0d0887"
            ],
            [
             0.1111111111111111,
             "#46039f"
            ],
            [
             0.2222222222222222,
             "#7201a8"
            ],
            [
             0.3333333333333333,
             "#9c179e"
            ],
            [
             0.4444444444444444,
             "#bd3786"
            ],
            [
             0.5555555555555556,
             "#d8576b"
            ],
            [
             0.6666666666666666,
             "#ed7953"
            ],
            [
             0.7777777777777778,
             "#fb9f3a"
            ],
            [
             0.8888888888888888,
             "#fdca26"
            ],
            [
             1,
             "#f0f921"
            ]
           ],
           "sequentialminus": [
            [
             0,
             "#0d0887"
            ],
            [
             0.1111111111111111,
             "#46039f"
            ],
            [
             0.2222222222222222,
             "#7201a8"
            ],
            [
             0.3333333333333333,
             "#9c179e"
            ],
            [
             0.4444444444444444,
             "#bd3786"
            ],
            [
             0.5555555555555556,
             "#d8576b"
            ],
            [
             0.6666666666666666,
             "#ed7953"
            ],
            [
             0.7777777777777778,
             "#fb9f3a"
            ],
            [
             0.8888888888888888,
             "#fdca26"
            ],
            [
             1,
             "#f0f921"
            ]
           ]
          },
          "colorway": [
           "#636efa",
           "#EF553B",
           "#00cc96",
           "#ab63fa",
           "#FFA15A",
           "#19d3f3",
           "#FF6692",
           "#B6E880",
           "#FF97FF",
           "#FECB52"
          ],
          "font": {
           "color": "#2a3f5f"
          },
          "geo": {
           "bgcolor": "white",
           "lakecolor": "white",
           "landcolor": "#E5ECF6",
           "showlakes": true,
           "showland": true,
           "subunitcolor": "white"
          },
          "hoverlabel": {
           "align": "left"
          },
          "hovermode": "closest",
          "mapbox": {
           "style": "light"
          },
          "paper_bgcolor": "white",
          "plot_bgcolor": "#E5ECF6",
          "polar": {
           "angularaxis": {
            "gridcolor": "white",
            "linecolor": "white",
            "ticks": ""
           },
           "bgcolor": "#E5ECF6",
           "radialaxis": {
            "gridcolor": "white",
            "linecolor": "white",
            "ticks": ""
           }
          },
          "scene": {
           "xaxis": {
            "backgroundcolor": "#E5ECF6",
            "gridcolor": "white",
            "gridwidth": 2,
            "linecolor": "white",
            "showbackground": true,
            "ticks": "",
            "zerolinecolor": "white"
           },
           "yaxis": {
            "backgroundcolor": "#E5ECF6",
            "gridcolor": "white",
            "gridwidth": 2,
            "linecolor": "white",
            "showbackground": true,
            "ticks": "",
            "zerolinecolor": "white"
           },
           "zaxis": {
            "backgroundcolor": "#E5ECF6",
            "gridcolor": "white",
            "gridwidth": 2,
            "linecolor": "white",
            "showbackground": true,
            "ticks": "",
            "zerolinecolor": "white"
           }
          },
          "shapedefaults": {
           "line": {
            "color": "#2a3f5f"
           }
          },
          "ternary": {
           "aaxis": {
            "gridcolor": "white",
            "linecolor": "white",
            "ticks": ""
           },
           "baxis": {
            "gridcolor": "white",
            "linecolor": "white",
            "ticks": ""
           },
           "bgcolor": "#E5ECF6",
           "caxis": {
            "gridcolor": "white",
            "linecolor": "white",
            "ticks": ""
           }
          },
          "title": {
           "x": 0.05
          },
          "xaxis": {
           "automargin": true,
           "gridcolor": "white",
           "linecolor": "white",
           "ticks": "",
           "title": {
            "standoff": 15
           },
           "zerolinecolor": "white",
           "zerolinewidth": 2
          },
          "yaxis": {
           "automargin": true,
           "gridcolor": "white",
           "linecolor": "white",
           "ticks": "",
           "title": {
            "standoff": 15
           },
           "zerolinecolor": "white",
           "zerolinewidth": 2
          }
         }
        },
        "title": {
         "text": "Portfolio Optimization with the Efficient Frontier"
        },
        "width": 660,
        "xaxis": {
         "autorange": false,
         "range": [
          -2.1259800249954868,
          31.624466957663465
         ],
         "title": {
          "text": "Annualized Volatility (Points of Return)"
         },
         "type": "linear"
        },
        "yaxis": {
         "autorange": false,
         "range": [
          3.20720965421744,
          33.50689219389998
         ],
         "title": {
          "text": "Annualized Return (%)"
         },
         "type": "linear"
        }
       }
      },
      "image/png": "[encoded data removed]",
      "text/html": [
       "<div>                            <div id=\"4d94d27b-a23c-4491-becd-a048a4ceb65a\" class=\"plotly-graph-div\" style=\"height:495px; width:660px;\"></div>            <script type=\"text/javascript\">                require([\"plotly\"], function(Plotly) {                    window.PLOTLYENV=window.PLOTLYENV || {};                                    if (document.getElementById(\"4d94d27b-a23c-4491-becd-a048a4ceb65a\")) {                    Plotly.newPlot(                        \"4d94d27b-a23c-4491-becd-a048a4ceb65a\",                        [{\"hoverinfo\":\"text\",\"marker\":{\"color\":\"gray\",\"line\":{\"color\":\"black\",\"width\":3},\"size\":14},\"mode\":\"markers\",\"name\":\"Assets\",\"text\":[\"MSFT: Return: 25.4% +\\u002f- points 21.51 (24.45%)\",\"NEE: Return: 15.91% +\\u002f- points 20.68 (37.51%)\",\"CVX: Return: 11.01% +\\u002f- points 29.97 (78.59%)\"],\"x\":[21.51,20.68,29.97],\"y\":[25.4,15.91,11.01],\"type\":\"scatter\"},{\"hoverinfo\":\"text\",\"marker\":{\"color\":\"red\",\"line\":{\"color\":\"black\",\"width\":3},\"size\":14},\"mode\":\"markers\",\"name\":\"Maximum Sharpe Ratio\",\"text\":[\"Return: 23.98% +\\u002f- 19.97 points (83.28%)\\u003cbr\\u003e      allocation\\nMSFT        85.0\\nNEE         15.0\\nCVX          0.0\"],\"x\":[19.969595899059915],\"y\":[23.98],\"type\":\"scatter\"},{\"hoverinfo\":\"text\",\"marker\":{\"color\":\"green\",\"line\":{\"color\":\"black\",\"width\":3},\"size\":14},\"mode\":\"markers\",\"name\":\"Minimum Volatility\",\"text\":[\"Return: 18.44% +\\u002f- 17.23 points (93.43%)\\u003cbr\\u003e      allocation\\nMSFT        36.0\\nNEE         46.0\\nCVX         18.0\"],\"x\":[17.230113829500905],\"y\":[18.44],\"type\":\"scatter\"},{\"hoverinfo\":\"text\",\"line\":{\"color\":\"black\",\"dash\":\"dashdot\",\"width\":3},\"mode\":\"lines\",\"name\":\"Efficient Frontier\",\"text\":[\"Return: 18.44% +\\u002f- 17.23 points (93.43%)\\u003cbr\\u003eMSFT: 35.91%\\u003cbr\\u003eNEE: 46.22%\\u003cbr\\u003eCVX: 17.87%\",\"Return: 18.51% +\\u002f- 17.23 points (93.08%)\\u003cbr\\u003eMSFT: 36.51%\\u003cbr\\u003eNEE: 45.88%\\u003cbr\\u003eCVX: 17.61%\",\"Return: 18.58% +\\u002f- 17.23 points (92.74%)\\u003cbr\\u003eMSFT: 37.11%\\u003cbr\\u003eNEE: 45.54%\\u003cbr\\u003eCVX: 17.35%\",\"Return: 18.65% +\\u002f- 17.23 points (92.4%)\\u003cbr\\u003eMSFT: 37.71%\\u003cbr\\u003eNEE: 45.2%\\u003cbr\\u003eCVX: 17.09%\",\"Return: 18.72% +\\u002f- 17.24 points (92.08%)\\u003cbr\\u003eMSFT: 38.31%\\u003cbr\\u003eNEE: 44.86%\\u003cbr\\u003eCVX: 16.83%\",\"Return: 18.79% +\\u002f- 17.24 points (91.76%)\\u003cbr\\u003eMSFT: 38.91%\\u003cbr\\u003eNEE: 44.52%\\u003cbr\\u003eCVX: 16.57%\",\"Return: 18.86% +\\u002f- 17.25 points (91.45%)\\u003cbr\\u003eMSFT: 39.5%\\u003cbr\\u003eNEE: 44.18%\\u003cbr\\u003eCVX: 16.31%\",\"Return: 18.93% +\\u002f- 17.25 points (91.14%)\\u003cbr\\u003eMSFT: 40.1%\\u003cbr\\u003eNEE: 43.85%\\u003cbr\\u003eCVX: 16.05%\",\"Return: 19.0% +\\u002f- 17.26 points (90.84%)\\u003cbr\\u003eMSFT: 40.7%\\u003cbr\\u003eNEE: 43.51%\\u003cbr\\u003eCVX: 15.79%\",\"Return: 19.07% +\\u002f- 17.27 points (90.55%)\\u003cbr\\u003eMSFT: 41.3%\\u003cbr\\u003eNEE: 43.17%\\u003cbr\\u003eCVX: 15.53%\",\"Return: 19.14% +\\u002f- 17.28 points (90.27%)\\u003cbr\\u003eMSFT: 41.9%\\u003cbr\\u003eNEE: 42.84%\\u003cbr\\u003eCVX: 15.27%\",\"Return: 19.21% +\\u002f- 17.28 points (89.99%)\\u003cbr\\u003eMSFT: 42.5%\\u003cbr\\u003eNEE: 42.5%\\u003cbr\\u003eCVX: 15.01%\",\"Return: 19.28% +\\u002f- 17.3 points (89.72%)\\u003cbr\\u003eMSFT: 43.09%\\u003cbr\\u003eNEE: 42.16%\\u003cbr\\u003eCVX: 14.74%\",\"Return: 19.35% +\\u002f- 17.31 points (89.46%)\\u003cbr\\u003eMSFT: 43.69%\\u003cbr\\u003eNEE: 41.83%\\u003cbr\\u003eCVX: 14.48%\",\"Return: 19.42% +\\u002f- 17.32 points (89.2%)\\u003cbr\\u003eMSFT: 44.29%\\u003cbr\\u003eNEE: 41.49%\\u003cbr\\u003eCVX: 14.22%\",\"Return: 19.49% +\\u002f- 17.33 points (88.95%)\\u003cbr\\u003eMSFT: 44.89%\\u003cbr\\u003eNEE: 41.16%\\u003cbr\\u003eCVX: 13.96%\",\"Return: 19.56% +\\u002f- 17.35 points (88.7%)\\u003cbr\\u003eMSFT: 45.48%\\u003cbr\\u003eNEE: 40.82%\\u003cbr\\u003eCVX: 13.69%\",\"Return: 19.62% +\\u002f- 17.36 points (88.47%)\\u003cbr\\u003eMSFT: 46.08%\\u003cbr\\u003eNEE: 40.49%\\u003cbr\\u003eCVX: 13.43%\",\"Return: 19.69% +\\u002f- 17.38 points (88.23%)\\u003cbr\\u003eMSFT: 46.68%\\u003cbr\\u003eNEE: 40.15%\\u003cbr\\u003eCVX: 13.17%\",\"Return: 19.76% +\\u002f- 17.39 points (88.01%)\\u003cbr\\u003eMSFT: 47.28%\\u003cbr\\u003eNEE: 39.82%\\u003cbr\\u003eCVX: 12.91%\",\"Return: 19.83% +\\u002f- 17.41 points (87.79%)\\u003cbr\\u003eMSFT: 47.87%\\u003cbr\\u003eNEE: 39.49%\\u003cbr\\u003eCVX: 12.64%\",\"Return: 19.9% +\\u002f- 17.43 points (87.58%)\\u003cbr\\u003eMSFT: 48.47%\\u003cbr\\u003eNEE: 39.15%\\u003cbr\\u003eCVX: 12.38%\",\"Return: 19.97% +\\u002f- 17.45 points (87.37%)\\u003cbr\\u003eMSFT: 49.07%\\u003cbr\\u003eNEE: 38.82%\\u003cbr\\u003eCVX: 12.12%\",\"Return: 20.04% +\\u002f- 17.47 points (87.17%)\\u003cbr\\u003eMSFT: 49.66%\\u003cbr\\u003eNEE: 38.49%\\u003cbr\\u003eCVX: 11.85%\",\"Return: 20.11% +\\u002f- 17.49 points (86.97%)\\u003cbr\\u003eMSFT: 50.26%\\u003cbr\\u003eNEE: 38.15%\\u003cbr\\u003eCVX: 11.59%\",\"Return: 20.18% +\\u002f- 17.51 points (86.78%)\\u003cbr\\u003eMSFT: 50.86%\\u003cbr\\u003eNEE: 37.82%\\u003cbr\\u003eCVX: 11.32%\",\"Return: 20.25% +\\u002f- 17.54 points (86.6%)\\u003cbr\\u003eMSFT: 51.45%\\u003cbr\\u003eNEE: 37.49%\\u003cbr\\u003eCVX: 11.06%\",\"Return: 20.32% +\\u002f- 17.56 points (86.42%)\\u003cbr\\u003eMSFT: 52.05%\\u003cbr\\u003eNEE: 37.16%\\u003cbr\\u003eCVX: 10.79%\",\"Return: 20.39% +\\u002f- 17.59 points (86.24%)\\u003cbr\\u003eMSFT: 52.65%\\u003cbr\\u003eNEE: 36.82%\\u003cbr\\u003eCVX: 10.53%\",\"Return: 20.46% +\\u002f- 17.61 points (86.08%)\\u003cbr\\u003eMSFT: 53.24%\\u003cbr\\u003eNEE: 36.49%\\u003cbr\\u003eCVX: 10.27%\",\"Return: 20.53% +\\u002f- 17.64 points (85.91%)\\u003cbr\\u003eMSFT: 53.84%\\u003cbr\\u003eNEE: 36.16%\\u003cbr\\u003eCVX: 10.0%\",\"Return: 20.6% +\\u002f- 17.66 points (85.76%)\\u003cbr\\u003eMSFT: 54.44%\\u003cbr\\u003eNEE: 35.83%\\u003cbr\\u003eCVX: 9.74%\",\"Return: 20.67% +\\u002f- 17.69 points (85.61%)\\u003cbr\\u003eMSFT: 55.03%\\u003cbr\\u003eNEE: 35.5%\\u003cbr\\u003eCVX: 9.47%\",\"Return: 20.74% +\\u002f- 17.72 points (85.46%)\\u003cbr\\u003eMSFT: 55.63%\\u003cbr\\u003eNEE: 35.17%\\u003cbr\\u003eCVX: 9.21%\",\"Return: 20.81% +\\u002f- 17.75 points (85.32%)\\u003cbr\\u003eMSFT: 56.22%\\u003cbr\\u003eNEE: 34.83%\\u003cbr\\u003eCVX: 8.94%\",\"Return: 20.88% +\\u002f- 17.78 points (85.18%)\\u003cbr\\u003eMSFT: 56.82%\\u003cbr\\u003eNEE: 34.5%\\u003cbr\\u003eCVX: 8.68%\",\"Return: 20.95% +\\u002f- 17.81 points (85.05%)\\u003cbr\\u003eMSFT: 57.42%\\u003cbr\\u003eNEE: 34.17%\\u003cbr\\u003eCVX: 8.41%\",\"Return: 21.02% +\\u002f- 17.85 points (84.92%)\\u003cbr\\u003eMSFT: 58.01%\\u003cbr\\u003eNEE: 33.84%\\u003cbr\\u003eCVX: 8.14%\",\"Return: 21.09% +\\u002f- 17.88 points (84.8%)\\u003cbr\\u003eMSFT: 58.61%\\u003cbr\\u003eNEE: 33.51%\\u003cbr\\u003eCVX: 7.88%\",\"Return: 21.15% +\\u002f- 17.91 points (84.68%)\\u003cbr\\u003eMSFT: 59.21%\\u003cbr\\u003eNEE: 33.18%\\u003cbr\\u003eCVX: 7.61%\",\"Return: 21.22% +\\u002f- 17.95 points (84.57%)\\u003cbr\\u003eMSFT: 59.8%\\u003cbr\\u003eNEE: 32.85%\\u003cbr\\u003eCVX: 7.35%\",\"Return: 21.29% +\\u002f- 17.98 points (84.46%)\\u003cbr\\u003eMSFT: 60.4%\\u003cbr\\u003eNEE: 32.52%\\u003cbr\\u003eCVX: 7.08%\",\"Return: 21.36% +\\u002f- 18.02 points (84.36%)\\u003cbr\\u003eMSFT: 60.99%\\u003cbr\\u003eNEE: 32.19%\\u003cbr\\u003eCVX: 6.82%\",\"Return: 21.43% +\\u002f- 18.06 points (84.26%)\\u003cbr\\u003eMSFT: 61.64%\\u003cbr\\u003eNEE: 31.7%\\u003cbr\\u003eCVX: 6.66%\",\"Return: 21.5% +\\u002f- 18.1 points (84.16%)\\u003cbr\\u003eMSFT: 62.16%\\u003cbr\\u003eNEE: 31.6%\\u003cbr\\u003eCVX: 6.24%\",\"Return: 21.57% +\\u002f- 18.14 points (84.07%)\\u003cbr\\u003eMSFT: 62.68%\\u003cbr\\u003eNEE: 31.5%\\u003cbr\\u003eCVX: 5.82%\",\"Return: 21.64% +\\u002f- 18.18 points (83.98%)\\u003cbr\\u003eMSFT: 63.38%\\u003cbr\\u003eNEE: 30.87%\\u003cbr\\u003eCVX: 5.76%\",\"Return: 21.71% +\\u002f- 18.22 points (83.9%)\\u003cbr\\u003eMSFT: 63.97%\\u003cbr\\u003eNEE: 30.54%\\u003cbr\\u003eCVX: 5.49%\",\"Return: 21.78% +\\u002f- 18.26 points (83.82%)\\u003cbr\\u003eMSFT: 64.57%\\u003cbr\\u003eNEE: 30.2%\\u003cbr\\u003eCVX: 5.23%\",\"Return: 21.85% +\\u002f- 18.3 points (83.75%)\\u003cbr\\u003eMSFT: 65.17%\\u003cbr\\u003eNEE: 29.87%\\u003cbr\\u003eCVX: 4.96%\",\"Return: 21.92% +\\u002f- 18.34 points (83.68%)\\u003cbr\\u003eMSFT: 65.76%\\u003cbr\\u003eNEE: 29.54%\\u003cbr\\u003eCVX: 4.69%\",\"Return: 21.99% +\\u002f- 18.39 points (83.61%)\\u003cbr\\u003eMSFT: 66.36%\\u003cbr\\u003eNEE: 29.21%\\u003cbr\\u003eCVX: 4.43%\",\"Return: 22.06% +\\u002f- 18.43 points (83.55%)\\u003cbr\\u003eMSFT: 66.95%\\u003cbr\\u003eNEE: 28.88%\\u003cbr\\u003eCVX: 4.16%\",\"Return: 22.13% +\\u002f- 18.48 points (83.49%)\\u003cbr\\u003eMSFT: 67.55%\\u003cbr\\u003eNEE: 28.55%\\u003cbr\\u003eCVX: 3.9%\",\"Return: 22.2% +\\u002f- 18.52 points (83.44%)\\u003cbr\\u003eMSFT: 68.15%\\u003cbr\\u003eNEE: 28.22%\\u003cbr\\u003eCVX: 3.63%\",\"Return: 22.27% +\\u002f- 18.57 points (83.39%)\\u003cbr\\u003eMSFT: 68.74%\\u003cbr\\u003eNEE: 27.89%\\u003cbr\\u003eCVX: 3.37%\",\"Return: 22.34% +\\u002f- 18.62 points (83.34%)\\u003cbr\\u003eMSFT: 69.34%\\u003cbr\\u003eNEE: 27.56%\\u003cbr\\u003eCVX: 3.1%\",\"Return: 22.41% +\\u002f- 18.66 points (83.29%)\\u003cbr\\u003eMSFT: 69.94%\\u003cbr\\u003eNEE: 27.23%\\u003cbr\\u003eCVX: 2.84%\",\"Return: 22.48% +\\u002f- 18.71 points (83.25%)\\u003cbr\\u003eMSFT: 70.53%\\u003cbr\\u003eNEE: 26.89%\\u003cbr\\u003eCVX: 2.57%\",\"Return: 22.55% +\\u002f- 18.76 points (83.22%)\\u003cbr\\u003eMSFT: 71.13%\\u003cbr\\u003eNEE: 26.56%\\u003cbr\\u003eCVX: 2.31%\",\"Return: 22.62% +\\u002f- 18.81 points (83.18%)\\u003cbr\\u003eMSFT: 71.72%\\u003cbr\\u003eNEE: 26.23%\\u003cbr\\u003eCVX: 2.04%\",\"Return: 22.69% +\\u002f- 18.86 points (83.15%)\\u003cbr\\u003eMSFT: 72.32%\\u003cbr\\u003eNEE: 25.91%\\u003cbr\\u003eCVX: 1.78%\",\"Return: 22.75% +\\u002f- 18.91 points (83.13%)\\u003cbr\\u003eMSFT: 72.91%\\u003cbr\\u003eNEE: 25.58%\\u003cbr\\u003eCVX: 1.51%\",\"Return: 22.82% +\\u002f- 18.97 points (83.1%)\\u003cbr\\u003eMSFT: 73.51%\\u003cbr\\u003eNEE: 25.25%\\u003cbr\\u003eCVX: 1.24%\",\"Return: 22.89% +\\u002f- 19.02 points (83.08%)\\u003cbr\\u003eMSFT: 74.11%\\u003cbr\\u003eNEE: 24.92%\\u003cbr\\u003eCVX: 0.98%\",\"Return: 22.96% +\\u002f- 19.07 points (83.06%)\\u003cbr\\u003eMSFT: 74.7%\\u003cbr\\u003eNEE: 24.59%\\u003cbr\\u003eCVX: 0.71%\",\"Return: 23.03% +\\u002f- 19.13 points (83.05%)\\u003cbr\\u003eMSFT: 75.3%\\u003cbr\\u003eNEE: 24.25%\\u003cbr\\u003eCVX: 0.45%\",\"Return: 23.1% +\\u002f- 19.18 points (83.04%)\\u003cbr\\u003eMSFT: 75.8%\\u003cbr\\u003eNEE: 24.2%\\u003cbr\\u003eCVX: 0.0%\",\"Return: 23.17% +\\u002f- 19.24 points (83.03%)\\u003cbr\\u003eMSFT: 76.53%\\u003cbr\\u003eNEE: 23.47%\\u003cbr\\u003eCVX: 0.0%\",\"Return: 23.24% +\\u002f- 19.3 points (83.02%)\\u003cbr\\u003eMSFT: 77.27%\\u003cbr\\u003eNEE: 22.73%\\u003cbr\\u003eCVX: 0.0%\",\"Return: 23.31% +\\u002f- 19.35 points (83.03%)\\u003cbr\\u003eMSFT: 78.0%\\u003cbr\\u003eNEE: 22.0%\\u003cbr\\u003eCVX: 0.0%\",\"Return: 23.38% +\\u002f- 19.41 points (83.03%)\\u003cbr\\u003eMSFT: 78.73%\\u003cbr\\u003eNEE: 21.27%\\u003cbr\\u003eCVX: 0.0%\",\"Return: 23.45% +\\u002f- 19.47 points (83.04%)\\u003cbr\\u003eMSFT: 79.47%\\u003cbr\\u003eNEE: 20.53%\\u003cbr\\u003eCVX: 0.0%\",\"Return: 23.52% +\\u002f- 19.54 points (83.06%)\\u003cbr\\u003eMSFT: 80.2%\\u003cbr\\u003eNEE: 19.8%\\u003cbr\\u003eCVX: 0.0%\",\"Return: 23.59% +\\u002f- 19.6 points (83.08%)\\u003cbr\\u003eMSFT: 80.93%\\u003cbr\\u003eNEE: 19.07%\\u003cbr\\u003eCVX: 0.0%\",\"Return: 23.66% +\\u002f- 19.66 points (83.11%)\\u003cbr\\u003eMSFT: 81.67%\\u003cbr\\u003eNEE: 18.33%\\u003cbr\\u003eCVX: 0.0%\",\"Return: 23.73% +\\u002f- 19.73 points (83.14%)\\u003cbr\\u003eMSFT: 82.4%\\u003cbr\\u003eNEE: 17.6%\\u003cbr\\u003eCVX: 0.0%\",\"Return: 23.8% +\\u002f- 19.79 points (83.17%)\\u003cbr\\u003eMSFT: 83.13%\\u003cbr\\u003eNEE: 16.87%\\u003cbr\\u003eCVX: 0.0%\",\"Return: 23.87% +\\u002f- 19.86 points (83.21%)\\u003cbr\\u003eMSFT: 83.87%\\u003cbr\\u003eNEE: 16.13%\\u003cbr\\u003eCVX: 0.0%\",\"Return: 23.94% +\\u002f- 19.93 points (83.26%)\\u003cbr\\u003eMSFT: 84.6%\\u003cbr\\u003eNEE: 15.4%\\u003cbr\\u003eCVX: 0.0%\",\"Return: 24.01% +\\u002f- 20.0 points (83.3%)\\u003cbr\\u003eMSFT: 85.33%\\u003cbr\\u003eNEE: 14.67%\\u003cbr\\u003eCVX: 0.0%\",\"Return: 24.08% +\\u002f- 20.07 points (83.36%)\\u003cbr\\u003eMSFT: 86.07%\\u003cbr\\u003eNEE: 13.93%\\u003cbr\\u003eCVX: 0.0%\",\"Return: 24.15% +\\u002f- 20.14 points (83.41%)\\u003cbr\\u003eMSFT: 86.8%\\u003cbr\\u003eNEE: 13.2%\\u003cbr\\u003eCVX: 0.0%\",\"Return: 24.22% +\\u002f- 20.21 points (83.47%)\\u003cbr\\u003eMSFT: 87.53%\\u003cbr\\u003eNEE: 12.47%\\u003cbr\\u003eCVX: 0.0%\",\"Return: 24.29% +\\u002f- 20.29 points (83.54%)\\u003cbr\\u003eMSFT: 88.27%\\u003cbr\\u003eNEE: 11.73%\\u003cbr\\u003eCVX: 0.0%\",\"Return: 24.35% +\\u002f- 20.36 points (83.6%)\\u003cbr\\u003eMSFT: 89.0%\\u003cbr\\u003eNEE: 11.0%\\u003cbr\\u003eCVX: 0.0%\",\"Return: 24.42% +\\u002f- 20.44 points (83.68%)\\u003cbr\\u003eMSFT: 89.73%\\u003cbr\\u003eNEE: 10.27%\\u003cbr\\u003eCVX: 0.0%\",\"Return: 24.49% +\\u002f- 20.51 points (83.75%)\\u003cbr\\u003eMSFT: 90.47%\\u003cbr\\u003eNEE: 9.53%\\u003cbr\\u003eCVX: 0.0%\",\"Return: 24.56% +\\u002f- 20.59 points (83.83%)\\u003cbr\\u003eMSFT: 91.2%\\u003cbr\\u003eNEE: 8.8%\\u003cbr\\u003eCVX: 0.0%\",\"Return: 24.63% +\\u002f- 20.67 points (83.91%)\\u003cbr\\u003eMSFT: 91.93%\\u003cbr\\u003eNEE: 8.07%\\u003cbr\\u003eCVX: 0.0%\",\"Return: 24.7% +\\u002f- 20.75 points (84.0%)\\u003cbr\\u003eMSFT: 92.67%\\u003cbr\\u003eNEE: 7.33%\\u003cbr\\u003eCVX: 0.0%\",\"Return: 24.77% +\\u002f- 20.83 points (84.09%)\\u003cbr\\u003eMSFT: 93.4%\\u003cbr\\u003eNEE: 6.6%\\u003cbr\\u003eCVX: 0.0%\",\"Return: 24.84% +\\u002f- 20.91 points (84.18%)\\u003cbr\\u003eMSFT: 94.13%\\u003cbr\\u003eNEE: 5.87%\\u003cbr\\u003eCVX: 0.0%\",\"Return: 24.91% +\\u002f- 20.99 points (84.28%)\\u003cbr\\u003eMSFT: 94.87%\\u003cbr\\u003eNEE: 5.13%\\u003cbr\\u003eCVX: 0.0%\",\"Return: 24.98% +\\u002f- 21.08 points (84.38%)\\u003cbr\\u003eMSFT: 95.6%\\u003cbr\\u003eNEE: 4.4%\\u003cbr\\u003eCVX: 0.0%\",\"Return: 25.05% +\\u002f- 21.16 points (84.48%)\\u003cbr\\u003eMSFT: 96.33%\\u003cbr\\u003eNEE: 3.67%\\u003cbr\\u003eCVX: 0.0%\",\"Return: 25.12% +\\u002f- 21.25 points (84.58%)\\u003cbr\\u003eMSFT: 97.07%\\u003cbr\\u003eNEE: 2.93%\\u003cbr\\u003eCVX: 0.0%\",\"Return: 25.19% +\\u002f- 21.33 points (84.69%)\\u003cbr\\u003eMSFT: 97.8%\\u003cbr\\u003eNEE: 2.2%\\u003cbr\\u003eCVX: 0.0%\",\"Return: 25.26% +\\u002f- 21.42 points (84.8%)\\u003cbr\\u003eMSFT: 98.53%\\u003cbr\\u003eNEE: 1.47%\\u003cbr\\u003eCVX: 0.0%\",\"Return: 25.33% +\\u002f- 21.51 points (84.92%)\\u003cbr\\u003eMSFT: 99.27%\\u003cbr\\u003eNEE: 0.73%\\u003cbr\\u003eCVX: 0.0%\",\"Return: 25.4% +\\u002f- 21.6 points (85.03%)\\u003cbr\\u003eMSFT: 100.0%\\u003cbr\\u003eNEE: 0.0%\\u003cbr\\u003eCVX: 0.0%\"],\"x\":[17.23,17.23,17.23,17.23,17.24,17.24,17.25,17.25,17.26,17.27,17.28,17.28,17.3,17.31,17.32,17.33,17.35,17.36,17.38,17.39,17.41,17.43,17.45,17.47,17.49,17.51,17.54,17.56,17.59,17.61,17.64,17.66,17.69,17.72,17.75,17.78,17.81,17.85,17.88,17.91,17.95,17.98,18.02,18.06,18.1,18.14,18.18,18.22,18.26,18.3,18.34,18.39,18.43,18.48,18.52,18.57,18.62,18.66,18.71,18.76,18.81,18.86,18.91,18.97,19.02,19.07,19.13,19.18,19.24,19.3,19.35,19.41,19.47,19.54,19.6,19.66,19.73,19.79,19.86,19.93,20.0,20.07,20.14,20.21,20.29,20.36,20.44,20.51,20.59,20.67,20.75,20.83,20.91,20.99,21.08,21.16,21.25,21.33,21.42,21.51,21.6],\"y\":[18.44,18.51,18.58,18.65,18.72,18.79,18.86,18.93,19.0,19.07,19.14,19.21,19.28,19.35,19.42,19.49,19.56,19.62,19.69,19.76,19.83,19.9,19.97,20.04,20.11,20.18,20.25,20.32,20.39,20.46,20.53,20.6,20.67,20.74,20.81,20.88,20.95,21.02,21.09,21.15,21.22,21.29,21.36,21.43,21.5,21.57,21.64,21.71,21.78,21.85,21.92,21.99,22.06,22.13,22.2,22.27,22.34,22.41,22.48,22.55,22.62,22.69,22.75,22.82,22.89,22.96,23.03,23.1,23.17,23.24,23.31,23.38,23.45,23.52,23.59,23.66,23.73,23.8,23.87,23.94,24.01,24.08,24.15,24.22,24.29,24.35,24.42,24.49,24.56,24.63,24.7,24.77,24.84,24.91,24.98,25.05,25.12,25.19,25.26,25.33,25.4],\"type\":\"scatter\"},{\"hoverinfo\":\"text\",\"marker\":{\"color\":\"blue\",\"line\":{\"color\":\"black\",\"width\":3},\"size\":14},\"mode\":\"markers\",\"name\":\"Risk-Free Asset\",\"text\":\"Risk-Free Rate: 4.0%\",\"x\":[0],\"y\":[4.0],\"type\":\"scatter\"},{\"line\":{\"color\":\"orange\",\"dash\":\"dashdot\",\"width\":2},\"mode\":\"lines\",\"name\":\"Capital Allocation Line\",\"x\":[0,19.969595899059915,21.59703162726981],\"y\":[4.0,23.977990320473385,25.60611015773561],\"type\":\"scatter\"}],                        {\"height\":495,\"legend\":{\"bgcolor\":\"#E2E2E2\",\"bordercolor\":\"black\",\"borderwidth\":2,\"traceorder\":\"normal\",\"x\":0,\"y\":1},\"showlegend\":true,\"title\":{\"text\":\"Portfolio Optimization with the Efficient Frontier\"},\"width\":660,\"xaxis\":{\"title\":{\"text\":\"Annualized Volatility (Points of Return)\"}},\"yaxis\":{\"title\":{\"text\":\"Annualized Return (%)\"}},\"template\":{\"data\":{\"histogram2dcontour\":[{\"type\":\"histogram2dcontour\",\"colorbar\":{\"outlinewidth\":0,\"ticks\":\"\"},\"colorscale\":[[0.0,\"#0d0887\"],[0.1111111111111111,\"#46039f\"],[0.2222222222222222,\"#7201a8\"],[0.3333333333333333,\"#9c179e\"],[0.4444444444444444,\"#bd3786\"],[0.5555555555555556,\"#d8576b\"],[0.6666666666666666,\"#ed7953\"],[0.7777777777777778,\"#fb9f3a\"],[0.8888888888888888,\"#fdca26\"],[1.0,\"#f0f921\"]]}],\"choropleth\":[{\"type\":\"choropleth\",\"colorbar\":{\"outlinewidth\":0,\"ticks\":\"\"}}],\"histogram2d\":[{\"type\":\"histogram2d\",\"colorbar\":{\"outlinewidth\":0,\"ticks\":\"\"},\"colorscale\":[[0.0,\"#0d0887\"],[0.1111111111111111,\"#46039f\"],[0.2222222222222222,\"#7201a8\"],[0.3333333333333333,\"#9c179e\"],[0.4444444444444444,\"#bd3786\"],[0.5555555555555556,\"#d8576b\"],[0.6666666666666666,\"#ed7953\"],[0.7777777777777778,\"#fb9f3a\"],[0.8888888888888888,\"#fdca26\"],[1.0,\"#f0f921\"]]}],\"heatmap\":[{\"type\":\"heatmap\",\"colorbar\":{\"outlinewidth\":0,\"ticks\":\"\"},\"colorscale\":[[0.0,\"#0d0887\"],[0.1111111111111111,\"#46039f\"],[0.2222222222222222,\"#7201a8\"],[0.3333333333333333,\"#9c179e\"],[0.4444444444444444,\"#bd3786\"],[0.5555555555555556,\"#d8576b\"],[0.6666666666666666,\"#ed7953\"],[0.7777777777777778,\"#fb9f3a\"],[0.8888888888888888,\"#fdca26\"],[1.0,\"#f0f921\"]]}],\"heatmapgl\":[{\"type\":\"heatmapgl\",\"colorbar\":{\"outlinewidth\":0,\"ticks\":\"\"},\"colorscale\":[[0.0,\"#0d0887\"],[0.1111111111111111,\"#46039f\"],[0.2222222222222222,\"#7201a8\"],[0.3333333333333333,\"#9c179e\"],[0.4444444444444444,\"#bd3786\"],[0.5555555555555556,\"#d8576b\"],[0.6666666666666666,\"#ed7953\"],[0.7777777777777778,\"#fb9f3a\"],[0.8888888888888888,\"#fdca26\"],[1.0,\"#f0f921\"]]}],\"contourcarpet\":[{\"type\":\"contourcarpet\",\"colorbar\":{\"outlinewidth\":0,\"ticks\":\"\"}}],\"contour\":[{\"type\":\"contour\",\"colorbar\":{\"outlinewidth\":0,\"ticks\":\"\"},\"colorscale\":[[0.0,\"#0d0887\"],[0.1111111111111111,\"#46039f\"],[0.2222222222222222,\"#7201a8\"],[0.3333333333333333,\"#9c179e\"],[0.4444444444444444,\"#bd3786\"],[0.5555555555555556,\"#d8576b\"],[0.6666666666666666,\"#ed7953\"],[0.7777777777777778,\"#fb9f3a\"],[0.8888888888888888,\"#fdca26\"],[1.0,\"#f0f921\"]]}],\"surface\":[{\"type\":\"surface\",\"colorbar\":{\"outlinewidth\":0,\"ticks\":\"\"},\"colorscale\":[[0.0,\"#0d0887\"],[0.1111111111111111,\"#46039f\"],[0.2222222222222222,\"#7201a8\"],[0.3333333333333333,\"#9c179e\"],[0.4444444444444444,\"#bd3786\"],[0.5555555555555556,\"#d8576b\"],[0.6666666666666666,\"#ed7953\"],[0.7777777777777778,\"#fb9f3a\"],[0.8888888888888888,\"#fdca26\"],[1.0,\"#f0f921\"]]}],\"mesh3d\":[{\"type\":\"mesh3d\",\"colorbar\":{\"outlinewidth\":0,\"ticks\":\"\"}}],\"scatter\":[{\"fillpattern\":{\"fillmode\":\"overlay\",\"size\":10,\"solidity\":0.2},\"type\":\"scatter\"}],\"parcoords\":[{\"type\":\"parcoords\",\"line\":{\"colorbar\":{\"outlinewidth\":0,\"ticks\":\"\"}}}],\"scatterpolargl\":[{\"type\":\"scatterpolargl\",\"marker\":{\"colorbar\":{\"outlinewidth\":0,\"ticks\":\"\"}}}],\"bar\":[{\"error_x\":{\"color\":\"#2a3f5f\"},\"error_y\":{\"color\":\"#2a3f5f\"},\"marker\":{\"line\":{\"color\":\"#E5ECF6\",\"width\":0.5},\"pattern\":{\"fillmode\":\"overlay\",\"size\":10,\"solidity\":0.2}},\"type\":\"bar\"}],\"scattergeo\":[{\"type\":\"scattergeo\",\"marker\":{\"colorbar\":{\"outlinewidth\":0,\"ticks\":\"\"}}}],\"scatterpolar\":[{\"type\":\"scatterpolar\",\"marker\":{\"colorbar\":{\"outlinewidth\":0,\"ticks\":\"\"}}}],\"histogram\":[{\"marker\":{\"pattern\":{\"fillmode\":\"overlay\",\"size\":10,\"solidity\":0.2}},\"type\":\"histogram\"}],\"scattergl\":[{\"type\":\"scattergl\",\"marker\":{\"colorbar\":{\"outlinewidth\":0,\"ticks\":\"\"}}}],\"scatter3d\":[{\"type\":\"scatter3d\",\"line\":{\"colorbar\":{\"outlinewidth\":0,\"ticks\":\"\"}},\"marker\":{\"colorbar\":{\"outlinewidth\":0,\"ticks\":\"\"}}}],\"scattermapbox\":[{\"type\":\"scattermapbox\",\"marker\":{\"colorbar\":{\"outlinewidth\":0,\"ticks\":\"\"}}}],\"scatterternary\":[{\"type\":\"scatterternary\",\"marker\":{\"colorbar\":{\"outlinewidth\":0,\"ticks\":\"\"}}}],\"scattercarpet\":[{\"type\":\"scattercarpet\",\"marker\":{\"colorbar\":{\"outlinewidth\":0,\"ticks\":\"\"}}}],\"carpet\":[{\"aaxis\":{\"endlinecolor\":\"#2a3f5f\",\"gridcolor\":\"white\",\"linecolor\":\"white\",\"minorgridcolor\":\"white\",\"startlinecolor\":\"#2a3f5f\"},\"baxis\":{\"endlinecolor\":\"#2a3f5f\",\"gridcolor\":\"white\",\"linecolor\":\"white\",\"minorgridcolor\":\"white\",\"startlinecolor\":\"#2a3f5f\"},\"type\":\"carpet\"}],\"table\":[{\"cells\":{\"fill\":{\"color\":\"#EBF0F8\"},\"line\":{\"color\":\"white\"}},\"header\":{\"fill\":{\"color\":\"#C8D4E3\"},\"line\":{\"color\":\"white\"}},\"type\":\"table\"}],\"barpolar\":[{\"marker\":{\"line\":{\"color\":\"#E5ECF6\",\"width\":0.5},\"pattern\":{\"fillmode\":\"overlay\",\"size\":10,\"solidity\":0.2}},\"type\":\"barpolar\"}],\"pie\":[{\"automargin\":true,\"type\":\"pie\"}]},\"layout\":{\"autotypenumbers\":\"strict\",\"colorway\":[\"#636efa\",\"#EF553B\",\"#00cc96\",\"#ab63fa\",\"#FFA15A\",\"#19d3f3\",\"#FF6692\",\"#B6E880\",\"#FF97FF\",\"#FECB52\"],\"font\":{\"color\":\"#2a3f5f\"},\"hovermode\":\"closest\",\"hoverlabel\":{\"align\":\"left\"},\"paper_bgcolor\":\"white\",\"plot_bgcolor\":\"#E5ECF6\",\"polar\":{\"bgcolor\":\"#E5ECF6\",\"angularaxis\":{\"gridcolor\":\"white\",\"linecolor\":\"white\",\"ticks\":\"\"},\"radialaxis\":{\"gridcolor\":\"white\",\"linecolor\":\"white\",\"ticks\":\"\"}},\"ternary\":{\"bgcolor\":\"#E5ECF6\",\"aaxis\":{\"gridcolor\":\"white\",\"linecolor\":\"white\",\"ticks\":\"\"},\"baxis\":{\"gridcolor\":\"white\",\"linecolor\":\"white\",\"ticks\":\"\"},\"caxis\":{\"gridcolor\":\"white\",\"linecolor\":\"white\",\"ticks\":\"\"}},\"coloraxis\":{\"colorbar\":{\"outlinewidth\":0,\"ticks\":\"\"}},\"colorscale\":{\"sequential\":[[0.0,\"#0d0887\"],[0.1111111111111111,\"#46039f\"],[0.2222222222222222,\"#7201a8\"],[0.3333333333333333,\"#9c179e\"],[0.4444444444444444,\"#bd3786\"],[0.5555555555555556,\"#d8576b\"],[0.6666666666666666,\"#ed7953\"],[0.7777777777777778,\"#fb9f3a\"],[0.8888888888888888,\"#fdca26\"],[1.0,\"#f0f921\"]],\"sequentialminus\":[[0.0,\"#0d0887\"],[0.1111111111111111,\"#46039f\"],[0.2222222222222222,\"#7201a8\"],[0.3333333333333333,\"#9c179e\"],[0.4444444444444444,\"#bd3786\"],[0.5555555555555556,\"#d8576b\"],[0.6666666666666666,\"#ed7953\"],[0.7777777777777778,\"#fb9f3a\"],[0.8888888888888888,\"#fdca26\"],[1.0,\"#f0f921\"]],\"diverging\":[[0,\"#8e0152\"],[0.1,\"#c51b7d\"],[0.2,\"#de77ae\"],[0.3,\"#f1b6da\"],[0.4,\"#fde0ef\"],[0.5,\"#f7f7f7\"],[0.6,\"#e6f5d0\"],[0.7,\"#b8e186\"],[0.8,\"#7fbc41\"],[0.9,\"#4d9221\"],[1,\"#276419\"]]},\"xaxis\":{\"gridcolor\":\"white\",\"linecolor\":\"white\",\"ticks\":\"\",\"title\":{\"standoff\":15},\"zerolinecolor\":\"white\",\"automargin\":true,\"zerolinewidth\":2},\"yaxis\":{\"gridcolor\":\"white\",\"linecolor\":\"white\",\"ticks\":\"\",\"title\":{\"standoff\":15},\"zerolinecolor\":\"white\",\"automargin\":true,\"zerolinewidth\":2},\"scene\":{\"xaxis\":{\"backgroundcolor\":\"#E5ECF6\",\"gridcolor\":\"white\",\"linecolor\":\"white\",\"showbackground\":true,\"ticks\":\"\",\"zerolinecolor\":\"white\",\"gridwidth\":2},\"yaxis\":{\"backgroundcolor\":\"#E5ECF6\",\"gridcolor\":\"white\",\"linecolor\":\"white\",\"showbackground\":true,\"ticks\":\"\",\"zerolinecolor\":\"white\",\"gridwidth\":2},\"zaxis\":{\"backgroundcolor\":\"#E5ECF6\",\"gridcolor\":\"white\",\"linecolor\":\"white\",\"showbackground\":true,\"ticks\":\"\",\"zerolinecolor\":\"white\",\"gridwidth\":2}},\"shapedefaults\":{\"line\":{\"color\":\"#2a3f5f\"}},\"annotationdefaults\":{\"arrowcolor\":\"#2a3f5f\",\"arrowhead\":0,\"arrowwidth\":1},\"geo\":{\"bgcolor\":\"white\",\"landcolor\":\"#E5ECF6\",\"subunitcolor\":\"white\",\"showland\":true,\"showlakes\":true,\"lakecolor\":\"white\"},\"title\":{\"x\":0.05},\"mapbox\":{\"style\":\"light\"}}}},                        {\"responsive\": true}                    ).then(function(){\n",
       "                            \n",
       "var gd = document.getElementById('4d94d27b-a23c-4491-becd-a048a4ceb65a');\n",
       "var x = new MutationObserver(function (mutations, observer) {{\n",
       "        var display = window.getComputedStyle(gd).display;\n",
       "        if (!display || display === 'none') {{\n",
       "            console.log([gd, 'removed!']);\n",
       "            Plotly.purge(gd);\n",
       "            observer.disconnect();\n",
       "        }}\n",
       "}});\n",
       "\n",
       "// Listen for the removal of the full notebook cells\n",
       "var notebookContainer = gd.closest('#notebook-container');\n",
       "if (notebookContainer) {{\n",
       "    x.observe(notebookContainer, {childList: true});\n",
       "}}\n",
       "\n",
       "// Listen for the clearing of the current output cell\n",
       "var outputEl = gd.closest('.output');\n",
       "if (outputEl) {{\n",
       "    x.observe(outputEl, {childList: true});\n",
       "}}\n",
       "\n",
       "                        })                };                });            </script>        </div>"
      ]
     },
     "metadata": {},
     "output_type": "display_data"
    }
   ],
   "source": [
    "import plotly.graph_objects as go\n",
    "\n",
    "# Function to efficent frontier \n",
    "# get return seris to calculate over \n",
    "\n",
    "\n",
    "\n",
    "print(returnExps)\n",
    "print(np.max(returnExps))\n",
    "\n",
    "# we will be looking at annualized data for most of going forward\n",
    "# recall that returns were originally done in months\n",
    "returnExpsAnn, returnDispsAnn = genFin.annualize(returnExps, returnDisps, 'M')\n",
    "\n",
    "# the lowest return that has a guaranteed solution is likly at the min variance \n",
    "# the highest possible (without leveraging) is 100% w on the max single return\n",
    "returnTargets = np.linspace(returnDispMin, np.max(returnExpsAnn), 101) #returnSRMax\n",
    "\n",
    "# the opt method does annualize internally, so send pre annualized\n",
    "# in future work we need to clean this up\n",
    "wEF= po.calc_efficient_frontier(returnExps, returnCoDispsSq, returnTargets, riskFreeRate=0.04, annualizeBy='M')\n",
    "\n",
    "# calculate the properties for each wighting \n",
    "# optimization is not exact so while the target return was set as a goal\n",
    "# it may not have been achived, need to recalculate \n",
    "n = len(wEF)\n",
    "returnExps_EF = np.zeros(n) * np.nan\n",
    "returnDisps_EF = np.zeros(n) * np.nan\n",
    "\n",
    "for i in range(n):\n",
    "    returnExps_EF[i], returnDisps_EF[i] = genFin.asset_set_perform(wEF[i], returnExps, returnCoDispsSq, annualizeBy='M')\n",
    "    \n",
    "print('-- Efficient Frontier --')\n",
    "print('targets')\n",
    "print(returnTargets[::10])\n",
    "print('weights')\n",
    "print(wEF[::10])\n",
    "\n",
    "\n",
    "# we expectd a smooth transition from the \n",
    "# precalculated min disp weights to the \n",
    "# precalculated max SR weights and we got it\n",
    "# cehck\n",
    "\n",
    "\n",
    "\n",
    "print('r')\n",
    "print(returnExps_EF[::10])\n",
    "print('d')\n",
    "print(returnDisps_EF[::10])\n",
    "\n",
    "# Asset points\n",
    "\n",
    "asset_text = [\n",
    "    f\"{sym}: Return: {round(ret * 100, 2)}% +/- points {round(vol * 100, 2)} ({round(vol/ret * 100 * np.sqrt(12)/12, 2)}%)\"\n",
    "    for sym, ret, vol in zip(syms, returnExpsAnn, returnDispsAnn)\n",
    "]\n",
    "\n",
    "\n",
    "Asset_points = go.Scatter(\n",
    "    name=\"Assets\",\n",
    "    mode=\"markers\",\n",
    "    x=np.round(returnDispsAnn * 100, 2),\n",
    "    y=[round(ret * 100, 2) for ret in returnExpsAnn],\n",
    "    marker=dict(\n",
    "        color=\"gray\",\n",
    "        size=14,\n",
    "        line=dict(\n",
    "            width=3,\n",
    "            color=\"black\")),\n",
    "    text=asset_text,\n",
    "    hoverinfo='text'\n",
    ")\n",
    "#plot the efficient frontier\n",
    "\n",
    "# Max Sharpe Ratio trace\n",
    "MaxSharpeRatio = go.Scatter(\n",
    "    name=\"Maximum Sharpe Ratio\",\n",
    "    mode=\"markers\",\n",
    "    x=[dispSRMax * 100],\n",
    "    y=[round(returnSRMax * 100, 2)],\n",
    "    marker=dict(\n",
    "        color=\"red\",\n",
    "        size=14,\n",
    "        line=dict(\n",
    "            width=3,\n",
    "            color=\"black\")),\n",
    "    text=[f\"Return: {round(returnSRMax * 100, 2)}% +/- {round(dispSRMax * 100, 2)} points ({round((dispSRMax/returnSRMax) * 100, 2)}%)<br>{allocationSRMax.to_string()}\"],\n",
    "    hoverinfo='text'\n",
    ")\n",
    "\n",
    "# Min Volatility trace\n",
    "MinVol = go.Scatter(\n",
    "    name=\"Minimum Volatility\",\n",
    "    mode=\"markers\",\n",
    "    x=[dispDispMin * 100],\n",
    "    y=[round(returnDispMin * 100, 2)],\n",
    "    marker=dict(\n",
    "        color=\"green\",\n",
    "        size=14,\n",
    "        line=dict(\n",
    "            width=3,\n",
    "            color=\"black\")),\n",
    "    text=[f\"Return: {round(returnDispMin * 100, 2)}% +/- {round(dispDispMin * 100,2)} points ({round((dispDispMin/returnDispMin) * 100, 2)}%)<br>{allocationDispMin.to_string()}\"],\n",
    "    hoverinfo='text'\n",
    ")\n",
    "\n",
    "# Efficient Frontier trace\n",
    "efficient_text = [\n",
    "    f\"Return: {round(ret * 100, 2)}% +/- {round(vol * 100,2)} points ({round((vol/ret) * 100, 2)}%)<br>\" +\n",
    "    \"<br>\".join([f\"{symbol}: {round(weight * 100, 2)}%\" for symbol, weight in zip(syms, alloc)])\n",
    "    for ret, vol, alloc in zip(returnExps_EF, returnDisps_EF, wEF)\n",
    "]\n",
    "\n",
    "\n",
    "EF_curve = go.Scatter(\n",
    "    name=\"Efficient Frontier\",\n",
    "    mode=\"lines\",\n",
    "    x= np.round(returnDisps_EF * 100, 2),\n",
    "    y=[round(ret * 100, 2) for ret in returnExps_EF],\n",
    "    line=dict(color=\"black\", width=3, dash=\"dashdot\"),\n",
    "    text=efficient_text,\n",
    "    hoverinfo='text'\n",
    ")\n",
    "\n",
    "\n",
    "\n",
    "riskFreeRate = 0.04\n",
    "# Risk-Free Asset point\n",
    "rf_point = go.Scatter(\n",
    "    name=\"Risk-Free Asset\",\n",
    "    mode=\"markers\",\n",
    "    x=[0],  # Assuming risk-free rate has zero volatility\n",
    "    y=[riskFreeRate * 100],\n",
    "    marker=dict(\n",
    "        color=\"blue\",\n",
    "        size=14,\n",
    "        line=dict(\n",
    "            width=3,\n",
    "            color=\"black\")),\n",
    "    text=f\"Risk-Free Rate: {round(riskFreeRate * 100, 2)}%\",\n",
    "    hoverinfo='text'\n",
    ")\n",
    "    \n",
    "# Capital Allocation Line (CAL)\n",
    "# include risk free point and SR max AND the corrisponding last point on EF line\n",
    "# need to move the CAL line calcualation to a general function\n",
    "def f_cal(x, riskFreeRate, returnSRMax, dispSRMax):\n",
    "    slope = (returnSRMax - riskFreeRate) / dispSRMax \n",
    "    y = x * slope + riskFreeRate\n",
    "    return (y)\n",
    "    \n",
    "cal_x = [0, dispSRMax * 100, returnDisps_EF[-1] * 100]\n",
    "cal_y = [riskFreeRate * 100, returnSRMax * 100, f_cal(returnDisps_EF[-1], riskFreeRate, returnSRMax, dispSRMax) * 100]\n",
    "CAL = go.Scatter(\n",
    "    name=\"Capital Allocation Line\",\n",
    "    mode=\"lines\",\n",
    "    x=cal_x,\n",
    "    y=cal_y,\n",
    "    line=dict(color=\"orange\", width=2, dash=\"dashdot\")\n",
    ")\n",
    "\n",
    "data = [Asset_points, MaxSharpeRatio, MinVol, EF_curve, rf_point, CAL]\n",
    "\n",
    "\n",
    "\n",
    "layout = go.Layout(\n",
    "    title='Portfolio Optimization with the Efficient Frontier',\n",
    "    yaxis=dict(title='Annualized Return (%)'),\n",
    "    xaxis=dict(title='Annualized Volatility (Points of Return)'),\n",
    "    showlegend=True,\n",
    "    legend=dict(\n",
    "        x=0,\n",
    "        y=1,\n",
    "        traceorder='normal',\n",
    "        bgcolor=\"#E2E2E2\",\n",
    "        bordercolor='black',\n",
    "        borderwidth=2),\n",
    "    width=660,\n",
    "    height=495\n",
    ")\n",
    "\n",
    "fig = go.Figure(data=data, layout=layout)\n",
    "fig.show()\n",
    "\n",
    "\n",
    "\n",
    "\n"
   ]
  },
  {
   "cell_type": "code",
   "execution_count": null,
   "id": "897e5a68-8ee2-4032-b5ab-694b662e971d",
   "metadata": {},
   "outputs": [],
   "source": [
    "# double check the classes built for the portfolio\n",
    "priceLoader = condor.PriceLoader(dataDir+'/'+datasetName)\n",
    "print(priceLoader.path)\n"
   ]
  }
 ],
 "metadata": {
  "kernelspec": {
   "display_name": "Python 3 (ipykernel)",
   "language": "python",
   "name": "python3"
  },
  "language_info": {
   "codemirror_mode": {
    "name": "ipython",
    "version": 3
   },
   "file_extension": ".py",
   "mimetype": "text/x-python",
   "name": "python",
   "nbconvert_exporter": "python",
   "pygments_lexer": "ipython3",
   "version": "3.11.0"
  }
 },
 "nbformat": 4,
 "nbformat_minor": 5
}
