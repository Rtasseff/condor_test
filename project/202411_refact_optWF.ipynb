{
 "cells": [
  {
   "cell_type": "markdown",
   "id": "2c0e93f2-6df9-4cbf-b2f9-ebba24df520d",
   "metadata": {},
   "source": [
    "# A Test Case for Refactoring a Basic Portfolio Optimization Workflow\n",
    "\n",
    "We recreated a basic portfolio optimization workflow from \n",
    "functions that will eventually be called from an automated pipeline.\n",
    "Then compared to a past project using assets from the \n",
    "S&P 500 to ensure proper implimentation. \n",
    "We then replaced the current statistical estimators,\n",
    "which assume a normal distribution, \n",
    "with robust estimators like those used in past projects through 202410-202411.\n",
    "Finally we considered a slight variation that uses a bayesian approch \n",
    "to incorperate expectations derived from other sources.\n",
    "Eventaully the functions called here will become a key part of the \n",
    "inital Condor Funds web-based minimally viable prototype.\n",
    "\n",
    "The goal here is to identify:\n",
    "* create seperate functions to support a basic portfolio optimization workflow\n",
    "* call them from this project to comapre against a past project to ensure concistancy\n",
    "* add alternate stratagies from past projects and compare\n",
    "* add portfolio class and asset specific stat meta props\n",
    "* add an alternate bayesian optimization approch and compare \n",
    "\n",
    "### *Notice*\n",
    "*We stress that none of our Jupyter Notebook projects are to be considered final and of publication quality unless otherwise stated. We also provide no warranty or guarantee of any kind. These projects are meant for testing code and learning concepts in a transparent, and often evolving manner. If new methodologies, stratagies or fundamental understandings are applied in the future, they will most likely be explored in future projects. For transparency and documentation, old projects will not be removed but instead will be deprecated (and clearly marked as such). Look for updates on GitHub https://github.com/Rtasseff/condor_test/tree/main/project*\n",
    "\n",
    "## Setup"
   ]
  },
  {
   "cell_type": "code",
   "execution_count": 1,
   "id": "19a586e7-cc0a-49f7-8c19-068425dd0c1d",
   "metadata": {
    "scrolled": true
   },
   "outputs": [],
   "source": [
    "# data set\n",
    "datasetName = 'sp500_combined.csv'\n",
    "\n",
    "# Paths\n",
    "\n",
    "# Analytics dir path *USER SET*\n",
    "analyticsDir = '/Users/rtasseff/projects/condor_test/analytics'\n",
    "# Data dir path *USER SET*\n",
    "dataDir = '/Users/rtasseff/projects/tmp/data_analytics_v1'\n",
    "import sys\n",
    "# adding analytics to the system path\n",
    "sys.path.insert(0, analyticsDir)\n",
    "\n",
    "from data_mining import load\n",
    "from functions import genStats\n",
    "from functions import genFin\n",
    "from functions import assetPreassess as apa\n",
    "from functions import utils\n",
    "from functions import portOpt as po\n",
    "\n",
    "\n",
    "import numpy as np\n",
    "import matplotlib.pyplot as plt\n",
    "import plotly.graph_objects as go\n",
    "import pandas as pd\n",
    "\n"
   ]
  },
  {
   "cell_type": "markdown",
   "id": "b0cf5b18-acce-4d4a-8b4f-241395414e61",
   "metadata": {},
   "source": [
    "## Background \n",
    "\n",
    "Educational Source:\n",
    "https://ocw.mit.edu/courses/15-401-finance-theory-i-fall-2008/dd628e151309a7f23962b1a31b9356e5_MIT15_401F08_lec13.pdf\n",
    "\n",
    "*** need to review all text ***\n",
    "Modern Portfolio Theory (MPT) is a concept in Finance that describes ways of diversifying and allocating assets in a financial portfolio in order to maximize the portfolio's expected return given the owner's risk tolerance. American economist Harry Markowitz first introduced MPT in a 1952 paper. The theory was intended to eliminate ideosyncratic risk, which is the risk inherent in a particular investment due to its unique characteristics.\n",
    "\n",
    "*** At some point want to stress that mathmatically we ae using volitility as a statistical measure for 'risk', but the use of risk has some implied meaning that is not covered by this analysis. then further expand on what it might mean in a later example ***\n",
    "\n",
    "A key component of this framework is diversification. When using MPT, an investor bundles different types of investments together so that when some of the securities fall in value, other securities rise in equal amount. Thus, the overall portfolio stays even but as markets rise overall, the portfolio rises along with the market's inside tide.\n",
    "\n",
    "MPT argues that any given investment's risk and return characteristics should not be viewed alone but evaluated by how it affects the overall portfolio's risk and return. That is, an investor can construct a portfolio of multiple assets that will result in greater returns without a higher level of risk. As an alternative, starting with a desired level of expected return, the investor can construct a portfolio with the lowest possible risk that is capable of producing that return.\n",
    "\n",
    "MPT uses precise financial mathematics to carefully construct the portfolio. The steps involved included:\n",
    "1. portfolio selection - valuing and choosing the securities that might be included in the portfolio;\n",
    "2. portfolio optimization - calculating the optimal allocation, or percentage, for each of the selected assets (i.e. choosing the right mix of assets to maximize return and/or minimize risk);\n",
    "3. portfolio rebalancing - after the portfolio is implimented (i.e. assets are purchased) the value of individual assets will change over time and the holdings of various assets will need to be decreased or increased to ensure the original allocation (i.e. to maintain the correct overall percentage of each asset); \n",
    "4. portfolio reallocation - periodically it is important to check on the behaviour of individual assets as changes to the asset allocations may needed.\n",
    "\n",
    "*** Went off on a tangent here, need to focus this ***\n",
    "In the analysis here, we focused on step (2). Other steps will be convered in future projects and Condor Funds materials. It is worth pointing out that step (4) is of important practicale concern. Since the analysis here is enterly dependant on historical data, future events may change the statistical estiamtes of this data as they ocurr. In addition, there are many other market factors to consider for investment choices. The importance of these factors depends on the preferences of the individual investor. In particular, the time-frame for investment and the size (number of different assets) of the portfolio impact the liklyhood that observed returns and risks mirror historical ones. Longer investment time-frames and bigger portfolios (e.g. a 'buy-and-hold' straetegy over 10+ years on a well diversifed portfolio) allow for noise and abnormal events to smooth out, or correct themselves, over time. In these cases, reallocation could be done by simply repeating step (2). Shorter time frames (e.g. < 5 years) become increasingly reliant on other market insights not considered here. Of course there is no guarentee on any time-frame, as past performance does not always mean future results. For example, a new technology could drive a once strong company into bankruptcy over the course of a decade. In this case there would be no chance of recovery over time. However, there are stratagies accessible to even novice investors for periodically (sometimes without effort) repeating step (1) as well, but these will not be discussed here. \n",
    "\n",
    "\n",
    "Valuing the securities that might be included in the portfolio.\n",
    "Calculating the desired asset allocation, that is, the mix of assets.\n",
    "Performing calculations to optimize the portfolio to get the maximum amount of return for the minimum amount of risk.\n",
    "Using financial analysis to monitor the portfolio to see if it meets expectations and then making changes to the individual securities or asset mix when market warrant a change.\n",
    "An important consideration in MPT is that based on statistical measures such as variance and correlation, a single investment's performance is less important than how it impacts the entire portfolio.\n",
    "\n",
    "MPT also assumes that investors are risk-averse, meaning that they prefer a less risky portfolio to a riskier one for a given level of return. As a practical matter, risk aversion implies that most people should invest in multiple asset classes (stocks, bonds, commodities, cash equivalents or cryptocurrencies for example).\n",
    "\n",
    "## Data"
   ]
  },
  {
   "cell_type": "code",
   "execution_count": 2,
   "id": "1ef5e904-703e-469e-b045-96b33f79ce0e",
   "metadata": {},
   "outputs": [
    {
     "name": "stdout",
     "output_type": "stream",
     "text": [
      "Full data set of assets\n"
     ]
    },
    {
     "data": {
      "text/plain": [
       "<bound method DataFrame.info of Symbol               A        AAL        AAPL        ABBV        ABNB  \\\n",
       "Date                                                                    \n",
       "2014-04-01   36.972244  35.767616   17.015982   34.212463         NaN   \n",
       "2014-04-02   37.175602  35.550785   17.044250   35.026749         NaN   \n",
       "2014-04-03   37.129684  35.201973   16.926130   35.131809         NaN   \n",
       "2014-04-04   36.454021  34.466633   16.707170   34.278126         NaN   \n",
       "2014-04-07   35.653683  33.731285   16.444855   33.240589         NaN   \n",
       "...                ...        ...         ...         ...         ...   \n",
       "2024-03-22  147.210846  14.820000  172.046646  176.798874  167.860001   \n",
       "2024-03-25  145.323914  14.920000  170.618591  176.878128  167.990005   \n",
       "2024-03-26  144.175781  14.920000  169.480133  177.532028  167.389999   \n",
       "2024-03-27  147.130981  15.300000  173.075241  178.681305  166.410004   \n",
       "2024-03-28  145.273987  15.350000  171.247726  180.415100  164.960007   \n",
       "\n",
       "Symbol             ABT       ACGL         ACN        ADBE         ADI  ...  \\\n",
       "Date                                                                   ...   \n",
       "2014-04-01   31.586086  19.070000   66.292648   65.930000   43.509895  ...   \n",
       "2014-04-02   31.676416  19.033333   66.667702   65.480003   43.493805  ...   \n",
       "2014-04-03   31.733900  19.053333   66.134285   62.450001   43.429455  ...   \n",
       "2014-04-04   31.717468  18.926666   65.125809   61.320000   42.576618  ...   \n",
       "2014-04-07   31.339781  18.643333   65.742561   60.470001   42.737541  ...   \n",
       "...                ...        ...         ...         ...         ...  ...   \n",
       "2024-03-22  110.024338  90.680000  336.198242  499.519989  193.509995  ...   \n",
       "2024-03-25  109.467110  90.989998  332.532440  507.230011  190.630005  ...   \n",
       "2024-03-26  110.949753  90.589996  335.092529  507.600006  188.960007  ...   \n",
       "2024-03-27  112.919983  91.480003  339.624969  504.399994  193.330002  ...   \n",
       "2024-03-28  113.099098  92.440002  345.273071  504.600006  197.789993  ...   \n",
       "\n",
       "Symbol             WTW         WY        WYNN        XEL         XOM  \\\n",
       "Date                                                                   \n",
       "2014-04-01   98.896851  19.938574  193.241638  22.083103   62.915455   \n",
       "2014-04-02   98.516464  19.724396  193.479767  22.046623   63.057087   \n",
       "2014-04-03   98.784973  19.911802  189.107605  22.090393   63.044197   \n",
       "2014-04-04   97.599121  19.811403  181.724304  22.367619   62.677242   \n",
       "2014-04-07   96.189491  19.416512  179.232040  22.272781   62.303886   \n",
       "...                ...        ...         ...        ...         ...   \n",
       "2024-03-22  272.332977  35.610001   99.889999  52.270000  112.575607   \n",
       "2024-03-25  272.841339  35.490002   99.410004  52.480000  113.726265   \n",
       "2024-03-26  273.260010  35.450001  100.580002  51.799999  112.873192   \n",
       "2024-03-27  275.920013  35.930000  101.790001  53.380001  114.043686   \n",
       "2024-03-28  275.000000  35.910000  102.230003  53.750000  115.303452   \n",
       "\n",
       "Symbol             XYL         YUM         ZBH        ZBRA         ZTS  \n",
       "Date                                                                    \n",
       "2014-04-01   32.646675   45.210091   85.481316   69.580002   27.247137  \n",
       "2014-04-02   33.191513   45.834221   86.611343   69.730003   27.497793  \n",
       "2014-04-03   32.752136   45.435974   87.867012   69.519997   27.497793  \n",
       "2014-04-04   32.778488   44.841564   86.701050   68.220001   27.219286  \n",
       "2014-04-07   31.970026   44.716743   85.068726   67.669998   26.922215  \n",
       "...                ...         ...         ...         ...         ...  \n",
       "2024-03-22  129.210007  136.229996  126.961258  291.440002  168.419785  \n",
       "2024-03-25  127.760002  134.619995  127.669930  297.940002  167.332886  \n",
       "2024-03-26  127.900002  134.800003  127.630005  291.380005  165.198959  \n",
       "2024-03-27  129.380005  137.320007  132.610001  299.160004  168.030884  \n",
       "2024-03-28  129.240005  138.649994  131.979996  301.440002  168.728912  \n",
       "\n",
       "[2516 rows x 499 columns]>"
      ]
     },
     "execution_count": 2,
     "metadata": {},
     "output_type": "execute_result"
    }
   ],
   "source": [
    "# Read saved date base\n",
    "\n",
    "\n",
    "# get all data\n",
    "assets = load.multiAssetHist_CSV(dataDir+'/'+datasetName)\n",
    "print('Full data set of assets')\n",
    "assets\n",
    "assets.info\n"
   ]
  },
  {
   "cell_type": "code",
   "execution_count": 3,
   "id": "d27bb9a4-1f63-4739-887b-c4959deaf348",
   "metadata": {},
   "outputs": [
    {
     "name": "stdout",
     "output_type": "stream",
     "text": [
      "----------------\n",
      "Subset of assets\n",
      "----------------\n",
      "\n",
      "- Prices:\n",
      "[[ 35.0114975   18.32213402  78.05315399]\n",
      " [ 34.95233917  18.16374969  78.28272247]\n",
      " [ 34.6649437   18.27191544  78.07941437]\n",
      " ...\n",
      " [420.89080811  61.43000031 155.27000427]\n",
      " [420.67120361  63.79000092 156.3500061 ]\n",
      " [419.9624939   63.90999985 157.74000549]]\n",
      "\n",
      "- Dates:\n",
      "['2014-04-01T00:00:00.000000000' '2014-04-02T00:00:00.000000000'\n",
      " '2014-04-03T00:00:00.000000000' ... '2024-03-26T00:00:00.000000000'\n",
      " '2024-03-27T00:00:00.000000000' '2024-03-28T00:00:00.000000000']\n",
      "\n",
      "- Symbols:\n",
      "['MSFT' 'NEE' 'CVX']\n"
     ]
    }
   ],
   "source": [
    "# get subset\n",
    "\n",
    "# select stocks of interest by symbol list *USER SET*\n",
    "stocklist = [\"MSFT\", \"NEE\", \"CVX\"]\n",
    "\n",
    "assetsSub = assets[stocklist]\n",
    "\n",
    "print('----------------')\n",
    "print('Subset of assets')\n",
    "print('----------------')\n",
    "\n",
    "assetsSub.head()\n",
    "\n",
    "prices, dates, syms = load.df2np(assetsSub)\n",
    "\n",
    "print('')\n",
    "print('- Prices:')\n",
    "print(prices)\n",
    "\n",
    "print('')\n",
    "print('- Dates:')\n",
    "print(dates)\n",
    "\n",
    "print('')\n",
    "print('- Symbols:')\n",
    "print(syms)"
   ]
  },
  {
   "cell_type": "code",
   "execution_count": 4,
   "id": "9ce02e47-5048-4c35-930d-5e98179febd3",
   "metadata": {},
   "outputs": [
    {
     "name": "stdout",
     "output_type": "stream",
     "text": [
      "-0.0016911120634433268\n",
      "[[-0.00169111 -0.00868201  0.00293686]\n",
      " [-0.00825649  0.00593737 -0.00260048]\n",
      " [-0.02819188  0.00432457 -0.00201845]\n",
      " ...\n",
      " [-0.00286558 -0.0190267  -0.00769874]\n",
      " [-0.0005219   0.03769813  0.00693156]\n",
      " [-0.00168613  0.00187939  0.00885102]]\n",
      "[0.00098787 0.00049677 0.00027974]\n",
      "[0.00028903 0.00022456 0.00035058]\n",
      "['2014-04-02T00:00:00.000000000' '2014-04-03T00:00:00.000000000'\n",
      " '2014-04-04T00:00:00.000000000' ... '2024-03-26T00:00:00.000000000'\n",
      " '2024-03-27T00:00:00.000000000' '2024-03-28T00:00:00.000000000']\n",
      "2515\n"
     ]
    },
    {
     "data": {
      "text/plain": [
       "'RTasseff reviewed code and found differences this, and an old code example.\\nIn old example code all rows containing nan values were removed, \\nwhich removes data for all symbols for that date if one symbol has nan.\\nOne example of a major impact this has is that Air BnB was added in 2023.\\nSo there are nans for ABNB for all times before 2023.\\nA direct comparision to the new workflow could not be made.\\nWe decided against rewriting anything here or there for the sole purpose of \\ncomparision.\\nThe old code was only used as an example of the method,\\nno actianable analysis was ever done or planned, it was just a learning example.\\nWe see no reason to spend more time on it.\\nWe did some hand spot checking on the returned values here.\\nOne example is shown.  \\nMore were done in ipython, manually, but not shown here.\\nWe determined this plus previous tests was sufficent to continue.\\n'"
      ]
     },
     "execution_count": 4,
     "metadata": {},
     "output_type": "execute_result"
    }
   ],
   "source": [
    "# optimization\n",
    "\n",
    "# compare against old results\n",
    "period=1\n",
    "returns = genFin.returns(prices,period=period,metric='Log')\n",
    "# use for spot check\n",
    "print(np.log(34.95233917/35.0114975))\n",
    "print(returns)\n",
    "returnDates = dates[period:]\n",
    "\n",
    "returnExps, returnDisps = genFin.calc_return_prop(returns,'Normal')\n",
    "\n",
    "print(returnExps)\n",
    "print(returnDisps**2)\n",
    "print(returnDates)\n",
    "print(len(returns))\n",
    "\n",
    "\"\"\"RTasseff reviewed code and found differences this, and an old code example.\n",
    "In old example code all rows containing nan values were removed, \n",
    "which removes data for all symbols for that date if one symbol has nan.\n",
    "One example of a major impact this has is that Air BnB was added in 2023.\n",
    "So there are nans for ABNB for all times before 2023.\n",
    "A direct comparision to the new workflow could not be made.\n",
    "We decided against rewriting anything here or there for the sole purpose of \n",
    "comparision.\n",
    "The old code was only used as an example of the method,\n",
    "no actianable analysis was ever done or planned, it was just a learning example.\n",
    "We see no reason to spend more time on it.\n",
    "We did some hand spot checking on the returned values here.\n",
    "One example is shown.  \n",
    "More were done in ipython, manually, but not shown here.\n",
    "We determined this plus previous tests was sufficent to continue.\n",
    "\"\"\""
   ]
  },
  {
   "cell_type": "code",
   "execution_count": 5,
   "id": "9b4eff54-3211-4478-baa8-849bbb2281ae",
   "metadata": {},
   "outputs": [
    {
     "name": "stdout",
     "output_type": "stream",
     "text": [
      "Expected Returns\n",
      "[0.02116498 0.01326033 0.00917267]\n",
      "Dispersion in Returns\n",
      "[0.06209538 0.05969037 0.08650711]\n",
      "Variation in Returns\n",
      "[0.00385584 0.00356294 0.00748348]\n",
      "Co-Variation in Returns\n",
      "[[0.00388693 0.00169858 0.00162529]\n",
      " [0.00169858 0.00359167 0.00116302]\n",
      " [0.00162529 0.00116302 0.00754383]]\n"
     ]
    }
   ],
   "source": [
    "import plotly.graph_objects as go\n",
    "\n",
    "# calc need stat props\n",
    "\n",
    "# set from 202411_apa_SP500\n",
    "month=21\n",
    "sampInt=20\n",
    "\n",
    "\n",
    "returns = genFin.returns(prices,month,'Relative')\n",
    "returnDates = dates[month:]\n",
    "\n",
    "# get sampling subset\n",
    "inds = np.arange(0,len(returns),sampInt)\n",
    "returns_samp = returns[inds]\n",
    "returnDates_samp = returnDates[inds]\n",
    "\n",
    "returnExps, returnDisps = genFin.calc_return_prop(returns_samp,'Normal')\n",
    "returnCoDispsSq = genFin.returnCoDispSq(returns_samp,'Normal')\n",
    "print('Expected Returns')\n",
    "print(returnExps)\n",
    "print('Dispersion in Returns')\n",
    "print(returnDisps) # this should be very near the diagonal of the codispssq\n",
    "print('Variation in Returns')\n",
    "print(returnDisps**2) # this should be very near the diagonal of the codispssq\n",
    "print('Co-Variation in Returns')\n",
    "print(returnCoDispsSq)\n"
   ]
  },
  {
   "cell_type": "code",
   "execution_count": 21,
   "id": "5ad13be6-f441-4734-969f-753ae1f133a4",
   "metadata": {
    "scrolled": true
   },
   "outputs": [
    {
     "name": "stdout",
     "output_type": "stream",
     "text": [
      "-- Portfolio Props, Monthly --\n",
      "0.014532659735113574\n",
      "0.05163569059196007\n",
      "-- Portfolio Props, Annualized --\n",
      "0.1743919168213629\n",
      "0.17887127917836224\n",
      "-- Portfolio Props, Errors --\n",
      "Weights in w do not add to one: 1.00001\n",
      "operands could not be broadcast together with shapes (3,) (4,) \n",
      "-- Sharpe Ratio --\n",
      "-0.2814460224799701\n",
      "-0.9749576210469613\n",
      "-0.7513331231189633\n",
      "-- Optimize Sharpe Ratio --\n",
      " message: Optimization terminated successfully\n",
      " success: True\n",
      "  status: 0\n",
      "     fun: -0.3476977020135474\n",
      "       x: [ 7.737e-01  2.263e-01  0.000e+00]\n",
      "     nit: 6\n",
      "     jac: [-5.855e-05  2.001e-04  5.658e-03]\n",
      "    nfev: 24\n",
      "    njev: 6\n",
      " message: Optimization terminated successfully\n",
      " success: True\n",
      "  status: 0\n",
      "     fun: -1.0004203601042256\n",
      "       x: [ 8.503e-01  1.497e-01  9.541e-18]\n",
      "     nit: 5\n",
      "     jac: [-2.003e-01 -2.002e-01 -8.275e-02]\n",
      "    nfev: 20\n",
      "    njev: 5\n",
      "weights max SR\n",
      "[8.50300680e-01 1.49699320e-01 9.54097912e-18]\n",
      "-- Optimize Dispersion --\n",
      " message: Optimization terminated successfully\n",
      " success: True\n",
      "  status: 0\n",
      "     fun: 0.049739259694189915\n",
      "       x: [ 3.594e-01  4.592e-01  1.814e-01]\n",
      "     nit: 9\n",
      "     jac: [ 4.969e-02  4.968e-02  4.999e-02]\n",
      "    nfev: 36\n",
      "    njev: 9\n",
      " message: Optimization terminated successfully\n",
      " success: True\n",
      "  status: 0\n",
      "     fun: 0.17230113829500904\n",
      "       x: [ 3.600e-01  4.595e-01  1.805e-01]\n",
      "     nit: 7\n",
      "     jac: [ 1.722e-01  1.721e-01  1.728e-01]\n",
      "    nfev: 28\n",
      "    njev: 7\n",
      "weights min disp\n",
      "[0.36001785 0.45950151 0.18048064]\n",
      "0.05163569059196007\n",
      "0.17887127917836224\n",
      "-- Optimize for a return--\n",
      " message: Optimization terminated successfully\n",
      " success: True\n",
      "  status: 0\n",
      "     fun: 0.17327423947329038\n",
      "       x: [ 2.737e-01  5.083e-01  2.180e-01]\n",
      "     nit: 4\n",
      "     jac: [ 1.580e-01  1.762e-01  1.857e-01]\n",
      "    nfev: 16\n",
      "    njev: 4\n",
      " message: Optimization terminated successfully\n",
      " success: True\n",
      "  status: 0\n",
      "     fun: 0.3007302206778418\n",
      "       x: [ 0.000e+00  5.703e-04  9.994e-01]\n",
      "     nit: 2\n",
      "     jac: [ 6.486e-02  4.646e-02  3.009e-01]\n",
      "    nfev: 8\n",
      "    njev: 2\n"
     ]
    }
   ],
   "source": [
    "# -- testing new functions for opt --\n",
    "\n",
    "# get portfolio properties\n",
    "m = len(returnExps)\n",
    "w = np.ones(m) * (1/m)\n",
    "returnExp_port, returnDisp_port = genFin.asset_set_perform(w, returnExps, returnCoDispsSq)\n",
    "\n",
    "# mannual spot check with above\n",
    "print('-- Portfolio Props, Monthly --')\n",
    "print(returnExp_port)\n",
    "print(returnDisp_port)\n",
    "\n",
    "returnExp_port, returnDisp_port = genFin.asset_set_perform(w, returnExps, returnCoDispsSq, annualizeBy='M')\n",
    "\n",
    "# mannual spot check with above\n",
    "print('-- Portfolio Props, Annualized --')\n",
    "print(returnExp_port)\n",
    "print(returnDisp_port)\n",
    "\n",
    "# test to capture errors\n",
    "print('-- Portfolio Props, Errors --')\n",
    "\n",
    "# catch weight error\n",
    "w = np.array([.9,.1,.00001])\n",
    "try:\n",
    "    returnExp_port, returnDisp_port = genFin.asset_set_perform(w, returnExps, returnCoDispsSq)\n",
    "except Exception as exc:\n",
    "    print(exc)\n",
    "\n",
    "# size mis match\n",
    "w = np.ones(m+1) * (1/(m+1))\n",
    "try:\n",
    "    returnExp_port, returnDisp_port = genFin.asset_set_perform(w, returnExps, returnCoDispsSq)\n",
    "except Exception as exc:\n",
    "    print(exc)\n",
    "\n",
    "\n",
    "\n",
    "\n",
    "# Function to calculate negative Sharpe ratio\n",
    "w = np.ones(m) * (1/m)\n",
    "sr = genFin.asset_set_neg_sharpe_ratio(w, returnExps, returnCoDispsSq)\n",
    "print('-- Sharpe Ratio --')\n",
    "print(sr)\n",
    "sr = genFin.asset_set_neg_sharpe_ratio(w, returnExps, returnCoDispsSq, annualizeBy='M')\n",
    "print(sr)\n",
    "sr = genFin.asset_set_neg_sharpe_ratio(w, returnExps, returnCoDispsSq, riskFreeRate=.04, annualizeBy='M')\n",
    "print(sr)\n",
    "\n",
    "\n",
    "# Function to maximize Sharpe ratio\n",
    "print('-- Optimize Sharpe Ratio --')\n",
    "optResults = po.max_sharpe_ratio(returnExps, returnCoDispsSq, riskFreeRate=0)\n",
    "print(optResults)\n",
    "optResults = po.max_sharpe_ratio(returnExps, returnCoDispsSq, riskFreeRate=.04,annualizeBy='M')\n",
    "print(optResults)\n",
    "\n",
    "# store solutions for later\n",
    "wSRMax = optResults['x']\n",
    "print('weights max SR')\n",
    "print(wSRMax)\n",
    "allocationSRMax = pd.DataFrame(100*np.round(wSRMax,2),index=syms,columns=[\"allocation\"])\n",
    "returnSRMax, dispSRMax = genFin.asset_set_perform(wSRMax, returnExps, returnCoDispsSq, annualizeBy='M')\n",
    "\n",
    "\"\"\"did manual sanity check on output.\n",
    "mostly MSFT as it had the best returns\n",
    "NEE had slightly lower retunrs but the variance was slightly lower\n",
    "and the correlation was only moderate, thus some NEE was included\n",
    "CVX was basically not included as it had low returns and high variation\n",
    "and the variation was not negative.\n",
    "\n",
    "We should note that we have made a trade off \n",
    "technically the comparision of assets should fully include the exact same \n",
    "time frame.\n",
    "That is the returns and the variance for all asset use the exact same set of \n",
    "time points.\n",
    "However, this may not always be the case since we deal with missing \n",
    "variables pairwise and not in totality.\n",
    "That is if one asset has a missing variable \n",
    "we remove that observation from calculating its return and covariances\n",
    "but we do not remove that observation from calulating another assets\n",
    "expected return.\n",
    "We did this to minimize loss of data.  \n",
    "In an extream example of data loss above, we say that the limited \n",
    "data set avalible for one asset, e.g. only a few years of ABNB, \n",
    "could mean that we exclude the vast majority of data for all assets \n",
    "even though most had data. \n",
    "In that example, this mass exclusion meant that we could \n",
    "not have enough data fro a proper sample interval simply \n",
    "because one asset did not have enough.\n",
    "On the outset this seems clear that we want to avoide the case above.\n",
    "And in our code we have.\n",
    "However, there is a notable draw back in an extream case of negative correlation.\n",
    "If asset A and B were perfectly uncorrelated (corr coef = -1)\n",
    "and they both returned positve returns, it would likly be in our interest \n",
    "to have both assets.\n",
    "In fact this is a perfect diversification senario \n",
    "such that holding portfolio A and B can completly remove fluctations \n",
    "that are specific to A or B, which is what MFT is trying to do overall.\n",
    "Since they both have positive returns it means that there is something \n",
    "increasing in value that is not specfici to A or B and that non-systemic thing is \n",
    "what we want to invest in.\n",
    "It could be overal economic health and/or industry specific health,\n",
    "but the fact that it is large than one company, is why it is less risky \n",
    "numerically less risky because we, by purpose, reduce the variation \n",
    "and more generally as one 2 independent companies are less likly to \n",
    "experiance sudden and extream loss compared to one company alone.\n",
    "However, this only works if the negative corealation and \n",
    "the positive expected return are calculated on the exact same time frame.\n",
    "That is we get positive returns in both over the same observations that\n",
    "they are varing oppositly.\n",
    "If there was an odd situation in which A had been around for a long time\n",
    "and until recently did well,\n",
    "but recently it did very poorly with -x returns.\n",
    "Where as B only started recently and did well with +x returns.\n",
    "Maybe B is making only money from otherwise A oppertunities.\n",
    "Then a situation would arrise where A has an expected positive return y\n",
    "despite its recent losses because of it long positve history.\n",
    "But there are not the returns that yeldied the negative corelation \n",
    "as it can only be calculated for the recent history in which B existed.\n",
    "If the overall trend of A holds, as well as the recent neg correlation \n",
    "then that is fine, but if the recent trend holds completly \n",
    "then the returns will be closer to -x. \n",
    "In this case the perfect neg cross corelation just means one \n",
    "companies losses and gains earase the others and you are left with \n",
    "0 return (no loss but no gain).\n",
    "This is the case Where A is just being replaced by B.\n",
    "We are allowing this as it is an extreme outlier case.\n",
    "And, if one specific asset was so severly comprimised (lots of missing data)\n",
    "the pipeline would have already thrown a flag alerting the user that \n",
    "this asset will comprimise the statistical asset.\n",
    "We either hurt the analysis by minimizing the data avalible \n",
    "with loss of statistical power or by hurting the analysis fundementals.\n",
    "We need to add an option to min data for more conservitive estimates.\n",
    "\"\"\"\n",
    "\n",
    "\n",
    "# Function to minimize portfolio Dispersion\n",
    "print('-- Optimize Dispersion --')\n",
    "\n",
    "optResults = po.min_dispersion(returnExps, returnCoDispsSq)\n",
    "print(optResults)\n",
    "optResults = po.min_dispersion(returnExps, returnCoDispsSq, annualizeBy='M')\n",
    "print(optResults)\n",
    "\n",
    "# store solutions for later\n",
    "wDispMin = optResults['x']\n",
    "returnDispMin, dispDispMin = genFin.asset_set_perform(wDispMin, returnExps, returnCoDispsSq, annualizeBy='M')\n",
    "print('weights min disp')\n",
    "print(wDispMin)\n",
    "allocationDispMin = pd.DataFrame(100*np.round(wDispMin,2),index=syms,columns=[\"allocation\"])\n",
    "\n",
    "print(po._asset_set_disp(w, returnExps, returnCoDispsSq, annualizeBy='None'))\n",
    "print(po._asset_set_disp(w, returnExps, returnCoDispsSq, annualizeBy='M'))\n",
    "\"\"\" Spot checked for sanity,\n",
    "Dispersion is lower than the individuals (see above) \n",
    "some benifit is gained by a combined portfolio beccause they are not perfectly \n",
    "correlated.\n",
    "But you cannot do much better because they are not anit correlated.\n",
    "We also hold the least amount of CVX because it has the highest dispersion.\n",
    "Finally we not that it does not mater if you annualize or not \n",
    "because it is just multipling by the same constant value.\n",
    "The function value changes but the position in weight space does not.\n",
    "The slight difference is just a numerial one.\n",
    "\"\"\"\n",
    "# Function to optimize the portfolio for a target return\n",
    "print('-- Optimize for a return--')\n",
    "# one solution could exist near even weights\n",
    "optResults = po.min_dispersion(returnExps, returnCoDispsSq, returnTarget=0.17439, annualizeBy='M')\n",
    "print(optResults)\n",
    "# one solution could exist near all wieght on worst (third) asset\n",
    "optResults = po.min_dispersion(returnExps, returnCoDispsSq, returnTarget=0.1101, annualizeBy='M')\n",
    "print(optResults)\n",
    "# manual sanity checks confirmed \n",
    "\n"
   ]
  },
  {
   "cell_type": "code",
   "execution_count": 31,
   "id": "9e3e8dde-846f-4527-b0b3-0f9c6286be77",
   "metadata": {
    "scrolled": true
   },
   "outputs": [
    {
     "name": "stdout",
     "output_type": "stream",
     "text": [
      "0.23977990320473386\n",
      "0.18442082109608138\n",
      "0.01383977052716312\n",
      "-- Efficient Frontier --\n",
      "[[3.59112966e-01 4.62156243e-01 1.78730790e-01]\n",
      " [4.19261354e-01 4.28191551e-01 1.52547095e-01]\n",
      " [4.79307907e-01 3.94525625e-01 1.26166467e-01]\n",
      " [5.39267283e-01 3.61115456e-01 9.96172603e-02]\n",
      " [5.99176133e-01 3.27853519e-01 7.29703484e-02]\n",
      " [6.59072167e-01 2.94629180e-01 4.62986532e-02]\n",
      " [7.18976304e-01 2.61381070e-01 1.96426256e-02]\n",
      " [7.82507228e-01 2.17492772e-01 1.11022302e-16]\n",
      " [8.56195769e-01 1.43804231e-01 0.00000000e+00]\n",
      " [9.29884311e-01 7.01156895e-02 5.55111512e-17]]\n"
     ]
    },
    {
     "data": {
      "application/vnd.plotly.v1+json": {
       "config": {
        "plotlyServerURL": "https://plot.ly"
       },
       "data": [
        {
         "hoverinfo": "text",
         "marker": {
          "color": "red",
          "line": {
           "color": "black",
           "width": 3
          },
          "size": 14
         },
         "mode": "markers",
         "name": "Maximum Sharpe Ratio",
         "text": [
          "Return: 23.98%, Volatility: 0.2 (83.28%)<br>      allocation\nMSFT        85.0\nNEE         15.0\nCVX          0.0"
         ],
         "type": "scatter",
         "x": [
          0.19969595899059914
         ],
         "y": [
          23.98
         ]
        },
        {
         "hoverinfo": "text",
         "marker": {
          "color": "green",
          "line": {
           "color": "black",
           "width": 3
          },
          "size": 14
         },
         "mode": "markers",
         "name": "Minimum Volatility",
         "text": [
          "Return: 18.44%, Volatility: 0.17 (93.43%)<br>      allocation\nMSFT        36.0\nNEE         46.0\nCVX         18.0"
         ],
         "type": "scatter",
         "x": [
          0.17230113829500904
         ],
         "y": [
          18.44
         ]
        },
        {
         "hoverinfo": "text",
         "line": {
          "color": "black",
          "dash": "dashdot",
          "width": 3
         },
         "mode": "lines",
         "name": "Efficient Frontier",
         "text": [
          "Return: 18.44%, Volatility: 0.17 (93.43%)<br>MSFT: 35.91%<br>NEE: 46.22%<br>CVX: 17.87%",
          "Return: 18.51%, Volatility: 0.17 (93.08%)<br>MSFT: 36.51%<br>NEE: 45.88%<br>CVX: 17.61%",
          "Return: 18.58%, Volatility: 0.17 (92.73%)<br>MSFT: 37.11%<br>NEE: 45.53%<br>CVX: 17.35%",
          "Return: 18.65%, Volatility: 0.17 (92.4%)<br>MSFT: 37.72%<br>NEE: 45.19%<br>CVX: 17.09%",
          "Return: 18.72%, Volatility: 0.17 (92.07%)<br>MSFT: 38.32%<br>NEE: 44.85%<br>CVX: 16.83%",
          "Return: 18.79%, Volatility: 0.17 (91.75%)<br>MSFT: 38.92%<br>NEE: 44.51%<br>CVX: 16.57%",
          "Return: 18.86%, Volatility: 0.17 (91.44%)<br>MSFT: 39.52%<br>NEE: 44.17%<br>CVX: 16.3%",
          "Return: 18.93%, Volatility: 0.17 (91.13%)<br>MSFT: 40.12%<br>NEE: 43.84%<br>CVX: 16.04%",
          "Return: 19.0%, Volatility: 0.17 (90.83%)<br>MSFT: 40.72%<br>NEE: 43.5%<br>CVX: 15.78%",
          "Return: 19.07%, Volatility: 0.17 (90.54%)<br>MSFT: 41.33%<br>NEE: 43.16%<br>CVX: 15.52%",
          "Return: 19.14%, Volatility: 0.17 (90.25%)<br>MSFT: 41.93%<br>NEE: 42.82%<br>CVX: 15.25%",
          "Return: 19.21%, Volatility: 0.17 (89.98%)<br>MSFT: 42.53%<br>NEE: 42.48%<br>CVX: 14.99%",
          "Return: 19.28%, Volatility: 0.17 (89.7%)<br>MSFT: 43.13%<br>NEE: 42.14%<br>CVX: 14.73%",
          "Return: 19.35%, Volatility: 0.17 (89.44%)<br>MSFT: 43.73%<br>NEE: 41.81%<br>CVX: 14.47%",
          "Return: 19.42%, Volatility: 0.17 (89.18%)<br>MSFT: 44.33%<br>NEE: 41.47%<br>CVX: 14.2%",
          "Return: 19.49%, Volatility: 0.17 (88.93%)<br>MSFT: 44.93%<br>NEE: 41.13%<br>CVX: 13.94%",
          "Return: 19.56%, Volatility: 0.17 (88.68%)<br>MSFT: 45.53%<br>NEE: 40.8%<br>CVX: 13.67%",
          "Return: 19.63%, Volatility: 0.17 (88.45%)<br>MSFT: 46.13%<br>NEE: 40.46%<br>CVX: 13.41%",
          "Return: 19.7%, Volatility: 0.17 (88.21%)<br>MSFT: 46.73%<br>NEE: 40.12%<br>CVX: 13.15%",
          "Return: 19.77%, Volatility: 0.17 (87.99%)<br>MSFT: 47.33%<br>NEE: 39.79%<br>CVX: 12.88%",
          "Return: 19.84%, Volatility: 0.17 (87.77%)<br>MSFT: 47.93%<br>NEE: 39.45%<br>CVX: 12.62%",
          "Return: 19.91%, Volatility: 0.17 (87.55%)<br>MSFT: 48.53%<br>NEE: 39.12%<br>CVX: 12.35%",
          "Return: 19.98%, Volatility: 0.17 (87.35%)<br>MSFT: 49.13%<br>NEE: 38.78%<br>CVX: 12.09%",
          "Return: 20.05%, Volatility: 0.17 (87.14%)<br>MSFT: 49.73%<br>NEE: 38.45%<br>CVX: 11.82%",
          "Return: 20.12%, Volatility: 0.17 (86.95%)<br>MSFT: 50.33%<br>NEE: 38.11%<br>CVX: 11.56%",
          "Return: 20.19%, Volatility: 0.18 (86.76%)<br>MSFT: 50.93%<br>NEE: 37.78%<br>CVX: 11.29%",
          "Return: 20.26%, Volatility: 0.18 (86.57%)<br>MSFT: 51.53%<br>NEE: 37.45%<br>CVX: 11.03%",
          "Return: 20.33%, Volatility: 0.18 (86.4%)<br>MSFT: 52.13%<br>NEE: 37.11%<br>CVX: 10.76%",
          "Return: 20.4%, Volatility: 0.18 (86.22%)<br>MSFT: 52.73%<br>NEE: 36.78%<br>CVX: 10.49%",
          "Return: 20.47%, Volatility: 0.18 (86.05%)<br>MSFT: 53.33%<br>NEE: 36.44%<br>CVX: 10.23%",
          "Return: 20.54%, Volatility: 0.18 (85.89%)<br>MSFT: 53.93%<br>NEE: 36.11%<br>CVX: 9.96%",
          "Return: 20.61%, Volatility: 0.18 (85.73%)<br>MSFT: 54.53%<br>NEE: 35.78%<br>CVX: 9.7%",
          "Return: 20.68%, Volatility: 0.18 (85.58%)<br>MSFT: 55.13%<br>NEE: 35.45%<br>CVX: 9.43%",
          "Return: 20.75%, Volatility: 0.18 (85.44%)<br>MSFT: 55.72%<br>NEE: 35.11%<br>CVX: 9.16%",
          "Return: 20.82%, Volatility: 0.18 (85.29%)<br>MSFT: 56.32%<br>NEE: 34.78%<br>CVX: 8.9%",
          "Return: 20.89%, Volatility: 0.18 (85.16%)<br>MSFT: 56.92%<br>NEE: 34.45%<br>CVX: 8.63%",
          "Return: 20.96%, Volatility: 0.18 (85.03%)<br>MSFT: 57.52%<br>NEE: 34.11%<br>CVX: 8.36%",
          "Return: 21.03%, Volatility: 0.18 (84.9%)<br>MSFT: 58.12%<br>NEE: 33.78%<br>CVX: 8.1%",
          "Return: 21.1%, Volatility: 0.18 (84.78%)<br>MSFT: 58.72%<br>NEE: 33.45%<br>CVX: 7.83%",
          "Return: 21.17%, Volatility: 0.18 (84.66%)<br>MSFT: 59.32%<br>NEE: 33.12%<br>CVX: 7.56%",
          "Return: 21.24%, Volatility: 0.18 (84.55%)<br>MSFT: 59.92%<br>NEE: 32.79%<br>CVX: 7.3%",
          "Return: 21.31%, Volatility: 0.18 (84.44%)<br>MSFT: 60.52%<br>NEE: 32.45%<br>CVX: 7.03%",
          "Return: 21.38%, Volatility: 0.18 (84.34%)<br>MSFT: 61.23%<br>NEE: 31.78%<br>CVX: 6.99%",
          "Return: 21.45%, Volatility: 0.18 (84.24%)<br>MSFT: 61.75%<br>NEE: 31.68%<br>CVX: 6.57%",
          "Return: 21.52%, Volatility: 0.18 (84.14%)<br>MSFT: 62.27%<br>NEE: 31.58%<br>CVX: 6.15%",
          "Return: 21.59%, Volatility: 0.18 (84.05%)<br>MSFT: 62.79%<br>NEE: 31.48%<br>CVX: 5.73%",
          "Return: 21.66%, Volatility: 0.18 (83.96%)<br>MSFT: 63.51%<br>NEE: 30.79%<br>CVX: 5.7%",
          "Return: 21.73%, Volatility: 0.18 (83.88%)<br>MSFT: 64.11%<br>NEE: 30.46%<br>CVX: 5.43%",
          "Return: 21.8%, Volatility: 0.18 (83.81%)<br>MSFT: 64.71%<br>NEE: 30.13%<br>CVX: 5.16%",
          "Return: 21.87%, Volatility: 0.18 (83.73%)<br>MSFT: 65.31%<br>NEE: 29.8%<br>CVX: 4.9%",
          "Return: 21.94%, Volatility: 0.18 (83.66%)<br>MSFT: 65.91%<br>NEE: 29.46%<br>CVX: 4.63%",
          "Return: 22.01%, Volatility: 0.18 (83.6%)<br>MSFT: 66.51%<br>NEE: 29.13%<br>CVX: 4.36%",
          "Return: 22.08%, Volatility: 0.18 (83.53%)<br>MSFT: 67.11%<br>NEE: 28.8%<br>CVX: 4.1%",
          "Return: 22.15%, Volatility: 0.18 (83.48%)<br>MSFT: 67.7%<br>NEE: 28.47%<br>CVX: 3.83%",
          "Return: 22.22%, Volatility: 0.19 (83.42%)<br>MSFT: 68.3%<br>NEE: 28.13%<br>CVX: 3.56%",
          "Return: 22.29%, Volatility: 0.19 (83.37%)<br>MSFT: 68.9%<br>NEE: 27.8%<br>CVX: 3.3%",
          "Return: 22.36%, Volatility: 0.19 (83.33%)<br>MSFT: 69.5%<br>NEE: 27.47%<br>CVX: 3.03%",
          "Return: 22.43%, Volatility: 0.19 (83.28%)<br>MSFT: 70.1%<br>NEE: 27.13%<br>CVX: 2.76%",
          "Return: 22.5%, Volatility: 0.19 (83.24%)<br>MSFT: 70.7%<br>NEE: 26.8%<br>CVX: 2.5%",
          "Return: 22.57%, Volatility: 0.19 (83.21%)<br>MSFT: 71.3%<br>NEE: 26.47%<br>CVX: 2.23%",
          "Return: 22.64%, Volatility: 0.19 (83.17%)<br>MSFT: 71.9%<br>NEE: 26.14%<br>CVX: 1.96%",
          "Return: 22.71%, Volatility: 0.19 (83.14%)<br>MSFT: 72.5%<br>NEE: 25.81%<br>CVX: 1.7%",
          "Return: 22.78%, Volatility: 0.19 (83.12%)<br>MSFT: 73.09%<br>NEE: 25.48%<br>CVX: 1.43%",
          "Return: 22.85%, Volatility: 0.19 (83.09%)<br>MSFT: 73.69%<br>NEE: 25.14%<br>CVX: 1.16%",
          "Return: 22.92%, Volatility: 0.19 (83.07%)<br>MSFT: 74.29%<br>NEE: 24.81%<br>CVX: 0.9%",
          "Return: 22.99%, Volatility: 0.19 (83.06%)<br>MSFT: 74.89%<br>NEE: 24.48%<br>CVX: 0.63%",
          "Return: 23.06%, Volatility: 0.19 (83.04%)<br>MSFT: 75.49%<br>NEE: 24.15%<br>CVX: 0.36%",
          "Return: 23.13%, Volatility: 0.19 (83.03%)<br>MSFT: 76.04%<br>NEE: 23.96%<br>CVX: 0.0%",
          "Return: 23.2%, Volatility: 0.19 (83.03%)<br>MSFT: 76.78%<br>NEE: 23.22%<br>CVX: 0.0%",
          "Return: 23.27%, Volatility: 0.19 (83.02%)<br>MSFT: 77.51%<br>NEE: 22.49%<br>CVX: 0.0%",
          "Return: 23.33%, Volatility: 0.19 (83.03%)<br>MSFT: 78.25%<br>NEE: 21.75%<br>CVX: 0.0%",
          "Return: 23.4%, Volatility: 0.19 (83.04%)<br>MSFT: 78.99%<br>NEE: 21.01%<br>CVX: 0.0%",
          "Return: 23.47%, Volatility: 0.19 (83.05%)<br>MSFT: 79.72%<br>NEE: 20.28%<br>CVX: 0.0%",
          "Return: 23.54%, Volatility: 0.2 (83.07%)<br>MSFT: 80.46%<br>NEE: 19.54%<br>CVX: 0.0%",
          "Return: 23.61%, Volatility: 0.2 (83.09%)<br>MSFT: 81.2%<br>NEE: 18.8%<br>CVX: 0.0%",
          "Return: 23.68%, Volatility: 0.2 (83.12%)<br>MSFT: 81.94%<br>NEE: 18.06%<br>CVX: 0.0%",
          "Return: 23.75%, Volatility: 0.2 (83.15%)<br>MSFT: 82.67%<br>NEE: 17.33%<br>CVX: 0.0%",
          "Return: 23.82%, Volatility: 0.2 (83.19%)<br>MSFT: 83.41%<br>NEE: 16.59%<br>CVX: 0.0%",
          "Return: 23.89%, Volatility: 0.2 (83.23%)<br>MSFT: 84.15%<br>NEE: 15.85%<br>CVX: 0.0%",
          "Return: 23.96%, Volatility: 0.2 (83.27%)<br>MSFT: 84.88%<br>NEE: 15.12%<br>CVX: 0.0%",
          "Return: 24.03%, Volatility: 0.2 (83.32%)<br>MSFT: 85.62%<br>NEE: 14.38%<br>CVX: 0.0%",
          "Return: 24.1%, Volatility: 0.2 (83.38%)<br>MSFT: 86.36%<br>NEE: 13.64%<br>CVX: 0.0%",
          "Return: 24.17%, Volatility: 0.2 (83.44%)<br>MSFT: 87.09%<br>NEE: 12.91%<br>CVX: 0.0%",
          "Return: 24.24%, Volatility: 0.2 (83.5%)<br>MSFT: 87.83%<br>NEE: 12.17%<br>CVX: 0.0%",
          "Return: 24.31%, Volatility: 0.2 (83.56%)<br>MSFT: 88.57%<br>NEE: 11.43%<br>CVX: 0.0%",
          "Return: 24.38%, Volatility: 0.2 (83.63%)<br>MSFT: 89.3%<br>NEE: 10.7%<br>CVX: 0.0%",
          "Return: 24.45%, Volatility: 0.2 (83.71%)<br>MSFT: 90.04%<br>NEE: 9.96%<br>CVX: 0.0%",
          "Return: 24.52%, Volatility: 0.21 (83.78%)<br>MSFT: 90.78%<br>NEE: 9.22%<br>CVX: 0.0%",
          "Return: 24.59%, Volatility: 0.21 (83.87%)<br>MSFT: 91.51%<br>NEE: 8.49%<br>CVX: 0.0%",
          "Return: 24.66%, Volatility: 0.21 (83.95%)<br>MSFT: 92.25%<br>NEE: 7.75%<br>CVX: 0.0%",
          "Return: 24.73%, Volatility: 0.21 (84.04%)<br>MSFT: 92.99%<br>NEE: 7.01%<br>CVX: 0.0%",
          "Return: 24.8%, Volatility: 0.21 (84.13%)<br>MSFT: 93.73%<br>NEE: 6.27%<br>CVX: 0.0%",
          "Return: 24.87%, Volatility: 0.21 (84.22%)<br>MSFT: 94.46%<br>NEE: 5.54%<br>CVX: 0.0%",
          "Return: 24.94%, Volatility: 0.21 (84.32%)<br>MSFT: 95.2%<br>NEE: 4.8%<br>CVX: 0.0%",
          "Return: 25.01%, Volatility: 0.21 (84.42%)<br>MSFT: 95.94%<br>NEE: 4.06%<br>CVX: 0.0%",
          "Return: 25.08%, Volatility: 0.21 (84.53%)<br>MSFT: 96.67%<br>NEE: 3.33%<br>CVX: 0.0%",
          "Return: 25.15%, Volatility: 0.21 (84.63%)<br>MSFT: 97.41%<br>NEE: 2.59%<br>CVX: 0.0%",
          "Return: 25.22%, Volatility: 0.21 (84.74%)<br>MSFT: 98.15%<br>NEE: 1.85%<br>CVX: 0.0%",
          "Return: 25.29%, Volatility: 0.21 (84.86%)<br>MSFT: 98.88%<br>NEE: 1.12%<br>CVX: 0.0%",
          "Return: 25.36%, Volatility: 0.22 (84.97%)<br>MSFT: 99.62%<br>NEE: 0.38%<br>CVX: 0.0%"
         ],
         "type": "scatter",
         "x": [
          0.17230123778436424,
          0.17230471815212706,
          0.17231752175144976,
          0.17233964685203865,
          0.1723710899868902,
          0.17241184609185822,
          0.17246190848152881,
          0.17252126882015953,
          0.17258991740270344,
          0.17266784289840117,
          0.17275503255188873,
          0.17285147212646568,
          0.17295714590672315,
          0.17307203680481845,
          0.17319612626799202,
          0.17332939433692132,
          0.17347181969478834,
          0.17362337974860814,
          0.17378405029497362,
          0.17395380605456603,
          0.1741326203537125,
          0.1743204651488386,
          0.17451731126220008,
          0.17472312815662505,
          0.17493788411899072,
          0.17516154618256463,
          0.17539408022679015,
          0.17563545099856792,
          0.1758856221155362,
          0.17614455591547667,
          0.17641221393048048,
          0.17668855639175168,
          0.17697354267636395,
          0.17726713105966724,
          0.17756927884927456,
          0.17787994245690494,
          0.17819907727533774,
          0.17852663792607404,
          0.17886257809817843,
          0.1792068506654801,
          0.17955940769760315,
          0.17992020049797464,
          0.18029131275260182,
          0.18066652369004585,
          0.18105174821663955,
          0.18144692255374056,
          0.1818459460998629,
          0.1822550912427016,
          0.1826721121071643,
          0.18309695486755628,
          0.18352956521175479,
          0.18396988841943598,
          0.1844178691002547,
          0.1848734516875029,
          0.18533658011264814,
          0.18580719787870412,
          0.1862852483755185,
          0.1867706744990006,
          0.18726341879699107,
          0.18776342359401324,
          0.18827063085123094,
          0.18878498289178242,
          0.18930642149961324,
          0.18983488815651295,
          0.19037032436370474,
          0.1909126714516675,
          0.19146187068425252,
          0.19201820999936506,
          0.19258172785593416,
          0.19315737050751342,
          0.19374502988092226,
          0.19434459696766718,
          0.19495596190492206,
          0.1955790140552016,
          0.19621364208463943,
          0.19685973403978807,
          0.19751717742286648,
          0.19818585926538512,
          0.19886566620008808,
          0.19955648453115618,
          0.20025820030262226,
          0.2009706993649564,
          0.20169386743978382,
          0.20242759018270556,
          0.20317175324419626,
          0.20392624232856027,
          0.2046909432509305,
          0.20546574199230283,
          0.2062505247525988,
          0.20704517800175892,
          0.2078495885288701,
          0.20866364348933455,
          0.20948723045009326,
          0.21032023743291972,
          0.21116255295580214,
          0.21201406607243542,
          0.2128746664098501,
          0.21374424420420265,
          0.21462269033475834,
          0.21550989635609835
         ],
         "y": [
          18.44,
          18.51,
          18.58,
          18.65,
          18.72,
          18.79,
          18.86,
          18.93,
          19,
          19.07,
          19.14,
          19.21,
          19.28,
          19.35,
          19.42,
          19.49,
          19.56,
          19.63,
          19.7,
          19.77,
          19.84,
          19.91,
          19.98,
          20.05,
          20.12,
          20.19,
          20.26,
          20.33,
          20.4,
          20.47,
          20.54,
          20.61,
          20.68,
          20.75,
          20.82,
          20.89,
          20.96,
          21.03,
          21.1,
          21.17,
          21.24,
          21.31,
          21.38,
          21.45,
          21.52,
          21.59,
          21.66,
          21.73,
          21.8,
          21.87,
          21.94,
          22.01,
          22.08,
          22.15,
          22.22,
          22.29,
          22.36,
          22.43,
          22.5,
          22.57,
          22.64,
          22.71,
          22.78,
          22.85,
          22.92,
          22.99,
          23.06,
          23.13,
          23.2,
          23.27,
          23.33,
          23.4,
          23.47,
          23.54,
          23.61,
          23.68,
          23.75,
          23.82,
          23.89,
          23.96,
          24.03,
          24.1,
          24.17,
          24.24,
          24.31,
          24.38,
          24.45,
          24.52,
          24.59,
          24.66,
          24.73,
          24.8,
          24.87,
          24.94,
          25.01,
          25.08,
          25.15,
          25.22,
          25.29,
          25.36
         ]
        },
        {
         "hoverinfo": "text",
         "marker": {
          "color": "blue",
          "line": {
           "color": "black",
           "width": 3
          },
          "size": 14
         },
         "mode": "markers",
         "name": "Risk-Free Asset",
         "text": "Risk-Free Rate: 4.0%",
         "type": "scatter",
         "x": [
          0
         ],
         "y": [
          4
         ]
        },
        {
         "line": {
          "color": "orange",
          "dash": "dashdot",
          "width": 2
         },
         "mode": "lines",
         "name": "Capital Allocation Line",
         "type": "scatter",
         "x": [
          0,
          0.19969595899059914
         ],
         "y": [
          4,
          23.98
         ]
        }
       ],
       "layout": {
        "height": 600,
        "legend": {
         "bgcolor": "#E2E2E2",
         "bordercolor": "black",
         "borderwidth": 2,
         "traceorder": "normal",
         "x": 0.75,
         "y": 0
        },
        "showlegend": true,
        "template": {
         "data": {
          "bar": [
           {
            "error_x": {
             "color": "#2a3f5f"
            },
            "error_y": {
             "color": "#2a3f5f"
            },
            "marker": {
             "line": {
              "color": "#E5ECF6",
              "width": 0.5
             },
             "pattern": {
              "fillmode": "overlay",
              "size": 10,
              "solidity": 0.2
             }
            },
            "type": "bar"
           }
          ],
          "barpolar": [
           {
            "marker": {
             "line": {
              "color": "#E5ECF6",
              "width": 0.5
             },
             "pattern": {
              "fillmode": "overlay",
              "size": 10,
              "solidity": 0.2
             }
            },
            "type": "barpolar"
           }
          ],
          "carpet": [
           {
            "aaxis": {
             "endlinecolor": "#2a3f5f",
             "gridcolor": "white",
             "linecolor": "white",
             "minorgridcolor": "white",
             "startlinecolor": "#2a3f5f"
            },
            "baxis": {
             "endlinecolor": "#2a3f5f",
             "gridcolor": "white",
             "linecolor": "white",
             "minorgridcolor": "white",
             "startlinecolor": "#2a3f5f"
            },
            "type": "carpet"
           }
          ],
          "choropleth": [
           {
            "colorbar": {
             "outlinewidth": 0,
             "ticks": ""
            },
            "type": "choropleth"
           }
          ],
          "contour": [
           {
            "colorbar": {
             "outlinewidth": 0,
             "ticks": ""
            },
            "colorscale": [
             [
              0,
              "#0d0887"
             ],
             [
              0.1111111111111111,
              "#46039f"
             ],
             [
              0.2222222222222222,
              "#7201a8"
             ],
             [
              0.3333333333333333,
              "#9c179e"
             ],
             [
              0.4444444444444444,
              "#bd3786"
             ],
             [
              0.5555555555555556,
              "#d8576b"
             ],
             [
              0.6666666666666666,
              "#ed7953"
             ],
             [
              0.7777777777777778,
              "#fb9f3a"
             ],
             [
              0.8888888888888888,
              "#fdca26"
             ],
             [
              1,
              "#f0f921"
             ]
            ],
            "type": "contour"
           }
          ],
          "contourcarpet": [
           {
            "colorbar": {
             "outlinewidth": 0,
             "ticks": ""
            },
            "type": "contourcarpet"
           }
          ],
          "heatmap": [
           {
            "colorbar": {
             "outlinewidth": 0,
             "ticks": ""
            },
            "colorscale": [
             [
              0,
              "#0d0887"
             ],
             [
              0.1111111111111111,
              "#46039f"
             ],
             [
              0.2222222222222222,
              "#7201a8"
             ],
             [
              0.3333333333333333,
              "#9c179e"
             ],
             [
              0.4444444444444444,
              "#bd3786"
             ],
             [
              0.5555555555555556,
              "#d8576b"
             ],
             [
              0.6666666666666666,
              "#ed7953"
             ],
             [
              0.7777777777777778,
              "#fb9f3a"
             ],
             [
              0.8888888888888888,
              "#fdca26"
             ],
             [
              1,
              "#f0f921"
             ]
            ],
            "type": "heatmap"
           }
          ],
          "heatmapgl": [
           {
            "colorbar": {
             "outlinewidth": 0,
             "ticks": ""
            },
            "colorscale": [
             [
              0,
              "#0d0887"
             ],
             [
              0.1111111111111111,
              "#46039f"
             ],
             [
              0.2222222222222222,
              "#7201a8"
             ],
             [
              0.3333333333333333,
              "#9c179e"
             ],
             [
              0.4444444444444444,
              "#bd3786"
             ],
             [
              0.5555555555555556,
              "#d8576b"
             ],
             [
              0.6666666666666666,
              "#ed7953"
             ],
             [
              0.7777777777777778,
              "#fb9f3a"
             ],
             [
              0.8888888888888888,
              "#fdca26"
             ],
             [
              1,
              "#f0f921"
             ]
            ],
            "type": "heatmapgl"
           }
          ],
          "histogram": [
           {
            "marker": {
             "pattern": {
              "fillmode": "overlay",
              "size": 10,
              "solidity": 0.2
             }
            },
            "type": "histogram"
           }
          ],
          "histogram2d": [
           {
            "colorbar": {
             "outlinewidth": 0,
             "ticks": ""
            },
            "colorscale": [
             [
              0,
              "#0d0887"
             ],
             [
              0.1111111111111111,
              "#46039f"
             ],
             [
              0.2222222222222222,
              "#7201a8"
             ],
             [
              0.3333333333333333,
              "#9c179e"
             ],
             [
              0.4444444444444444,
              "#bd3786"
             ],
             [
              0.5555555555555556,
              "#d8576b"
             ],
             [
              0.6666666666666666,
              "#ed7953"
             ],
             [
              0.7777777777777778,
              "#fb9f3a"
             ],
             [
              0.8888888888888888,
              "#fdca26"
             ],
             [
              1,
              "#f0f921"
             ]
            ],
            "type": "histogram2d"
           }
          ],
          "histogram2dcontour": [
           {
            "colorbar": {
             "outlinewidth": 0,
             "ticks": ""
            },
            "colorscale": [
             [
              0,
              "#0d0887"
             ],
             [
              0.1111111111111111,
              "#46039f"
             ],
             [
              0.2222222222222222,
              "#7201a8"
             ],
             [
              0.3333333333333333,
              "#9c179e"
             ],
             [
              0.4444444444444444,
              "#bd3786"
             ],
             [
              0.5555555555555556,
              "#d8576b"
             ],
             [
              0.6666666666666666,
              "#ed7953"
             ],
             [
              0.7777777777777778,
              "#fb9f3a"
             ],
             [
              0.8888888888888888,
              "#fdca26"
             ],
             [
              1,
              "#f0f921"
             ]
            ],
            "type": "histogram2dcontour"
           }
          ],
          "mesh3d": [
           {
            "colorbar": {
             "outlinewidth": 0,
             "ticks": ""
            },
            "type": "mesh3d"
           }
          ],
          "parcoords": [
           {
            "line": {
             "colorbar": {
              "outlinewidth": 0,
              "ticks": ""
             }
            },
            "type": "parcoords"
           }
          ],
          "pie": [
           {
            "automargin": true,
            "type": "pie"
           }
          ],
          "scatter": [
           {
            "fillpattern": {
             "fillmode": "overlay",
             "size": 10,
             "solidity": 0.2
            },
            "type": "scatter"
           }
          ],
          "scatter3d": [
           {
            "line": {
             "colorbar": {
              "outlinewidth": 0,
              "ticks": ""
             }
            },
            "marker": {
             "colorbar": {
              "outlinewidth": 0,
              "ticks": ""
             }
            },
            "type": "scatter3d"
           }
          ],
          "scattercarpet": [
           {
            "marker": {
             "colorbar": {
              "outlinewidth": 0,
              "ticks": ""
             }
            },
            "type": "scattercarpet"
           }
          ],
          "scattergeo": [
           {
            "marker": {
             "colorbar": {
              "outlinewidth": 0,
              "ticks": ""
             }
            },
            "type": "scattergeo"
           }
          ],
          "scattergl": [
           {
            "marker": {
             "colorbar": {
              "outlinewidth": 0,
              "ticks": ""
             }
            },
            "type": "scattergl"
           }
          ],
          "scattermapbox": [
           {
            "marker": {
             "colorbar": {
              "outlinewidth": 0,
              "ticks": ""
             }
            },
            "type": "scattermapbox"
           }
          ],
          "scatterpolar": [
           {
            "marker": {
             "colorbar": {
              "outlinewidth": 0,
              "ticks": ""
             }
            },
            "type": "scatterpolar"
           }
          ],
          "scatterpolargl": [
           {
            "marker": {
             "colorbar": {
              "outlinewidth": 0,
              "ticks": ""
             }
            },
            "type": "scatterpolargl"
           }
          ],
          "scatterternary": [
           {
            "marker": {
             "colorbar": {
              "outlinewidth": 0,
              "ticks": ""
             }
            },
            "type": "scatterternary"
           }
          ],
          "surface": [
           {
            "colorbar": {
             "outlinewidth": 0,
             "ticks": ""
            },
            "colorscale": [
             [
              0,
              "#0d0887"
             ],
             [
              0.1111111111111111,
              "#46039f"
             ],
             [
              0.2222222222222222,
              "#7201a8"
             ],
             [
              0.3333333333333333,
              "#9c179e"
             ],
             [
              0.4444444444444444,
              "#bd3786"
             ],
             [
              0.5555555555555556,
              "#d8576b"
             ],
             [
              0.6666666666666666,
              "#ed7953"
             ],
             [
              0.7777777777777778,
              "#fb9f3a"
             ],
             [
              0.8888888888888888,
              "#fdca26"
             ],
             [
              1,
              "#f0f921"
             ]
            ],
            "type": "surface"
           }
          ],
          "table": [
           {
            "cells": {
             "fill": {
              "color": "#EBF0F8"
             },
             "line": {
              "color": "white"
             }
            },
            "header": {
             "fill": {
              "color": "#C8D4E3"
             },
             "line": {
              "color": "white"
             }
            },
            "type": "table"
           }
          ]
         },
         "layout": {
          "annotationdefaults": {
           "arrowcolor": "#2a3f5f",
           "arrowhead": 0,
           "arrowwidth": 1
          },
          "autotypenumbers": "strict",
          "coloraxis": {
           "colorbar": {
            "outlinewidth": 0,
            "ticks": ""
           }
          },
          "colorscale": {
           "diverging": [
            [
             0,
             "#8e0152"
            ],
            [
             0.1,
             "#c51b7d"
            ],
            [
             0.2,
             "#de77ae"
            ],
            [
             0.3,
             "#f1b6da"
            ],
            [
             0.4,
             "#fde0ef"
            ],
            [
             0.5,
             "#f7f7f7"
            ],
            [
             0.6,
             "#e6f5d0"
            ],
            [
             0.7,
             "#b8e186"
            ],
            [
             0.8,
             "#7fbc41"
            ],
            [
             0.9,
             "#4d9221"
            ],
            [
             1,
             "#276419"
            ]
           ],
           "sequential": [
            [
             0,
             "#0d0887"
            ],
            [
             0.1111111111111111,
             "#46039f"
            ],
            [
             0.2222222222222222,
             "#7201a8"
            ],
            [
             0.3333333333333333,
             "#9c179e"
            ],
            [
             0.4444444444444444,
             "#bd3786"
            ],
            [
             0.5555555555555556,
             "#d8576b"
            ],
            [
             0.6666666666666666,
             "#ed7953"
            ],
            [
             0.7777777777777778,
             "#fb9f3a"
            ],
            [
             0.8888888888888888,
             "#fdca26"
            ],
            [
             1,
             "#f0f921"
            ]
           ],
           "sequentialminus": [
            [
             0,
             "#0d0887"
            ],
            [
             0.1111111111111111,
             "#46039f"
            ],
            [
             0.2222222222222222,
             "#7201a8"
            ],
            [
             0.3333333333333333,
             "#9c179e"
            ],
            [
             0.4444444444444444,
             "#bd3786"
            ],
            [
             0.5555555555555556,
             "#d8576b"
            ],
            [
             0.6666666666666666,
             "#ed7953"
            ],
            [
             0.7777777777777778,
             "#fb9f3a"
            ],
            [
             0.8888888888888888,
             "#fdca26"
            ],
            [
             1,
             "#f0f921"
            ]
           ]
          },
          "colorway": [
           "#636efa",
           "#EF553B",
           "#00cc96",
           "#ab63fa",
           "#FFA15A",
           "#19d3f3",
           "#FF6692",
           "#B6E880",
           "#FF97FF",
           "#FECB52"
          ],
          "font": {
           "color": "#2a3f5f"
          },
          "geo": {
           "bgcolor": "white",
           "lakecolor": "white",
           "landcolor": "#E5ECF6",
           "showlakes": true,
           "showland": true,
           "subunitcolor": "white"
          },
          "hoverlabel": {
           "align": "left"
          },
          "hovermode": "closest",
          "mapbox": {
           "style": "light"
          },
          "paper_bgcolor": "white",
          "plot_bgcolor": "#E5ECF6",
          "polar": {
           "angularaxis": {
            "gridcolor": "white",
            "linecolor": "white",
            "ticks": ""
           },
           "bgcolor": "#E5ECF6",
           "radialaxis": {
            "gridcolor": "white",
            "linecolor": "white",
            "ticks": ""
           }
          },
          "scene": {
           "xaxis": {
            "backgroundcolor": "#E5ECF6",
            "gridcolor": "white",
            "gridwidth": 2,
            "linecolor": "white",
            "showbackground": true,
            "ticks": "",
            "zerolinecolor": "white"
           },
           "yaxis": {
            "backgroundcolor": "#E5ECF6",
            "gridcolor": "white",
            "gridwidth": 2,
            "linecolor": "white",
            "showbackground": true,
            "ticks": "",
            "zerolinecolor": "white"
           },
           "zaxis": {
            "backgroundcolor": "#E5ECF6",
            "gridcolor": "white",
            "gridwidth": 2,
            "linecolor": "white",
            "showbackground": true,
            "ticks": "",
            "zerolinecolor": "white"
           }
          },
          "shapedefaults": {
           "line": {
            "color": "#2a3f5f"
           }
          },
          "ternary": {
           "aaxis": {
            "gridcolor": "white",
            "linecolor": "white",
            "ticks": ""
           },
           "baxis": {
            "gridcolor": "white",
            "linecolor": "white",
            "ticks": ""
           },
           "bgcolor": "#E5ECF6",
           "caxis": {
            "gridcolor": "white",
            "linecolor": "white",
            "ticks": ""
           }
          },
          "title": {
           "x": 0.05
          },
          "xaxis": {
           "automargin": true,
           "gridcolor": "white",
           "linecolor": "white",
           "ticks": "",
           "title": {
            "standoff": 15
           },
           "zerolinecolor": "white",
           "zerolinewidth": 2
          },
          "yaxis": {
           "automargin": true,
           "gridcolor": "white",
           "linecolor": "white",
           "ticks": "",
           "title": {
            "standoff": 15
           },
           "zerolinecolor": "white",
           "zerolinewidth": 2
          }
         }
        },
        "title": {
         "text": "Portfolio Optimization with the Efficient Frontier"
        },
        "width": 800,
        "xaxis": {
         "autorange": true,
         "range": [
          -0.014655032584916159,
          0.21550989635609835
         ],
         "title": {
          "text": "Annualized Volatility (%)"
         },
         "type": "linear"
        },
        "yaxis": {
         "autorange": true,
         "range": [
          2.279052132701422,
          26.57478672985782
         ],
         "title": {
          "text": "Annualized Return (%)"
         },
         "type": "linear"
        }
       }
      },
      "image/png": "[encoded data removed]",
      "text/html": [
       "<div>                            <div id=\"ea543bb7-caf0-4a8c-ba0f-9dca06019a84\" class=\"plotly-graph-div\" style=\"height:600px; width:800px;\"></div>            <script type=\"text/javascript\">                require([\"plotly\"], function(Plotly) {                    window.PLOTLYENV=window.PLOTLYENV || {};                                    if (document.getElementById(\"ea543bb7-caf0-4a8c-ba0f-9dca06019a84\")) {                    Plotly.newPlot(                        \"ea543bb7-caf0-4a8c-ba0f-9dca06019a84\",                        [{\"hoverinfo\":\"text\",\"marker\":{\"color\":\"red\",\"line\":{\"color\":\"black\",\"width\":3},\"size\":14},\"mode\":\"markers\",\"name\":\"Maximum Sharpe Ratio\",\"text\":[\"Return: 23.98%, Volatility: 0.2 (83.28%)\\u003cbr\\u003e      allocation\\nMSFT        85.0\\nNEE         15.0\\nCVX          0.0\"],\"x\":[0.19969595899059914],\"y\":[23.98],\"type\":\"scatter\"},{\"hoverinfo\":\"text\",\"marker\":{\"color\":\"green\",\"line\":{\"color\":\"black\",\"width\":3},\"size\":14},\"mode\":\"markers\",\"name\":\"Minimum Volatility\",\"text\":[\"Return: 18.44%, Volatility: 0.17 (93.43%)\\u003cbr\\u003e      allocation\\nMSFT        36.0\\nNEE         46.0\\nCVX         18.0\"],\"x\":[0.17230113829500904],\"y\":[18.44],\"type\":\"scatter\"},{\"hoverinfo\":\"text\",\"line\":{\"color\":\"black\",\"dash\":\"dashdot\",\"width\":3},\"mode\":\"lines\",\"name\":\"Efficient Frontier\",\"text\":[\"Return: 18.44%, Volatility: 0.17 (93.43%)\\u003cbr\\u003eMSFT: 35.91%\\u003cbr\\u003eNEE: 46.22%\\u003cbr\\u003eCVX: 17.87%\",\"Return: 18.51%, Volatility: 0.17 (93.08%)\\u003cbr\\u003eMSFT: 36.51%\\u003cbr\\u003eNEE: 45.88%\\u003cbr\\u003eCVX: 17.61%\",\"Return: 18.58%, Volatility: 0.17 (92.73%)\\u003cbr\\u003eMSFT: 37.11%\\u003cbr\\u003eNEE: 45.53%\\u003cbr\\u003eCVX: 17.35%\",\"Return: 18.65%, Volatility: 0.17 (92.4%)\\u003cbr\\u003eMSFT: 37.72%\\u003cbr\\u003eNEE: 45.19%\\u003cbr\\u003eCVX: 17.09%\",\"Return: 18.72%, Volatility: 0.17 (92.07%)\\u003cbr\\u003eMSFT: 38.32%\\u003cbr\\u003eNEE: 44.85%\\u003cbr\\u003eCVX: 16.83%\",\"Return: 18.79%, Volatility: 0.17 (91.75%)\\u003cbr\\u003eMSFT: 38.92%\\u003cbr\\u003eNEE: 44.51%\\u003cbr\\u003eCVX: 16.57%\",\"Return: 18.86%, Volatility: 0.17 (91.44%)\\u003cbr\\u003eMSFT: 39.52%\\u003cbr\\u003eNEE: 44.17%\\u003cbr\\u003eCVX: 16.3%\",\"Return: 18.93%, Volatility: 0.17 (91.13%)\\u003cbr\\u003eMSFT: 40.12%\\u003cbr\\u003eNEE: 43.84%\\u003cbr\\u003eCVX: 16.04%\",\"Return: 19.0%, Volatility: 0.17 (90.83%)\\u003cbr\\u003eMSFT: 40.72%\\u003cbr\\u003eNEE: 43.5%\\u003cbr\\u003eCVX: 15.78%\",\"Return: 19.07%, Volatility: 0.17 (90.54%)\\u003cbr\\u003eMSFT: 41.33%\\u003cbr\\u003eNEE: 43.16%\\u003cbr\\u003eCVX: 15.52%\",\"Return: 19.14%, Volatility: 0.17 (90.25%)\\u003cbr\\u003eMSFT: 41.93%\\u003cbr\\u003eNEE: 42.82%\\u003cbr\\u003eCVX: 15.25%\",\"Return: 19.21%, Volatility: 0.17 (89.98%)\\u003cbr\\u003eMSFT: 42.53%\\u003cbr\\u003eNEE: 42.48%\\u003cbr\\u003eCVX: 14.99%\",\"Return: 19.28%, Volatility: 0.17 (89.7%)\\u003cbr\\u003eMSFT: 43.13%\\u003cbr\\u003eNEE: 42.14%\\u003cbr\\u003eCVX: 14.73%\",\"Return: 19.35%, Volatility: 0.17 (89.44%)\\u003cbr\\u003eMSFT: 43.73%\\u003cbr\\u003eNEE: 41.81%\\u003cbr\\u003eCVX: 14.47%\",\"Return: 19.42%, Volatility: 0.17 (89.18%)\\u003cbr\\u003eMSFT: 44.33%\\u003cbr\\u003eNEE: 41.47%\\u003cbr\\u003eCVX: 14.2%\",\"Return: 19.49%, Volatility: 0.17 (88.93%)\\u003cbr\\u003eMSFT: 44.93%\\u003cbr\\u003eNEE: 41.13%\\u003cbr\\u003eCVX: 13.94%\",\"Return: 19.56%, Volatility: 0.17 (88.68%)\\u003cbr\\u003eMSFT: 45.53%\\u003cbr\\u003eNEE: 40.8%\\u003cbr\\u003eCVX: 13.67%\",\"Return: 19.63%, Volatility: 0.17 (88.45%)\\u003cbr\\u003eMSFT: 46.13%\\u003cbr\\u003eNEE: 40.46%\\u003cbr\\u003eCVX: 13.41%\",\"Return: 19.7%, Volatility: 0.17 (88.21%)\\u003cbr\\u003eMSFT: 46.73%\\u003cbr\\u003eNEE: 40.12%\\u003cbr\\u003eCVX: 13.15%\",\"Return: 19.77%, Volatility: 0.17 (87.99%)\\u003cbr\\u003eMSFT: 47.33%\\u003cbr\\u003eNEE: 39.79%\\u003cbr\\u003eCVX: 12.88%\",\"Return: 19.84%, Volatility: 0.17 (87.77%)\\u003cbr\\u003eMSFT: 47.93%\\u003cbr\\u003eNEE: 39.45%\\u003cbr\\u003eCVX: 12.62%\",\"Return: 19.91%, Volatility: 0.17 (87.55%)\\u003cbr\\u003eMSFT: 48.53%\\u003cbr\\u003eNEE: 39.12%\\u003cbr\\u003eCVX: 12.35%\",\"Return: 19.98%, Volatility: 0.17 (87.35%)\\u003cbr\\u003eMSFT: 49.13%\\u003cbr\\u003eNEE: 38.78%\\u003cbr\\u003eCVX: 12.09%\",\"Return: 20.05%, Volatility: 0.17 (87.14%)\\u003cbr\\u003eMSFT: 49.73%\\u003cbr\\u003eNEE: 38.45%\\u003cbr\\u003eCVX: 11.82%\",\"Return: 20.12%, Volatility: 0.17 (86.95%)\\u003cbr\\u003eMSFT: 50.33%\\u003cbr\\u003eNEE: 38.11%\\u003cbr\\u003eCVX: 11.56%\",\"Return: 20.19%, Volatility: 0.18 (86.76%)\\u003cbr\\u003eMSFT: 50.93%\\u003cbr\\u003eNEE: 37.78%\\u003cbr\\u003eCVX: 11.29%\",\"Return: 20.26%, Volatility: 0.18 (86.57%)\\u003cbr\\u003eMSFT: 51.53%\\u003cbr\\u003eNEE: 37.45%\\u003cbr\\u003eCVX: 11.03%\",\"Return: 20.33%, Volatility: 0.18 (86.4%)\\u003cbr\\u003eMSFT: 52.13%\\u003cbr\\u003eNEE: 37.11%\\u003cbr\\u003eCVX: 10.76%\",\"Return: 20.4%, Volatility: 0.18 (86.22%)\\u003cbr\\u003eMSFT: 52.73%\\u003cbr\\u003eNEE: 36.78%\\u003cbr\\u003eCVX: 10.49%\",\"Return: 20.47%, Volatility: 0.18 (86.05%)\\u003cbr\\u003eMSFT: 53.33%\\u003cbr\\u003eNEE: 36.44%\\u003cbr\\u003eCVX: 10.23%\",\"Return: 20.54%, Volatility: 0.18 (85.89%)\\u003cbr\\u003eMSFT: 53.93%\\u003cbr\\u003eNEE: 36.11%\\u003cbr\\u003eCVX: 9.96%\",\"Return: 20.61%, Volatility: 0.18 (85.73%)\\u003cbr\\u003eMSFT: 54.53%\\u003cbr\\u003eNEE: 35.78%\\u003cbr\\u003eCVX: 9.7%\",\"Return: 20.68%, Volatility: 0.18 (85.58%)\\u003cbr\\u003eMSFT: 55.13%\\u003cbr\\u003eNEE: 35.45%\\u003cbr\\u003eCVX: 9.43%\",\"Return: 20.75%, Volatility: 0.18 (85.44%)\\u003cbr\\u003eMSFT: 55.72%\\u003cbr\\u003eNEE: 35.11%\\u003cbr\\u003eCVX: 9.16%\",\"Return: 20.82%, Volatility: 0.18 (85.29%)\\u003cbr\\u003eMSFT: 56.32%\\u003cbr\\u003eNEE: 34.78%\\u003cbr\\u003eCVX: 8.9%\",\"Return: 20.89%, Volatility: 0.18 (85.16%)\\u003cbr\\u003eMSFT: 56.92%\\u003cbr\\u003eNEE: 34.45%\\u003cbr\\u003eCVX: 8.63%\",\"Return: 20.96%, Volatility: 0.18 (85.03%)\\u003cbr\\u003eMSFT: 57.52%\\u003cbr\\u003eNEE: 34.11%\\u003cbr\\u003eCVX: 8.36%\",\"Return: 21.03%, Volatility: 0.18 (84.9%)\\u003cbr\\u003eMSFT: 58.12%\\u003cbr\\u003eNEE: 33.78%\\u003cbr\\u003eCVX: 8.1%\",\"Return: 21.1%, Volatility: 0.18 (84.78%)\\u003cbr\\u003eMSFT: 58.72%\\u003cbr\\u003eNEE: 33.45%\\u003cbr\\u003eCVX: 7.83%\",\"Return: 21.17%, Volatility: 0.18 (84.66%)\\u003cbr\\u003eMSFT: 59.32%\\u003cbr\\u003eNEE: 33.12%\\u003cbr\\u003eCVX: 7.56%\",\"Return: 21.24%, Volatility: 0.18 (84.55%)\\u003cbr\\u003eMSFT: 59.92%\\u003cbr\\u003eNEE: 32.79%\\u003cbr\\u003eCVX: 7.3%\",\"Return: 21.31%, Volatility: 0.18 (84.44%)\\u003cbr\\u003eMSFT: 60.52%\\u003cbr\\u003eNEE: 32.45%\\u003cbr\\u003eCVX: 7.03%\",\"Return: 21.38%, Volatility: 0.18 (84.34%)\\u003cbr\\u003eMSFT: 61.23%\\u003cbr\\u003eNEE: 31.78%\\u003cbr\\u003eCVX: 6.99%\",\"Return: 21.45%, Volatility: 0.18 (84.24%)\\u003cbr\\u003eMSFT: 61.75%\\u003cbr\\u003eNEE: 31.68%\\u003cbr\\u003eCVX: 6.57%\",\"Return: 21.52%, Volatility: 0.18 (84.14%)\\u003cbr\\u003eMSFT: 62.27%\\u003cbr\\u003eNEE: 31.58%\\u003cbr\\u003eCVX: 6.15%\",\"Return: 21.59%, Volatility: 0.18 (84.05%)\\u003cbr\\u003eMSFT: 62.79%\\u003cbr\\u003eNEE: 31.48%\\u003cbr\\u003eCVX: 5.73%\",\"Return: 21.66%, Volatility: 0.18 (83.96%)\\u003cbr\\u003eMSFT: 63.51%\\u003cbr\\u003eNEE: 30.79%\\u003cbr\\u003eCVX: 5.7%\",\"Return: 21.73%, Volatility: 0.18 (83.88%)\\u003cbr\\u003eMSFT: 64.11%\\u003cbr\\u003eNEE: 30.46%\\u003cbr\\u003eCVX: 5.43%\",\"Return: 21.8%, Volatility: 0.18 (83.81%)\\u003cbr\\u003eMSFT: 64.71%\\u003cbr\\u003eNEE: 30.13%\\u003cbr\\u003eCVX: 5.16%\",\"Return: 21.87%, Volatility: 0.18 (83.73%)\\u003cbr\\u003eMSFT: 65.31%\\u003cbr\\u003eNEE: 29.8%\\u003cbr\\u003eCVX: 4.9%\",\"Return: 21.94%, Volatility: 0.18 (83.66%)\\u003cbr\\u003eMSFT: 65.91%\\u003cbr\\u003eNEE: 29.46%\\u003cbr\\u003eCVX: 4.63%\",\"Return: 22.01%, Volatility: 0.18 (83.6%)\\u003cbr\\u003eMSFT: 66.51%\\u003cbr\\u003eNEE: 29.13%\\u003cbr\\u003eCVX: 4.36%\",\"Return: 22.08%, Volatility: 0.18 (83.53%)\\u003cbr\\u003eMSFT: 67.11%\\u003cbr\\u003eNEE: 28.8%\\u003cbr\\u003eCVX: 4.1%\",\"Return: 22.15%, Volatility: 0.18 (83.48%)\\u003cbr\\u003eMSFT: 67.7%\\u003cbr\\u003eNEE: 28.47%\\u003cbr\\u003eCVX: 3.83%\",\"Return: 22.22%, Volatility: 0.19 (83.42%)\\u003cbr\\u003eMSFT: 68.3%\\u003cbr\\u003eNEE: 28.13%\\u003cbr\\u003eCVX: 3.56%\",\"Return: 22.29%, Volatility: 0.19 (83.37%)\\u003cbr\\u003eMSFT: 68.9%\\u003cbr\\u003eNEE: 27.8%\\u003cbr\\u003eCVX: 3.3%\",\"Return: 22.36%, Volatility: 0.19 (83.33%)\\u003cbr\\u003eMSFT: 69.5%\\u003cbr\\u003eNEE: 27.47%\\u003cbr\\u003eCVX: 3.03%\",\"Return: 22.43%, Volatility: 0.19 (83.28%)\\u003cbr\\u003eMSFT: 70.1%\\u003cbr\\u003eNEE: 27.13%\\u003cbr\\u003eCVX: 2.76%\",\"Return: 22.5%, Volatility: 0.19 (83.24%)\\u003cbr\\u003eMSFT: 70.7%\\u003cbr\\u003eNEE: 26.8%\\u003cbr\\u003eCVX: 2.5%\",\"Return: 22.57%, Volatility: 0.19 (83.21%)\\u003cbr\\u003eMSFT: 71.3%\\u003cbr\\u003eNEE: 26.47%\\u003cbr\\u003eCVX: 2.23%\",\"Return: 22.64%, Volatility: 0.19 (83.17%)\\u003cbr\\u003eMSFT: 71.9%\\u003cbr\\u003eNEE: 26.14%\\u003cbr\\u003eCVX: 1.96%\",\"Return: 22.71%, Volatility: 0.19 (83.14%)\\u003cbr\\u003eMSFT: 72.5%\\u003cbr\\u003eNEE: 25.81%\\u003cbr\\u003eCVX: 1.7%\",\"Return: 22.78%, Volatility: 0.19 (83.12%)\\u003cbr\\u003eMSFT: 73.09%\\u003cbr\\u003eNEE: 25.48%\\u003cbr\\u003eCVX: 1.43%\",\"Return: 22.85%, Volatility: 0.19 (83.09%)\\u003cbr\\u003eMSFT: 73.69%\\u003cbr\\u003eNEE: 25.14%\\u003cbr\\u003eCVX: 1.16%\",\"Return: 22.92%, Volatility: 0.19 (83.07%)\\u003cbr\\u003eMSFT: 74.29%\\u003cbr\\u003eNEE: 24.81%\\u003cbr\\u003eCVX: 0.9%\",\"Return: 22.99%, Volatility: 0.19 (83.06%)\\u003cbr\\u003eMSFT: 74.89%\\u003cbr\\u003eNEE: 24.48%\\u003cbr\\u003eCVX: 0.63%\",\"Return: 23.06%, Volatility: 0.19 (83.04%)\\u003cbr\\u003eMSFT: 75.49%\\u003cbr\\u003eNEE: 24.15%\\u003cbr\\u003eCVX: 0.36%\",\"Return: 23.13%, Volatility: 0.19 (83.03%)\\u003cbr\\u003eMSFT: 76.04%\\u003cbr\\u003eNEE: 23.96%\\u003cbr\\u003eCVX: 0.0%\",\"Return: 23.2%, Volatility: 0.19 (83.03%)\\u003cbr\\u003eMSFT: 76.78%\\u003cbr\\u003eNEE: 23.22%\\u003cbr\\u003eCVX: 0.0%\",\"Return: 23.27%, Volatility: 0.19 (83.02%)\\u003cbr\\u003eMSFT: 77.51%\\u003cbr\\u003eNEE: 22.49%\\u003cbr\\u003eCVX: 0.0%\",\"Return: 23.33%, Volatility: 0.19 (83.03%)\\u003cbr\\u003eMSFT: 78.25%\\u003cbr\\u003eNEE: 21.75%\\u003cbr\\u003eCVX: 0.0%\",\"Return: 23.4%, Volatility: 0.19 (83.04%)\\u003cbr\\u003eMSFT: 78.99%\\u003cbr\\u003eNEE: 21.01%\\u003cbr\\u003eCVX: 0.0%\",\"Return: 23.47%, Volatility: 0.19 (83.05%)\\u003cbr\\u003eMSFT: 79.72%\\u003cbr\\u003eNEE: 20.28%\\u003cbr\\u003eCVX: 0.0%\",\"Return: 23.54%, Volatility: 0.2 (83.07%)\\u003cbr\\u003eMSFT: 80.46%\\u003cbr\\u003eNEE: 19.54%\\u003cbr\\u003eCVX: 0.0%\",\"Return: 23.61%, Volatility: 0.2 (83.09%)\\u003cbr\\u003eMSFT: 81.2%\\u003cbr\\u003eNEE: 18.8%\\u003cbr\\u003eCVX: 0.0%\",\"Return: 23.68%, Volatility: 0.2 (83.12%)\\u003cbr\\u003eMSFT: 81.94%\\u003cbr\\u003eNEE: 18.06%\\u003cbr\\u003eCVX: 0.0%\",\"Return: 23.75%, Volatility: 0.2 (83.15%)\\u003cbr\\u003eMSFT: 82.67%\\u003cbr\\u003eNEE: 17.33%\\u003cbr\\u003eCVX: 0.0%\",\"Return: 23.82%, Volatility: 0.2 (83.19%)\\u003cbr\\u003eMSFT: 83.41%\\u003cbr\\u003eNEE: 16.59%\\u003cbr\\u003eCVX: 0.0%\",\"Return: 23.89%, Volatility: 0.2 (83.23%)\\u003cbr\\u003eMSFT: 84.15%\\u003cbr\\u003eNEE: 15.85%\\u003cbr\\u003eCVX: 0.0%\",\"Return: 23.96%, Volatility: 0.2 (83.27%)\\u003cbr\\u003eMSFT: 84.88%\\u003cbr\\u003eNEE: 15.12%\\u003cbr\\u003eCVX: 0.0%\",\"Return: 24.03%, Volatility: 0.2 (83.32%)\\u003cbr\\u003eMSFT: 85.62%\\u003cbr\\u003eNEE: 14.38%\\u003cbr\\u003eCVX: 0.0%\",\"Return: 24.1%, Volatility: 0.2 (83.38%)\\u003cbr\\u003eMSFT: 86.36%\\u003cbr\\u003eNEE: 13.64%\\u003cbr\\u003eCVX: 0.0%\",\"Return: 24.17%, Volatility: 0.2 (83.44%)\\u003cbr\\u003eMSFT: 87.09%\\u003cbr\\u003eNEE: 12.91%\\u003cbr\\u003eCVX: 0.0%\",\"Return: 24.24%, Volatility: 0.2 (83.5%)\\u003cbr\\u003eMSFT: 87.83%\\u003cbr\\u003eNEE: 12.17%\\u003cbr\\u003eCVX: 0.0%\",\"Return: 24.31%, Volatility: 0.2 (83.56%)\\u003cbr\\u003eMSFT: 88.57%\\u003cbr\\u003eNEE: 11.43%\\u003cbr\\u003eCVX: 0.0%\",\"Return: 24.38%, Volatility: 0.2 (83.63%)\\u003cbr\\u003eMSFT: 89.3%\\u003cbr\\u003eNEE: 10.7%\\u003cbr\\u003eCVX: 0.0%\",\"Return: 24.45%, Volatility: 0.2 (83.71%)\\u003cbr\\u003eMSFT: 90.04%\\u003cbr\\u003eNEE: 9.96%\\u003cbr\\u003eCVX: 0.0%\",\"Return: 24.52%, Volatility: 0.21 (83.78%)\\u003cbr\\u003eMSFT: 90.78%\\u003cbr\\u003eNEE: 9.22%\\u003cbr\\u003eCVX: 0.0%\",\"Return: 24.59%, Volatility: 0.21 (83.87%)\\u003cbr\\u003eMSFT: 91.51%\\u003cbr\\u003eNEE: 8.49%\\u003cbr\\u003eCVX: 0.0%\",\"Return: 24.66%, Volatility: 0.21 (83.95%)\\u003cbr\\u003eMSFT: 92.25%\\u003cbr\\u003eNEE: 7.75%\\u003cbr\\u003eCVX: 0.0%\",\"Return: 24.73%, Volatility: 0.21 (84.04%)\\u003cbr\\u003eMSFT: 92.99%\\u003cbr\\u003eNEE: 7.01%\\u003cbr\\u003eCVX: 0.0%\",\"Return: 24.8%, Volatility: 0.21 (84.13%)\\u003cbr\\u003eMSFT: 93.73%\\u003cbr\\u003eNEE: 6.27%\\u003cbr\\u003eCVX: 0.0%\",\"Return: 24.87%, Volatility: 0.21 (84.22%)\\u003cbr\\u003eMSFT: 94.46%\\u003cbr\\u003eNEE: 5.54%\\u003cbr\\u003eCVX: 0.0%\",\"Return: 24.94%, Volatility: 0.21 (84.32%)\\u003cbr\\u003eMSFT: 95.2%\\u003cbr\\u003eNEE: 4.8%\\u003cbr\\u003eCVX: 0.0%\",\"Return: 25.01%, Volatility: 0.21 (84.42%)\\u003cbr\\u003eMSFT: 95.94%\\u003cbr\\u003eNEE: 4.06%\\u003cbr\\u003eCVX: 0.0%\",\"Return: 25.08%, Volatility: 0.21 (84.53%)\\u003cbr\\u003eMSFT: 96.67%\\u003cbr\\u003eNEE: 3.33%\\u003cbr\\u003eCVX: 0.0%\",\"Return: 25.15%, Volatility: 0.21 (84.63%)\\u003cbr\\u003eMSFT: 97.41%\\u003cbr\\u003eNEE: 2.59%\\u003cbr\\u003eCVX: 0.0%\",\"Return: 25.22%, Volatility: 0.21 (84.74%)\\u003cbr\\u003eMSFT: 98.15%\\u003cbr\\u003eNEE: 1.85%\\u003cbr\\u003eCVX: 0.0%\",\"Return: 25.29%, Volatility: 0.21 (84.86%)\\u003cbr\\u003eMSFT: 98.88%\\u003cbr\\u003eNEE: 1.12%\\u003cbr\\u003eCVX: 0.0%\",\"Return: 25.36%, Volatility: 0.22 (84.97%)\\u003cbr\\u003eMSFT: 99.62%\\u003cbr\\u003eNEE: 0.38%\\u003cbr\\u003eCVX: 0.0%\"],\"x\":[0.17230123778436424,0.17230471815212706,0.17231752175144976,0.17233964685203865,0.1723710899868902,0.17241184609185822,0.17246190848152881,0.17252126882015953,0.17258991740270344,0.17266784289840117,0.17275503255188873,0.17285147212646568,0.17295714590672315,0.17307203680481845,0.17319612626799202,0.17332939433692132,0.17347181969478834,0.17362337974860814,0.17378405029497362,0.17395380605456603,0.1741326203537125,0.1743204651488386,0.17451731126220008,0.17472312815662505,0.17493788411899072,0.17516154618256463,0.17539408022679015,0.17563545099856792,0.1758856221155362,0.17614455591547667,0.17641221393048048,0.17668855639175168,0.17697354267636395,0.17726713105966724,0.17756927884927456,0.17787994245690494,0.17819907727533774,0.17852663792607404,0.17886257809817843,0.1792068506654801,0.17955940769760315,0.17992020049797464,0.18029131275260182,0.18066652369004585,0.18105174821663955,0.18144692255374056,0.1818459460998629,0.1822550912427016,0.1826721121071643,0.18309695486755628,0.18352956521175479,0.18396988841943598,0.1844178691002547,0.1848734516875029,0.18533658011264814,0.18580719787870412,0.1862852483755185,0.1867706744990006,0.18726341879699107,0.18776342359401324,0.18827063085123094,0.18878498289178242,0.18930642149961324,0.18983488815651295,0.19037032436370474,0.1909126714516675,0.19146187068425252,0.19201820999936506,0.19258172785593416,0.19315737050751342,0.19374502988092226,0.19434459696766718,0.19495596190492206,0.1955790140552016,0.19621364208463943,0.19685973403978807,0.19751717742286648,0.19818585926538512,0.19886566620008808,0.19955648453115618,0.20025820030262226,0.2009706993649564,0.20169386743978382,0.20242759018270556,0.20317175324419626,0.20392624232856027,0.2046909432509305,0.20546574199230283,0.2062505247525988,0.20704517800175892,0.2078495885288701,0.20866364348933455,0.20948723045009326,0.21032023743291972,0.21116255295580214,0.21201406607243542,0.2128746664098501,0.21374424420420265,0.21462269033475834,0.21550989635609835],\"y\":[18.44,18.51,18.58,18.65,18.72,18.79,18.86,18.93,19.0,19.07,19.14,19.21,19.28,19.35,19.42,19.49,19.56,19.63,19.7,19.77,19.84,19.91,19.98,20.05,20.12,20.19,20.26,20.33,20.4,20.47,20.54,20.61,20.68,20.75,20.82,20.89,20.96,21.03,21.1,21.17,21.24,21.31,21.38,21.45,21.52,21.59,21.66,21.73,21.8,21.87,21.94,22.01,22.08,22.15,22.22,22.29,22.36,22.43,22.5,22.57,22.64,22.71,22.78,22.85,22.92,22.99,23.06,23.13,23.2,23.27,23.33,23.4,23.47,23.54,23.61,23.68,23.75,23.82,23.89,23.96,24.03,24.1,24.17,24.24,24.31,24.38,24.45,24.52,24.59,24.66,24.73,24.8,24.87,24.94,25.01,25.08,25.15,25.22,25.29,25.36],\"type\":\"scatter\"},{\"hoverinfo\":\"text\",\"marker\":{\"color\":\"blue\",\"line\":{\"color\":\"black\",\"width\":3},\"size\":14},\"mode\":\"markers\",\"name\":\"Risk-Free Asset\",\"text\":\"Risk-Free Rate: 4.0%\",\"x\":[0],\"y\":[4.0],\"type\":\"scatter\"},{\"line\":{\"color\":\"orange\",\"dash\":\"dashdot\",\"width\":2},\"mode\":\"lines\",\"name\":\"Capital Allocation Line\",\"x\":[0,0.19969595899059914],\"y\":[4.0,23.98],\"type\":\"scatter\"}],                        {\"height\":600,\"legend\":{\"bgcolor\":\"#E2E2E2\",\"bordercolor\":\"black\",\"borderwidth\":2,\"traceorder\":\"normal\",\"x\":0.75,\"y\":0},\"showlegend\":true,\"title\":{\"text\":\"Portfolio Optimization with the Efficient Frontier\"},\"width\":800,\"xaxis\":{\"title\":{\"text\":\"Annualized Volatility (%)\"}},\"yaxis\":{\"title\":{\"text\":\"Annualized Return (%)\"}},\"template\":{\"data\":{\"histogram2dcontour\":[{\"type\":\"histogram2dcontour\",\"colorbar\":{\"outlinewidth\":0,\"ticks\":\"\"},\"colorscale\":[[0.0,\"#0d0887\"],[0.1111111111111111,\"#46039f\"],[0.2222222222222222,\"#7201a8\"],[0.3333333333333333,\"#9c179e\"],[0.4444444444444444,\"#bd3786\"],[0.5555555555555556,\"#d8576b\"],[0.6666666666666666,\"#ed7953\"],[0.7777777777777778,\"#fb9f3a\"],[0.8888888888888888,\"#fdca26\"],[1.0,\"#f0f921\"]]}],\"choropleth\":[{\"type\":\"choropleth\",\"colorbar\":{\"outlinewidth\":0,\"ticks\":\"\"}}],\"histogram2d\":[{\"type\":\"histogram2d\",\"colorbar\":{\"outlinewidth\":0,\"ticks\":\"\"},\"colorscale\":[[0.0,\"#0d0887\"],[0.1111111111111111,\"#46039f\"],[0.2222222222222222,\"#7201a8\"],[0.3333333333333333,\"#9c179e\"],[0.4444444444444444,\"#bd3786\"],[0.5555555555555556,\"#d8576b\"],[0.6666666666666666,\"#ed7953\"],[0.7777777777777778,\"#fb9f3a\"],[0.8888888888888888,\"#fdca26\"],[1.0,\"#f0f921\"]]}],\"heatmap\":[{\"type\":\"heatmap\",\"colorbar\":{\"outlinewidth\":0,\"ticks\":\"\"},\"colorscale\":[[0.0,\"#0d0887\"],[0.1111111111111111,\"#46039f\"],[0.2222222222222222,\"#7201a8\"],[0.3333333333333333,\"#9c179e\"],[0.4444444444444444,\"#bd3786\"],[0.5555555555555556,\"#d8576b\"],[0.6666666666666666,\"#ed7953\"],[0.7777777777777778,\"#fb9f3a\"],[0.8888888888888888,\"#fdca26\"],[1.0,\"#f0f921\"]]}],\"heatmapgl\":[{\"type\":\"heatmapgl\",\"colorbar\":{\"outlinewidth\":0,\"ticks\":\"\"},\"colorscale\":[[0.0,\"#0d0887\"],[0.1111111111111111,\"#46039f\"],[0.2222222222222222,\"#7201a8\"],[0.3333333333333333,\"#9c179e\"],[0.4444444444444444,\"#bd3786\"],[0.5555555555555556,\"#d8576b\"],[0.6666666666666666,\"#ed7953\"],[0.7777777777777778,\"#fb9f3a\"],[0.8888888888888888,\"#fdca26\"],[1.0,\"#f0f921\"]]}],\"contourcarpet\":[{\"type\":\"contourcarpet\",\"colorbar\":{\"outlinewidth\":0,\"ticks\":\"\"}}],\"contour\":[{\"type\":\"contour\",\"colorbar\":{\"outlinewidth\":0,\"ticks\":\"\"},\"colorscale\":[[0.0,\"#0d0887\"],[0.1111111111111111,\"#46039f\"],[0.2222222222222222,\"#7201a8\"],[0.3333333333333333,\"#9c179e\"],[0.4444444444444444,\"#bd3786\"],[0.5555555555555556,\"#d8576b\"],[0.6666666666666666,\"#ed7953\"],[0.7777777777777778,\"#fb9f3a\"],[0.8888888888888888,\"#fdca26\"],[1.0,\"#f0f921\"]]}],\"surface\":[{\"type\":\"surface\",\"colorbar\":{\"outlinewidth\":0,\"ticks\":\"\"},\"colorscale\":[[0.0,\"#0d0887\"],[0.1111111111111111,\"#46039f\"],[0.2222222222222222,\"#7201a8\"],[0.3333333333333333,\"#9c179e\"],[0.4444444444444444,\"#bd3786\"],[0.5555555555555556,\"#d8576b\"],[0.6666666666666666,\"#ed7953\"],[0.7777777777777778,\"#fb9f3a\"],[0.8888888888888888,\"#fdca26\"],[1.0,\"#f0f921\"]]}],\"mesh3d\":[{\"type\":\"mesh3d\",\"colorbar\":{\"outlinewidth\":0,\"ticks\":\"\"}}],\"scatter\":[{\"fillpattern\":{\"fillmode\":\"overlay\",\"size\":10,\"solidity\":0.2},\"type\":\"scatter\"}],\"parcoords\":[{\"type\":\"parcoords\",\"line\":{\"colorbar\":{\"outlinewidth\":0,\"ticks\":\"\"}}}],\"scatterpolargl\":[{\"type\":\"scatterpolargl\",\"marker\":{\"colorbar\":{\"outlinewidth\":0,\"ticks\":\"\"}}}],\"bar\":[{\"error_x\":{\"color\":\"#2a3f5f\"},\"error_y\":{\"color\":\"#2a3f5f\"},\"marker\":{\"line\":{\"color\":\"#E5ECF6\",\"width\":0.5},\"pattern\":{\"fillmode\":\"overlay\",\"size\":10,\"solidity\":0.2}},\"type\":\"bar\"}],\"scattergeo\":[{\"type\":\"scattergeo\",\"marker\":{\"colorbar\":{\"outlinewidth\":0,\"ticks\":\"\"}}}],\"scatterpolar\":[{\"type\":\"scatterpolar\",\"marker\":{\"colorbar\":{\"outlinewidth\":0,\"ticks\":\"\"}}}],\"histogram\":[{\"marker\":{\"pattern\":{\"fillmode\":\"overlay\",\"size\":10,\"solidity\":0.2}},\"type\":\"histogram\"}],\"scattergl\":[{\"type\":\"scattergl\",\"marker\":{\"colorbar\":{\"outlinewidth\":0,\"ticks\":\"\"}}}],\"scatter3d\":[{\"type\":\"scatter3d\",\"line\":{\"colorbar\":{\"outlinewidth\":0,\"ticks\":\"\"}},\"marker\":{\"colorbar\":{\"outlinewidth\":0,\"ticks\":\"\"}}}],\"scattermapbox\":[{\"type\":\"scattermapbox\",\"marker\":{\"colorbar\":{\"outlinewidth\":0,\"ticks\":\"\"}}}],\"scatterternary\":[{\"type\":\"scatterternary\",\"marker\":{\"colorbar\":{\"outlinewidth\":0,\"ticks\":\"\"}}}],\"scattercarpet\":[{\"type\":\"scattercarpet\",\"marker\":{\"colorbar\":{\"outlinewidth\":0,\"ticks\":\"\"}}}],\"carpet\":[{\"aaxis\":{\"endlinecolor\":\"#2a3f5f\",\"gridcolor\":\"white\",\"linecolor\":\"white\",\"minorgridcolor\":\"white\",\"startlinecolor\":\"#2a3f5f\"},\"baxis\":{\"endlinecolor\":\"#2a3f5f\",\"gridcolor\":\"white\",\"linecolor\":\"white\",\"minorgridcolor\":\"white\",\"startlinecolor\":\"#2a3f5f\"},\"type\":\"carpet\"}],\"table\":[{\"cells\":{\"fill\":{\"color\":\"#EBF0F8\"},\"line\":{\"color\":\"white\"}},\"header\":{\"fill\":{\"color\":\"#C8D4E3\"},\"line\":{\"color\":\"white\"}},\"type\":\"table\"}],\"barpolar\":[{\"marker\":{\"line\":{\"color\":\"#E5ECF6\",\"width\":0.5},\"pattern\":{\"fillmode\":\"overlay\",\"size\":10,\"solidity\":0.2}},\"type\":\"barpolar\"}],\"pie\":[{\"automargin\":true,\"type\":\"pie\"}]},\"layout\":{\"autotypenumbers\":\"strict\",\"colorway\":[\"#636efa\",\"#EF553B\",\"#00cc96\",\"#ab63fa\",\"#FFA15A\",\"#19d3f3\",\"#FF6692\",\"#B6E880\",\"#FF97FF\",\"#FECB52\"],\"font\":{\"color\":\"#2a3f5f\"},\"hovermode\":\"closest\",\"hoverlabel\":{\"align\":\"left\"},\"paper_bgcolor\":\"white\",\"plot_bgcolor\":\"#E5ECF6\",\"polar\":{\"bgcolor\":\"#E5ECF6\",\"angularaxis\":{\"gridcolor\":\"white\",\"linecolor\":\"white\",\"ticks\":\"\"},\"radialaxis\":{\"gridcolor\":\"white\",\"linecolor\":\"white\",\"ticks\":\"\"}},\"ternary\":{\"bgcolor\":\"#E5ECF6\",\"aaxis\":{\"gridcolor\":\"white\",\"linecolor\":\"white\",\"ticks\":\"\"},\"baxis\":{\"gridcolor\":\"white\",\"linecolor\":\"white\",\"ticks\":\"\"},\"caxis\":{\"gridcolor\":\"white\",\"linecolor\":\"white\",\"ticks\":\"\"}},\"coloraxis\":{\"colorbar\":{\"outlinewidth\":0,\"ticks\":\"\"}},\"colorscale\":{\"sequential\":[[0.0,\"#0d0887\"],[0.1111111111111111,\"#46039f\"],[0.2222222222222222,\"#7201a8\"],[0.3333333333333333,\"#9c179e\"],[0.4444444444444444,\"#bd3786\"],[0.5555555555555556,\"#d8576b\"],[0.6666666666666666,\"#ed7953\"],[0.7777777777777778,\"#fb9f3a\"],[0.8888888888888888,\"#fdca26\"],[1.0,\"#f0f921\"]],\"sequentialminus\":[[0.0,\"#0d0887\"],[0.1111111111111111,\"#46039f\"],[0.2222222222222222,\"#7201a8\"],[0.3333333333333333,\"#9c179e\"],[0.4444444444444444,\"#bd3786\"],[0.5555555555555556,\"#d8576b\"],[0.6666666666666666,\"#ed7953\"],[0.7777777777777778,\"#fb9f3a\"],[0.8888888888888888,\"#fdca26\"],[1.0,\"#f0f921\"]],\"diverging\":[[0,\"#8e0152\"],[0.1,\"#c51b7d\"],[0.2,\"#de77ae\"],[0.3,\"#f1b6da\"],[0.4,\"#fde0ef\"],[0.5,\"#f7f7f7\"],[0.6,\"#e6f5d0\"],[0.7,\"#b8e186\"],[0.8,\"#7fbc41\"],[0.9,\"#4d9221\"],[1,\"#276419\"]]},\"xaxis\":{\"gridcolor\":\"white\",\"linecolor\":\"white\",\"ticks\":\"\",\"title\":{\"standoff\":15},\"zerolinecolor\":\"white\",\"automargin\":true,\"zerolinewidth\":2},\"yaxis\":{\"gridcolor\":\"white\",\"linecolor\":\"white\",\"ticks\":\"\",\"title\":{\"standoff\":15},\"zerolinecolor\":\"white\",\"automargin\":true,\"zerolinewidth\":2},\"scene\":{\"xaxis\":{\"backgroundcolor\":\"#E5ECF6\",\"gridcolor\":\"white\",\"linecolor\":\"white\",\"showbackground\":true,\"ticks\":\"\",\"zerolinecolor\":\"white\",\"gridwidth\":2},\"yaxis\":{\"backgroundcolor\":\"#E5ECF6\",\"gridcolor\":\"white\",\"linecolor\":\"white\",\"showbackground\":true,\"ticks\":\"\",\"zerolinecolor\":\"white\",\"gridwidth\":2},\"zaxis\":{\"backgroundcolor\":\"#E5ECF6\",\"gridcolor\":\"white\",\"linecolor\":\"white\",\"showbackground\":true,\"ticks\":\"\",\"zerolinecolor\":\"white\",\"gridwidth\":2}},\"shapedefaults\":{\"line\":{\"color\":\"#2a3f5f\"}},\"annotationdefaults\":{\"arrowcolor\":\"#2a3f5f\",\"arrowhead\":0,\"arrowwidth\":1},\"geo\":{\"bgcolor\":\"white\",\"landcolor\":\"#E5ECF6\",\"subunitcolor\":\"white\",\"showland\":true,\"showlakes\":true,\"lakecolor\":\"white\"},\"title\":{\"x\":0.05},\"mapbox\":{\"style\":\"light\"}}}},                        {\"responsive\": true}                    ).then(function(){\n",
       "                            \n",
       "var gd = document.getElementById('ea543bb7-caf0-4a8c-ba0f-9dca06019a84');\n",
       "var x = new MutationObserver(function (mutations, observer) {{\n",
       "        var display = window.getComputedStyle(gd).display;\n",
       "        if (!display || display === 'none') {{\n",
       "            console.log([gd, 'removed!']);\n",
       "            Plotly.purge(gd);\n",
       "            observer.disconnect();\n",
       "        }}\n",
       "}});\n",
       "\n",
       "// Listen for the removal of the full notebook cells\n",
       "var notebookContainer = gd.closest('#notebook-container');\n",
       "if (notebookContainer) {{\n",
       "    x.observe(notebookContainer, {childList: true});\n",
       "}}\n",
       "\n",
       "// Listen for the clearing of the current output cell\n",
       "var outputEl = gd.closest('.output');\n",
       "if (outputEl) {{\n",
       "    x.observe(outputEl, {childList: true});\n",
       "}}\n",
       "\n",
       "                        })                };                });            </script>        </div>"
      ]
     },
     "metadata": {},
     "output_type": "display_data"
    }
   ],
   "source": [
    "import plotly.graph_objects as go\n",
    "\n",
    "# Function to efficent frontier \n",
    "# get return seris to calculate over \n",
    "\n",
    "print(returnSRMax)\n",
    "print(returnDispMin)\n",
    "delta = (returnSRMax-returnDispMin)/4\n",
    "print(delta)\n",
    "\n",
    "returnsEF = np.linspace(returnDispMin, returnSRMax+delta, 100)\n",
    "wEF,dispsEF = po.calc_efficient_frontier(returnExps, returnCoDispsSq, returnsEF, riskFreeRate=0.04, annualizeBy='M')\n",
    "print('-- Efficient Frontier --')\n",
    "print(wEF[range(0,100,10)])\n",
    "\n",
    "# we expectd a smooth transition from the \n",
    "# precalculated min disp weights to the \n",
    "# precalculated max SR weights and we got it\n",
    "# cehck\n",
    "\n",
    "relVol = np.sqrt(np.diagonal(returnCoDispsSq))/returnExps\n",
    "\n",
    "# Asset points\n",
    "asset_text = [\n",
    "    f\"{sym}: Return: {round(ret * 100, 2)}%, Volatility: {round(vol * 100, 2)}%\"\n",
    "    for sym, ret, vol in zip(syms, returnExps, relVol)\n",
    "]\n",
    "\n",
    "asset_points = go.Scatter(\n",
    "    name=\"Assets\",\n",
    "    mode=\"markers\",\n",
    "    x=[round(vol * 100, 2) for vol in relVol],\n",
    "    y=[round(ret * 100, 2) for ret in returnExps],\n",
    "    marker=dict(\n",
    "        color=\"gray\",\n",
    "        size=14,\n",
    "        line=dict(\n",
    "            width=3,\n",
    "            color=\"black\")),\n",
    "    text=asset_text,\n",
    "    hoverinfo='text'\n",
    ")\n",
    "#plot the efficient frontier\n",
    "\n",
    "# Max Sharpe Ratio trace\n",
    "MaxSharpeRatio = go.Scatter(\n",
    "    name=\"Maximum Sharpe Ratio\",\n",
    "    mode=\"markers\",\n",
    "    x=[dispSRMax],\n",
    "    y=[round(returnSRMax * 100, 2)],\n",
    "    marker=dict(\n",
    "        color=\"red\",\n",
    "        size=14,\n",
    "        line=dict(\n",
    "            width=3,\n",
    "            color=\"black\")),\n",
    "    text=[f\"Return: {round(returnSRMax * 100, 2)}%, Volatility: {round(dispSRMax,2)} ({round((dispSRMax/returnSRMax) * 100, 2)}%)<br>{allocationSRMax.to_string()}\"],\n",
    "    hoverinfo='text'\n",
    ")\n",
    "\n",
    "# Min Volatility trace\n",
    "MinVol = go.Scatter(\n",
    "    name=\"Minimum Volatility\",\n",
    "    mode=\"markers\",\n",
    "    x=[dispDispMin],\n",
    "    y=[round(returnDispMin * 100, 2)],\n",
    "    marker=dict(\n",
    "        color=\"green\",\n",
    "        size=14,\n",
    "        line=dict(\n",
    "            width=3,\n",
    "            color=\"black\")),\n",
    "    text=[f\"Return: {round(returnDispMin * 100, 2)}%, Volatility: {round(dispDispMin,2)} ({round((dispDispMin/returnDispMin) * 100, 2)}%)<br>{allocationDispMin.to_string()}\"],\n",
    "    hoverinfo='text'\n",
    ")\n",
    "\n",
    "# Efficient Frontier trace\n",
    "efficient_text = [\n",
    "    f\"Return: {round(ret * 100, 2)}%, Volatility: {round(vol,2)} ({round((vol/ret) * 100, 2)}%)<br>\" +\n",
    "    \"<br>\".join([f\"{symbol}: {round(weight * 100, 2)}%\" for symbol, weight in zip(syms, alloc)])\n",
    "    for ret, vol, alloc in zip(returnsEF, dispsEF, wEF)\n",
    "]\n",
    "\n",
    "\n",
    "EF_curve = go.Scatter(\n",
    "    name=\"Efficient Frontier\",\n",
    "    mode=\"lines\",\n",
    "    x=dispsEF,\n",
    "    y=[round(ret * 100, 2) for ret in returnsEF],\n",
    "    line=dict(color=\"black\", width=3, dash=\"dashdot\"),\n",
    "    text=efficient_text,\n",
    "    hoverinfo='text'\n",
    ")\n",
    "\n",
    "\n",
    "\n",
    "riskFreeRate = 0.04\n",
    "# Risk-Free Asset point\n",
    "rf_point = go.Scatter(\n",
    "    name=\"Risk-Free Asset\",\n",
    "    mode=\"markers\",\n",
    "    x=[0],  # Assuming risk-free rate has zero volatility\n",
    "    y=[riskFreeRate * 100],\n",
    "    marker=dict(\n",
    "        color=\"blue\",\n",
    "        size=14,\n",
    "        line=dict(\n",
    "            width=3,\n",
    "            color=\"black\")),\n",
    "    text=f\"Risk-Free Rate: {round(riskFreeRate * 100, 2)}%\",\n",
    "    hoverinfo='text'\n",
    ")\n",
    "    \n",
    "# Capital Allocation Line (CAL)\n",
    "cal_x = [0, dispSRMax]\n",
    "cal_y = [riskFreeRate * 100, round(returnSRMax * 100, 2)]\n",
    "CAL = go.Scatter(\n",
    "    name=\"Capital Allocation Line\",\n",
    "    mode=\"lines\",\n",
    "    x=cal_x,\n",
    "    y=cal_y,\n",
    "    line=dict(color=\"orange\", width=2, dash=\"dashdot\")\n",
    ")\n",
    "\n",
    "data = [MaxSharpeRatio, MinVol, EF_curve, rf_point, CAL]\n",
    "\n",
    "\n",
    "\n",
    "layout = go.Layout(\n",
    "    title='Portfolio Optimization with the Efficient Frontier',\n",
    "    yaxis=dict(title='Annualized Return (%)'),\n",
    "    xaxis=dict(title='Annualized Volatility (%)'),\n",
    "    showlegend=True,\n",
    "    legend=dict(\n",
    "        x=0.75,\n",
    "        y=0,\n",
    "        traceorder='normal',\n",
    "        bgcolor=\"#E2E2E2\",\n",
    "        bordercolor='black',\n",
    "        borderwidth=2),\n",
    "    width=800,\n",
    "    height=600\n",
    ")\n",
    "\n",
    "fig = go.Figure(data=data, layout=layout)\n",
    "fig.show()\n",
    "\n",
    "\n",
    "\n",
    "\n"
   ]
  },
  {
   "cell_type": "code",
   "execution_count": null,
   "id": "8cda19df-85da-4784-8c98-d3b27418f3f2",
   "metadata": {},
   "outputs": [],
   "source": []
  },
  {
   "cell_type": "code",
   "execution_count": null,
   "id": "16ae4168-ed96-4166-b492-79073f6a9a8a",
   "metadata": {},
   "outputs": [],
   "source": []
  }
 ],
 "metadata": {
  "kernelspec": {
   "display_name": "Python 3 (ipykernel)",
   "language": "python",
   "name": "python3"
  },
  "language_info": {
   "codemirror_mode": {
    "name": "ipython",
    "version": 3
   },
   "file_extension": ".py",
   "mimetype": "text/x-python",
   "name": "python",
   "nbconvert_exporter": "python",
   "pygments_lexer": "ipython3",
   "version": "3.11.0"
  }
 },
 "nbformat": 4,
 "nbformat_minor": 5
}
