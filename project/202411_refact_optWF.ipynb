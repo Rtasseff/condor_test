{
 "cells": [
  {
   "cell_type": "markdown",
   "id": "2c0e93f2-6df9-4cbf-b2f9-ebba24df520d",
   "metadata": {},
   "source": [
    "# A Test Case for Refactoring a Basic Portfolio Optimization Workflow\n",
    "\n",
    "\n",
    "\n",
    "This workflow uses historical data to \n",
    "\n",
    "The goal here is to identify:\n",
    "* stuff\n",
    "* more stuff\n",
    "\n",
    "### *Notice*\n",
    "*We stress that none of our Jupyter Notebook projects are to be considered final and of publication quality unless otherwise stated. We also provide no warranty or guarantee of any kind. These projects are meant for testing code and learning concepts in a transparent, and often evolving manner. If new methodologies, stratagies or fundamental understandings are applied in the future, they will most likely be explored in future projects. For transparency and documentation, old projects will not be removed but instead will be deprecated (and clearly marked as such). Look for updates on GitHub https://github.com/Rtasseff/condor_test/tree/main/project*\n",
    "\n",
    "## Setup"
   ]
  },
  {
   "cell_type": "code",
   "execution_count": 1,
   "id": "19a586e7-cc0a-49f7-8c19-068425dd0c1d",
   "metadata": {},
   "outputs": [],
   "source": [
    "# data set\n",
    "datasetName = 'GLD_MAX.tab'\n",
    "\n",
    "# Paths\n",
    "\n",
    "# Analytics dir path *USER SET*\n",
    "analyticsDir = '/Users/rtasseff/projects/condor_test/analytics'\n",
    "# Data dir path *USER SET*\n",
    "dataDir = '/Users/rtasseff/projects/tmp'\n",
    "import sys\n",
    "# adding analytics to the system path\n",
    "sys.path.insert(0, '/Users/rtasseff/projects/condor_test/analytics')\n",
    "\n",
    "from data_mining import load\n",
    "from functions import genStats\n",
    "from functions import genFin\n",
    "from functions import assetPreassess as apa\n",
    "from functions import utils\n",
    "\n",
    "\n",
    "import numpy as np\n",
    "import matplotlib.pyplot as plt\n"
   ]
  }
 ],
 "metadata": {
  "kernelspec": {
   "display_name": "Python 3 (ipykernel)",
   "language": "python",
   "name": "python3"
  },
  "language_info": {
   "codemirror_mode": {
    "name": "ipython",
    "version": 3
   },
   "file_extension": ".py",
   "mimetype": "text/x-python",
   "name": "python",
   "nbconvert_exporter": "python",
   "pygments_lexer": "ipython3",
   "version": "3.11.0"
  }
 },
 "nbformat": 4,
 "nbformat_minor": 5
}
