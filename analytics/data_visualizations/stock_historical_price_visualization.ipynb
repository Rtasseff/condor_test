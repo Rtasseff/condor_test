{
 "cells": [
  {
   "cell_type": "code",
   "execution_count": 1,
   "id": "c6345797",
   "metadata": {},
   "outputs": [],
   "source": [
    "import pandas as pd\n",
    "import ipywidgets as widgets\n",
    "from ipywidgets import interact\n",
    "import matplotlib.pyplot as plt"
   ]
  },
  {
   "cell_type": "code",
   "execution_count": 3,
   "id": "202c0f3d",
   "metadata": {},
   "outputs": [],
   "source": [
    "#read json file from google drive\n",
    "stock_aggregates_dataframe = pd.read_json(\"/Users/rosario/CondorFunds/condor_test/analytics/data_mining/data/22-04-20_to_2024-04-18_stocks_collected_aggregates_data_2024-04-20_13-55-41.json\")"
   ]
  },
  {
   "cell_type": "code",
   "execution_count": 4,
   "id": "71c3addd",
   "metadata": {},
   "outputs": [],
   "source": [
    "#convert json file to datafram\n",
    "stock_aggregates_dataframe = pd.DataFrame(eft_aggregates_dataframe)"
   ]
  },
  {
   "cell_type": "code",
   "execution_count": 5,
   "id": "5e5ef397",
   "metadata": {},
   "outputs": [
    {
     "data": {
      "text/html": [
       "<div>\n",
       "<style scoped>\n",
       "    .dataframe tbody tr th:only-of-type {\n",
       "        vertical-align: middle;\n",
       "    }\n",
       "\n",
       "    .dataframe tbody tr th {\n",
       "        vertical-align: top;\n",
       "    }\n",
       "\n",
       "    .dataframe thead th {\n",
       "        text-align: right;\n",
       "    }\n",
       "</style>\n",
       "<table border=\"1\" class=\"dataframe\">\n",
       "  <thead>\n",
       "    <tr style=\"text-align: right;\">\n",
       "      <th></th>\n",
       "      <th>v</th>\n",
       "      <th>vw</th>\n",
       "      <th>o</th>\n",
       "      <th>c</th>\n",
       "      <th>h</th>\n",
       "      <th>l</th>\n",
       "      <th>t</th>\n",
       "      <th>n</th>\n",
       "      <th>ticker_id</th>\n",
       "      <th>date</th>\n",
       "      <th>name</th>\n",
       "    </tr>\n",
       "  </thead>\n",
       "  <tbody>\n",
       "    <tr>\n",
       "      <th>0</th>\n",
       "      <td>2026141.0</td>\n",
       "      <td>129.2028</td>\n",
       "      <td>127.71</td>\n",
       "      <td>129.37</td>\n",
       "      <td>130.32</td>\n",
       "      <td>126.84</td>\n",
       "      <td>1650427200000</td>\n",
       "      <td>27811.0</td>\n",
       "      <td>1</td>\n",
       "      <td>2022-04-20 04:00:00</td>\n",
       "      <td>A</td>\n",
       "    </tr>\n",
       "    <tr>\n",
       "      <th>1</th>\n",
       "      <td>2177667.0</td>\n",
       "      <td>127.2875</td>\n",
       "      <td>130.36</td>\n",
       "      <td>125.29</td>\n",
       "      <td>131.03</td>\n",
       "      <td>124.85</td>\n",
       "      <td>1650513600000</td>\n",
       "      <td>31582.0</td>\n",
       "      <td>1</td>\n",
       "      <td>2022-04-21 04:00:00</td>\n",
       "      <td>A</td>\n",
       "    </tr>\n",
       "    <tr>\n",
       "      <th>2</th>\n",
       "      <td>1947222.0</td>\n",
       "      <td>122.3324</td>\n",
       "      <td>124.77</td>\n",
       "      <td>121.32</td>\n",
       "      <td>125.10</td>\n",
       "      <td>121.15</td>\n",
       "      <td>1650600000000</td>\n",
       "      <td>33124.0</td>\n",
       "      <td>1</td>\n",
       "      <td>2022-04-22 04:00:00</td>\n",
       "      <td>A</td>\n",
       "    </tr>\n",
       "    <tr>\n",
       "      <th>3</th>\n",
       "      <td>2236881.0</td>\n",
       "      <td>120.1451</td>\n",
       "      <td>119.53</td>\n",
       "      <td>121.45</td>\n",
       "      <td>121.61</td>\n",
       "      <td>118.23</td>\n",
       "      <td>1650859200000</td>\n",
       "      <td>34196.0</td>\n",
       "      <td>1</td>\n",
       "      <td>2022-04-25 04:00:00</td>\n",
       "      <td>A</td>\n",
       "    </tr>\n",
       "    <tr>\n",
       "      <th>4</th>\n",
       "      <td>2931934.0</td>\n",
       "      <td>118.3588</td>\n",
       "      <td>121.00</td>\n",
       "      <td>117.94</td>\n",
       "      <td>121.28</td>\n",
       "      <td>117.24</td>\n",
       "      <td>1650945600000</td>\n",
       "      <td>39334.0</td>\n",
       "      <td>1</td>\n",
       "      <td>2022-04-26 04:00:00</td>\n",
       "      <td>A</td>\n",
       "    </tr>\n",
       "  </tbody>\n",
       "</table>\n",
       "</div>"
      ],
      "text/plain": [
       "           v        vw       o       c       h       l              t  \\\n",
       "0  2026141.0  129.2028  127.71  129.37  130.32  126.84  1650427200000   \n",
       "1  2177667.0  127.2875  130.36  125.29  131.03  124.85  1650513600000   \n",
       "2  1947222.0  122.3324  124.77  121.32  125.10  121.15  1650600000000   \n",
       "3  2236881.0  120.1451  119.53  121.45  121.61  118.23  1650859200000   \n",
       "4  2931934.0  118.3588  121.00  117.94  121.28  117.24  1650945600000   \n",
       "\n",
       "         n  ticker_id                date name  \n",
       "0  27811.0          1 2022-04-20 04:00:00    A  \n",
       "1  31582.0          1 2022-04-21 04:00:00    A  \n",
       "2  33124.0          1 2022-04-22 04:00:00    A  \n",
       "3  34196.0          1 2022-04-25 04:00:00    A  \n",
       "4  39334.0          1 2022-04-26 04:00:00    A  "
      ]
     },
     "execution_count": 5,
     "metadata": {},
     "output_type": "execute_result"
    }
   ],
   "source": [
    "#confirm dataframe structure\n",
    "stock_aggregates_dataframe.head()"
   ]
  },
  {
   "cell_type": "code",
   "execution_count": 6,
   "id": "c164ddf4",
   "metadata": {},
   "outputs": [
    {
     "data": {
      "application/vnd.jupyter.widget-view+json": {
       "model_id": "dcabf73453324965aaccbc78fa4027f8",
       "version_major": 2,
       "version_minor": 0
      },
      "text/plain": [
       "interactive(children=(Dropdown(description='Ticker:', options=('A', 'AA', 'AACT', 'AACT.U', 'AACT.WS', 'AAN', …"
      ]
     },
     "metadata": {},
     "output_type": "display_data"
    },
    {
     "data": {
      "text/plain": [
       "<function __main__.plot_stock_data(ticker)>"
      ]
     },
     "execution_count": 6,
     "metadata": {},
     "output_type": "execute_result"
    }
   ],
   "source": [
    "def plot_stock_data(ticker):\n",
    "    selected_stock_data = stock_aggregates_dataframe[stock_aggregates_dataframe['name'] == ticker]\n",
    "    plt.figure(figsize=(10, 6))\n",
    "    plt.plot(selected_stock_data['date'], selected_stock_data['c'], marker='o', linestyle='-')\n",
    "    plt.title(f'Historical Closing Prices for {ticker}')\n",
    "    plt.xlabel('Date')\n",
    "    plt.ylabel('Closing Price')\n",
    "    plt.xticks(rotation=45)\n",
    "    plt.grid(True)\n",
    "    plt.tight_layout()\n",
    "    plt.show()\n",
    "\n",
    "tickers = eft_aggregates_dataframe['name'].unique()\n",
    "\n",
    "# Define interactive widget\n",
    "ticker_dropdown = widgets.Dropdown(options=tickers, description='Ticker:')\n",
    "\n",
    "# Use interact to dynamically update the plot based on the selected ticker\n",
    "interact(plot_stock_data, ticker=ticker_dropdown)"
   ]
  },
  {
   "cell_type": "code",
   "execution_count": null,
   "id": "c31f913b",
   "metadata": {},
   "outputs": [],
   "source": []
  }
 ],
 "metadata": {
  "kernelspec": {
   "display_name": "Python 3 (ipykernel)",
   "language": "python",
   "name": "python3"
  },
  "language_info": {
   "codemirror_mode": {
    "name": "ipython",
    "version": 3
   },
   "file_extension": ".py",
   "mimetype": "text/x-python",
   "name": "python",
   "nbconvert_exporter": "python",
   "pygments_lexer": "ipython3",
   "version": "3.11.5"
  }
 },
 "nbformat": 4,
 "nbformat_minor": 5
}
