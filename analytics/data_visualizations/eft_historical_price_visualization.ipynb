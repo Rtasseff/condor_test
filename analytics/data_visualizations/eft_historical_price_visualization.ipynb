{
 "cells": [
  {
   "cell_type": "code",
   "execution_count": 1,
   "id": "c6181e48",
   "metadata": {},
   "outputs": [],
   "source": [
    "import pandas as pd\n",
    "import ipywidgets as widgets\n",
    "from ipywidgets import interact\n",
    "import matplotlib.pyplot as plt"
   ]
  },
  {
   "cell_type": "code",
   "execution_count": 2,
   "id": "e66ee7f1",
   "metadata": {},
   "outputs": [],
   "source": [
    "#read json file from google drive\n",
    "eft_aggregates_dataframe = pd.read_json(\"/Users/rosario/CondorFunds/condor_test/analytics/data_mining/data/2022-04-20_to_2024-04-18_eft_collected_aggregates_data_2024-04-19_23-57-28.json\")"
   ]
  },
  {
   "cell_type": "code",
   "execution_count": 3,
   "id": "7a875a86",
   "metadata": {},
   "outputs": [],
   "source": [
    "#convert json file to datafram\n",
    "eft_aggregates_dataframe = pd.DataFrame(eft_aggregates_dataframe)"
   ]
  },
  {
   "cell_type": "code",
   "execution_count": 4,
   "id": "63d671c4",
   "metadata": {},
   "outputs": [
    {
     "data": {
      "text/html": [
       "<div>\n",
       "<style scoped>\n",
       "    .dataframe tbody tr th:only-of-type {\n",
       "        vertical-align: middle;\n",
       "    }\n",
       "\n",
       "    .dataframe tbody tr th {\n",
       "        vertical-align: top;\n",
       "    }\n",
       "\n",
       "    .dataframe thead th {\n",
       "        text-align: right;\n",
       "    }\n",
       "</style>\n",
       "<table border=\"1\" class=\"dataframe\">\n",
       "  <thead>\n",
       "    <tr style=\"text-align: right;\">\n",
       "      <th></th>\n",
       "      <th>v</th>\n",
       "      <th>vw</th>\n",
       "      <th>o</th>\n",
       "      <th>c</th>\n",
       "      <th>h</th>\n",
       "      <th>l</th>\n",
       "      <th>t</th>\n",
       "      <th>n</th>\n",
       "      <th>ticker_id</th>\n",
       "      <th>date</th>\n",
       "      <th>name</th>\n",
       "    </tr>\n",
       "  </thead>\n",
       "  <tbody>\n",
       "    <tr>\n",
       "      <th>0</th>\n",
       "      <td>5067144</td>\n",
       "      <td>409.6900</td>\n",
       "      <td>410.82</td>\n",
       "      <td>408.71</td>\n",
       "      <td>411.3900</td>\n",
       "      <td>407.67</td>\n",
       "      <td>1650427200000</td>\n",
       "      <td>103296</td>\n",
       "      <td>0</td>\n",
       "      <td>2022-04-20 04:00:00</td>\n",
       "      <td>VOO</td>\n",
       "    </tr>\n",
       "    <tr>\n",
       "      <th>1</th>\n",
       "      <td>4670153</td>\n",
       "      <td>407.5231</td>\n",
       "      <td>412.38</td>\n",
       "      <td>402.65</td>\n",
       "      <td>413.6800</td>\n",
       "      <td>401.80</td>\n",
       "      <td>1650513600000</td>\n",
       "      <td>111091</td>\n",
       "      <td>0</td>\n",
       "      <td>2022-04-21 04:00:00</td>\n",
       "      <td>VOO</td>\n",
       "    </tr>\n",
       "    <tr>\n",
       "      <th>2</th>\n",
       "      <td>6326437</td>\n",
       "      <td>395.9260</td>\n",
       "      <td>401.67</td>\n",
       "      <td>391.66</td>\n",
       "      <td>401.8850</td>\n",
       "      <td>391.10</td>\n",
       "      <td>1650600000000</td>\n",
       "      <td>207309</td>\n",
       "      <td>0</td>\n",
       "      <td>2022-04-22 04:00:00</td>\n",
       "      <td>VOO</td>\n",
       "    </tr>\n",
       "    <tr>\n",
       "      <th>3</th>\n",
       "      <td>8141182</td>\n",
       "      <td>388.8226</td>\n",
       "      <td>389.42</td>\n",
       "      <td>393.80</td>\n",
       "      <td>394.0584</td>\n",
       "      <td>385.00</td>\n",
       "      <td>1650859200000</td>\n",
       "      <td>200395</td>\n",
       "      <td>0</td>\n",
       "      <td>2022-04-25 04:00:00</td>\n",
       "      <td>VOO</td>\n",
       "    </tr>\n",
       "    <tr>\n",
       "      <th>4</th>\n",
       "      <td>8492984</td>\n",
       "      <td>386.2679</td>\n",
       "      <td>391.40</td>\n",
       "      <td>382.54</td>\n",
       "      <td>391.5900</td>\n",
       "      <td>382.44</td>\n",
       "      <td>1650945600000</td>\n",
       "      <td>212158</td>\n",
       "      <td>0</td>\n",
       "      <td>2022-04-26 04:00:00</td>\n",
       "      <td>VOO</td>\n",
       "    </tr>\n",
       "  </tbody>\n",
       "</table>\n",
       "</div>"
      ],
      "text/plain": [
       "         v        vw       o       c         h       l              t       n  \\\n",
       "0  5067144  409.6900  410.82  408.71  411.3900  407.67  1650427200000  103296   \n",
       "1  4670153  407.5231  412.38  402.65  413.6800  401.80  1650513600000  111091   \n",
       "2  6326437  395.9260  401.67  391.66  401.8850  391.10  1650600000000  207309   \n",
       "3  8141182  388.8226  389.42  393.80  394.0584  385.00  1650859200000  200395   \n",
       "4  8492984  386.2679  391.40  382.54  391.5900  382.44  1650945600000  212158   \n",
       "\n",
       "   ticker_id                date name  \n",
       "0          0 2022-04-20 04:00:00  VOO  \n",
       "1          0 2022-04-21 04:00:00  VOO  \n",
       "2          0 2022-04-22 04:00:00  VOO  \n",
       "3          0 2022-04-25 04:00:00  VOO  \n",
       "4          0 2022-04-26 04:00:00  VOO  "
      ]
     },
     "execution_count": 4,
     "metadata": {},
     "output_type": "execute_result"
    }
   ],
   "source": [
    "#confirm dataframe structure\n",
    "eft_aggregates_dataframe.head()"
   ]
  },
  {
   "cell_type": "code",
   "execution_count": 5,
   "id": "6866f327",
   "metadata": {},
   "outputs": [
    {
     "data": {
      "application/vnd.jupyter.widget-view+json": {
       "model_id": "8c49188ffb084ef99e67ed77d91c59e8",
       "version_major": 2,
       "version_minor": 0
      },
      "text/plain": [
       "interactive(children=(Dropdown(description='Ticker:', options=('VOO', 'VTI', 'SPY'), value='VOO'), Output()), …"
      ]
     },
     "metadata": {},
     "output_type": "display_data"
    },
    {
     "data": {
      "text/plain": [
       "<function __main__.plot_stock_data(ticker)>"
      ]
     },
     "execution_count": 5,
     "metadata": {},
     "output_type": "execute_result"
    }
   ],
   "source": [
    "def plot_stock_data(ticker):\n",
    "    selected_stock_data = eft_aggregates_dataframe[eft_aggregates_dataframe['name'] == ticker]\n",
    "    plt.figure(figsize=(10, 6))\n",
    "    plt.plot(selected_stock_data['date'], selected_stock_data['c'], marker='o', linestyle='-')\n",
    "    plt.title(f'Historical Closing Prices for {ticker}')\n",
    "    plt.xlabel('Date')\n",
    "    plt.ylabel('Closing Price')\n",
    "    plt.xticks(rotation=45)\n",
    "    plt.grid(True)\n",
    "    plt.tight_layout()\n",
    "    plt.show()\n",
    "\n",
    "tickers = eft_aggregates_dataframe['name'].unique()\n",
    "\n",
    "# Define interactive widget\n",
    "ticker_dropdown = widgets.Dropdown(options=tickers, description='Ticker:')\n",
    "\n",
    "# Use interact to dynamically update the plot based on the selected ticker\n",
    "interact(plot_stock_data, ticker=ticker_dropdown)"
   ]
  },
  {
   "cell_type": "code",
   "execution_count": null,
   "id": "e3b55846",
   "metadata": {},
   "outputs": [],
   "source": []
  }
 ],
 "metadata": {
  "kernelspec": {
   "display_name": "Python 3 (ipykernel)",
   "language": "python",
   "name": "python3"
  },
  "language_info": {
   "codemirror_mode": {
    "name": "ipython",
    "version": 3
   },
   "file_extension": ".py",
   "mimetype": "text/x-python",
   "name": "python",
   "nbconvert_exporter": "python",
   "pygments_lexer": "ipython3",
   "version": "3.11.5"
  }
 },
 "nbformat": 4,
 "nbformat_minor": 5
}
