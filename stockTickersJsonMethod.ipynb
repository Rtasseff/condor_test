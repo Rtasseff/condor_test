{
 "cells": [
  {
   "cell_type": "code",
   "execution_count": 99,
   "id": "c519de82",
   "metadata": {},
   "outputs": [],
   "source": [
    "from polygon import RESTClient\n",
    "import datetime as dt\n",
    "import pandas as pd\n",
    "import matplotlib.pyplot as plt\n",
    "import numpy as np\n",
    "import json\n",
    "from urllib.request import urlopen\n",
    "import time"
   ]
  },
  {
   "cell_type": "code",
   "execution_count": 100,
   "id": "5411e6e6",
   "metadata": {},
   "outputs": [
    {
     "data": {
      "text/plain": [
       "<polygon.rest.RESTClient at 0x150e9d5d0>"
      ]
     },
     "execution_count": 100,
     "metadata": {},
     "output_type": "execute_result"
    }
   ],
   "source": [
    "polygonAPIkey = \"r9VpJsap3oKUiXK1s6ae9PsI9jq18OBW\"\n",
    "client = RESTClient(polygonAPIkey, verbose = True) #polygonAPIkey is used\n",
    "client"
   ]
  },
  {
   "cell_type": "code",
   "execution_count": 103,
   "id": "9b7c24b4",
   "metadata": {},
   "outputs": [
    {
     "name": "stdout",
     "output_type": "stream",
     "text": [
      "requesting data from https://api.polygon.io/v3/reference/tickers?market=stocks&exchange=XNYS&date=2024-03-28&active=true&limit=1000&apiKey=r9VpJsap3oKUiXK1s6ae9PsI9jq18OBW\n",
      "requesting data from https://api.polygon.io/v3/reference/tickers?cursor=YWN0aXZlPXRydWUmYXA9RVZBJTdDMjI5YTRmYWVlZWE2NjI3OWY5MmIzYWNmZjVhYjE0NDY2Mjk1ZWQ2N2NjNjA1NTdkNjJhMjViY2VjOGE0NzFlZiZhcz0mZGF0ZT0yMDI0LTAzLTI4JmV4Y2hhbmdlPVhOWVMmbGltaXQ9MTAwMCZtYXJrZXQ9c3RvY2tzJm9yZGVyPWFzYyZzb3J0PXRpY2tlcg&apiKey=r9VpJsap3oKUiXK1s6ae9PsI9jq18OBW\n",
      "requesting data from https://api.polygon.io/v3/reference/tickers?cursor=YWN0aXZlPXRydWUmYXA9T0hJJTdDOTM4ZTlhNjVkYTQyZmY2NzBhOTNhM2M4ZDE3YWI1NGE4YjY0NjVjNTc2YWYwNjdjZTYxNzE4NDUwMWUyNTUwYyZhcz0mZGF0ZT0yMDI0LTAzLTI4JmV4Y2hhbmdlPVhOWVMmbGltaXQ9MTAwMCZtYXJrZXQ9c3RvY2tzJm9yZGVyPWFzYyZzb3J0PXRpY2tlcg&apiKey=r9VpJsap3oKUiXK1s6ae9PsI9jq18OBW\n",
      "done fetching data\n"
     ]
    }
   ],
   "source": [
    "stockTickersList = []\n",
    "\n",
    "url = 'https://api.polygon.io/v3/reference/tickers?market=stocks&exchange=XNYS&date=2024-03-28&active=true&limit=1000'\n",
    "\n",
    "while url != '':\n",
    "    requestUrl = \"{0}&apiKey={1}\".format(url, polygonAPIkey)\n",
    "    resp = urlopen(requestUrl)\n",
    "    print (\"requesting data from {0}\".format(requestUrl))\n",
    "    time.sleep(15)\n",
    "    stockTicker = json.loads(resp.read())\n",
    "    stockTickersList.extend(stockTicker['results'])  \n",
    "    \n",
    "    if 'next_url' in stockTicker:\n",
    "        url = stockTicker['next_url']\n",
    "        \n",
    "    else:\n",
    "        print('done fetching data')\n",
    "        url = ''\n",
    "    "
   ]
  },
  {
   "cell_type": "code",
   "execution_count": 104,
   "id": "79f3d77c",
   "metadata": {},
   "outputs": [],
   "source": [
    "stockTickers = pd.DataFrame(stockTickersList)"
   ]
  },
  {
   "cell_type": "code",
   "execution_count": 105,
   "id": "b308e955",
   "metadata": {},
   "outputs": [
    {
     "name": "stdout",
     "output_type": "stream",
     "text": [
      "<class 'pandas.core.frame.DataFrame'>\n",
      "RangeIndex: 2986 entries, 0 to 2985\n",
      "Data columns (total 12 columns):\n",
      " #   Column            Non-Null Count  Dtype \n",
      "---  ------            --------------  ----- \n",
      " 0   ticker            2986 non-null   object\n",
      " 1   name              2986 non-null   object\n",
      " 2   market            2986 non-null   object\n",
      " 3   locale            2986 non-null   object\n",
      " 4   primary_exchange  2986 non-null   object\n",
      " 5   type              2986 non-null   object\n",
      " 6   active            2986 non-null   bool  \n",
      " 7   currency_name     2986 non-null   object\n",
      " 8   cik               2964 non-null   object\n",
      " 9   composite_figi    2259 non-null   object\n",
      " 10  share_class_figi  2206 non-null   object\n",
      " 11  last_updated_utc  2986 non-null   object\n",
      "dtypes: bool(1), object(11)\n",
      "memory usage: 259.7+ KB\n"
     ]
    }
   ],
   "source": [
    "stockTickers.info()"
   ]
  },
  {
   "cell_type": "code",
   "execution_count": 106,
   "id": "25be873c",
   "metadata": {},
   "outputs": [
    {
     "data": {
      "text/plain": [
       "locale\n",
       "us    2986\n",
       "Name: count, dtype: int64"
      ]
     },
     "execution_count": 106,
     "metadata": {},
     "output_type": "execute_result"
    }
   ],
   "source": [
    "stockTickers['locale'].value_counts()"
   ]
  },
  {
   "cell_type": "code",
   "execution_count": 107,
   "id": "520bafb0",
   "metadata": {},
   "outputs": [
    {
     "data": {
      "text/plain": [
       "currency_name\n",
       "usd    2986\n",
       "Name: count, dtype: int64"
      ]
     },
     "execution_count": 107,
     "metadata": {},
     "output_type": "execute_result"
    }
   ],
   "source": [
    "stockTickers['currency_name'].value_counts()"
   ]
  },
  {
   "cell_type": "code",
   "execution_count": 108,
   "id": "f17f2c79",
   "metadata": {
    "scrolled": true
   },
   "outputs": [
    {
     "data": {
      "text/html": [
       "<div>\n",
       "<style scoped>\n",
       "    .dataframe tbody tr th:only-of-type {\n",
       "        vertical-align: middle;\n",
       "    }\n",
       "\n",
       "    .dataframe tbody tr th {\n",
       "        vertical-align: top;\n",
       "    }\n",
       "\n",
       "    .dataframe thead th {\n",
       "        text-align: right;\n",
       "    }\n",
       "</style>\n",
       "<table border=\"1\" class=\"dataframe\">\n",
       "  <thead>\n",
       "    <tr style=\"text-align: right;\">\n",
       "      <th></th>\n",
       "      <th>ticker</th>\n",
       "      <th>name</th>\n",
       "      <th>market</th>\n",
       "      <th>locale</th>\n",
       "      <th>primary_exchange</th>\n",
       "      <th>type</th>\n",
       "      <th>active</th>\n",
       "      <th>currency_name</th>\n",
       "      <th>cik</th>\n",
       "      <th>composite_figi</th>\n",
       "      <th>share_class_figi</th>\n",
       "      <th>last_updated_utc</th>\n",
       "    </tr>\n",
       "  </thead>\n",
       "  <tbody>\n",
       "    <tr>\n",
       "      <th>0</th>\n",
       "      <td>A</td>\n",
       "      <td>Agilent Technologies Inc.</td>\n",
       "      <td>stocks</td>\n",
       "      <td>us</td>\n",
       "      <td>XNYS</td>\n",
       "      <td>CS</td>\n",
       "      <td>True</td>\n",
       "      <td>usd</td>\n",
       "      <td>0001090872</td>\n",
       "      <td>BBG000C2V3D6</td>\n",
       "      <td>BBG001SCTQY4</td>\n",
       "      <td>2024-03-28T00:00:00Z</td>\n",
       "    </tr>\n",
       "    <tr>\n",
       "      <th>1</th>\n",
       "      <td>AA</td>\n",
       "      <td>Alcoa Corporation</td>\n",
       "      <td>stocks</td>\n",
       "      <td>us</td>\n",
       "      <td>XNYS</td>\n",
       "      <td>CS</td>\n",
       "      <td>True</td>\n",
       "      <td>usd</td>\n",
       "      <td>0001675149</td>\n",
       "      <td>BBG00B3T3HD3</td>\n",
       "      <td>BBG00B3T3HF1</td>\n",
       "      <td>2024-03-28T00:00:00Z</td>\n",
       "    </tr>\n",
       "    <tr>\n",
       "      <th>2</th>\n",
       "      <td>AACT</td>\n",
       "      <td>Ares Acquisition Corporation II</td>\n",
       "      <td>stocks</td>\n",
       "      <td>us</td>\n",
       "      <td>XNYS</td>\n",
       "      <td>CS</td>\n",
       "      <td>True</td>\n",
       "      <td>usd</td>\n",
       "      <td>0001853138</td>\n",
       "      <td>NaN</td>\n",
       "      <td>NaN</td>\n",
       "      <td>2024-03-28T00:00:00Z</td>\n",
       "    </tr>\n",
       "    <tr>\n",
       "      <th>3</th>\n",
       "      <td>AACT.U</td>\n",
       "      <td>Ares Acquisition Corporation II Units, each co...</td>\n",
       "      <td>stocks</td>\n",
       "      <td>us</td>\n",
       "      <td>XNYS</td>\n",
       "      <td>UNIT</td>\n",
       "      <td>True</td>\n",
       "      <td>usd</td>\n",
       "      <td>0001853138</td>\n",
       "      <td>NaN</td>\n",
       "      <td>NaN</td>\n",
       "      <td>2024-03-28T00:00:00Z</td>\n",
       "    </tr>\n",
       "    <tr>\n",
       "      <th>4</th>\n",
       "      <td>AACT.WS</td>\n",
       "      <td>Ares Acquisition Corporation II Redeemable War...</td>\n",
       "      <td>stocks</td>\n",
       "      <td>us</td>\n",
       "      <td>XNYS</td>\n",
       "      <td>WARRANT</td>\n",
       "      <td>True</td>\n",
       "      <td>usd</td>\n",
       "      <td>0001853138</td>\n",
       "      <td>NaN</td>\n",
       "      <td>NaN</td>\n",
       "      <td>2024-03-28T00:00:00Z</td>\n",
       "    </tr>\n",
       "    <tr>\n",
       "      <th>...</th>\n",
       "      <td>...</td>\n",
       "      <td>...</td>\n",
       "      <td>...</td>\n",
       "      <td>...</td>\n",
       "      <td>...</td>\n",
       "      <td>...</td>\n",
       "      <td>...</td>\n",
       "      <td>...</td>\n",
       "      <td>...</td>\n",
       "      <td>...</td>\n",
       "      <td>...</td>\n",
       "      <td>...</td>\n",
       "    </tr>\n",
       "    <tr>\n",
       "      <th>2981</th>\n",
       "      <td>ZTR</td>\n",
       "      <td>Virtus Total Return Fund Inc.</td>\n",
       "      <td>stocks</td>\n",
       "      <td>us</td>\n",
       "      <td>XNYS</td>\n",
       "      <td>FUND</td>\n",
       "      <td>True</td>\n",
       "      <td>usd</td>\n",
       "      <td>0000836412</td>\n",
       "      <td>BBG000BXB8X8</td>\n",
       "      <td>BBG001S5XNL5</td>\n",
       "      <td>2024-03-28T00:00:00Z</td>\n",
       "    </tr>\n",
       "    <tr>\n",
       "      <th>2982</th>\n",
       "      <td>ZTS</td>\n",
       "      <td>ZOETIS INC.</td>\n",
       "      <td>stocks</td>\n",
       "      <td>us</td>\n",
       "      <td>XNYS</td>\n",
       "      <td>CS</td>\n",
       "      <td>True</td>\n",
       "      <td>usd</td>\n",
       "      <td>0001555280</td>\n",
       "      <td>BBG0039320N9</td>\n",
       "      <td>BBG0039320P7</td>\n",
       "      <td>2024-03-28T00:00:00Z</td>\n",
       "    </tr>\n",
       "    <tr>\n",
       "      <th>2983</th>\n",
       "      <td>ZUO</td>\n",
       "      <td>Zuora, Inc.</td>\n",
       "      <td>stocks</td>\n",
       "      <td>us</td>\n",
       "      <td>XNYS</td>\n",
       "      <td>CS</td>\n",
       "      <td>True</td>\n",
       "      <td>usd</td>\n",
       "      <td>0001423774</td>\n",
       "      <td>BBG000BT3HG5</td>\n",
       "      <td>BBG001SS0FH3</td>\n",
       "      <td>2024-03-28T00:00:00Z</td>\n",
       "    </tr>\n",
       "    <tr>\n",
       "      <th>2984</th>\n",
       "      <td>ZVIA</td>\n",
       "      <td>Zevia PBC</td>\n",
       "      <td>stocks</td>\n",
       "      <td>us</td>\n",
       "      <td>XNYS</td>\n",
       "      <td>CS</td>\n",
       "      <td>True</td>\n",
       "      <td>usd</td>\n",
       "      <td>0001854139</td>\n",
       "      <td>BBG011S2NX76</td>\n",
       "      <td>BBG011S2NY29</td>\n",
       "      <td>2024-03-28T00:00:00Z</td>\n",
       "    </tr>\n",
       "    <tr>\n",
       "      <th>2985</th>\n",
       "      <td>ZWS</td>\n",
       "      <td>Zurn Elkay Water Solutions Corporation</td>\n",
       "      <td>stocks</td>\n",
       "      <td>us</td>\n",
       "      <td>XNYS</td>\n",
       "      <td>CS</td>\n",
       "      <td>True</td>\n",
       "      <td>usd</td>\n",
       "      <td>0001439288</td>\n",
       "      <td>BBG000H8R0N8</td>\n",
       "      <td>BBG001T36GB5</td>\n",
       "      <td>2024-03-28T00:00:00Z</td>\n",
       "    </tr>\n",
       "  </tbody>\n",
       "</table>\n",
       "<p>2986 rows × 12 columns</p>\n",
       "</div>"
      ],
      "text/plain": [
       "       ticker                                               name  market  \\\n",
       "0           A                          Agilent Technologies Inc.  stocks   \n",
       "1          AA                                  Alcoa Corporation  stocks   \n",
       "2        AACT                    Ares Acquisition Corporation II  stocks   \n",
       "3      AACT.U  Ares Acquisition Corporation II Units, each co...  stocks   \n",
       "4     AACT.WS  Ares Acquisition Corporation II Redeemable War...  stocks   \n",
       "...       ...                                                ...     ...   \n",
       "2981      ZTR                      Virtus Total Return Fund Inc.  stocks   \n",
       "2982      ZTS                                        ZOETIS INC.  stocks   \n",
       "2983      ZUO                                        Zuora, Inc.  stocks   \n",
       "2984     ZVIA                                          Zevia PBC  stocks   \n",
       "2985      ZWS             Zurn Elkay Water Solutions Corporation  stocks   \n",
       "\n",
       "     locale primary_exchange     type  active currency_name         cik  \\\n",
       "0        us             XNYS       CS    True           usd  0001090872   \n",
       "1        us             XNYS       CS    True           usd  0001675149   \n",
       "2        us             XNYS       CS    True           usd  0001853138   \n",
       "3        us             XNYS     UNIT    True           usd  0001853138   \n",
       "4        us             XNYS  WARRANT    True           usd  0001853138   \n",
       "...     ...              ...      ...     ...           ...         ...   \n",
       "2981     us             XNYS     FUND    True           usd  0000836412   \n",
       "2982     us             XNYS       CS    True           usd  0001555280   \n",
       "2983     us             XNYS       CS    True           usd  0001423774   \n",
       "2984     us             XNYS       CS    True           usd  0001854139   \n",
       "2985     us             XNYS       CS    True           usd  0001439288   \n",
       "\n",
       "     composite_figi share_class_figi      last_updated_utc  \n",
       "0      BBG000C2V3D6     BBG001SCTQY4  2024-03-28T00:00:00Z  \n",
       "1      BBG00B3T3HD3     BBG00B3T3HF1  2024-03-28T00:00:00Z  \n",
       "2               NaN              NaN  2024-03-28T00:00:00Z  \n",
       "3               NaN              NaN  2024-03-28T00:00:00Z  \n",
       "4               NaN              NaN  2024-03-28T00:00:00Z  \n",
       "...             ...              ...                   ...  \n",
       "2981   BBG000BXB8X8     BBG001S5XNL5  2024-03-28T00:00:00Z  \n",
       "2982   BBG0039320N9     BBG0039320P7  2024-03-28T00:00:00Z  \n",
       "2983   BBG000BT3HG5     BBG001SS0FH3  2024-03-28T00:00:00Z  \n",
       "2984   BBG011S2NX76     BBG011S2NY29  2024-03-28T00:00:00Z  \n",
       "2985   BBG000H8R0N8     BBG001T36GB5  2024-03-28T00:00:00Z  \n",
       "\n",
       "[2986 rows x 12 columns]"
      ]
     },
     "execution_count": 108,
     "metadata": {},
     "output_type": "execute_result"
    }
   ],
   "source": [
    "stockTickers"
   ]
  },
  {
   "cell_type": "code",
   "execution_count": 109,
   "id": "7d3a0f22",
   "metadata": {},
   "outputs": [],
   "source": [
    "stockTickers['id'] = stockTickers.index + 1"
   ]
  },
  {
   "cell_type": "code",
   "execution_count": 110,
   "id": "27b229eb",
   "metadata": {},
   "outputs": [],
   "source": [
    "stockTickers.to_json(\"stockTickers_31032024.json\")"
   ]
  }
 ],
 "metadata": {
  "kernelspec": {
   "display_name": "Python 3 (ipykernel)",
   "language": "python",
   "name": "python3"
  },
  "language_info": {
   "codemirror_mode": {
    "name": "ipython",
    "version": 3
   },
   "file_extension": ".py",
   "mimetype": "text/x-python",
   "name": "python",
   "nbconvert_exporter": "python",
   "pygments_lexer": "ipython3",
   "version": "3.11.5"
  }
 },
 "nbformat": 4,
 "nbformat_minor": 5
}
