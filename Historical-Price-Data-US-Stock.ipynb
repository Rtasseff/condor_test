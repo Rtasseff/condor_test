{
 "cells": [
  {
   "cell_type": "markdown",
   "id": "9bbc8468",
   "metadata": {},
   "source": [
    "#### Connect to Polygon.io API"
   ]
  },
  {
   "cell_type": "code",
   "execution_count": 98,
   "id": "3a61d99a",
   "metadata": {},
   "outputs": [
    {
     "name": "stdout",
     "output_type": "stream",
     "text": [
      "Requirement already satisfied: polygon-api-client in /Users/rosario/anaconda3/lib/python3.11/site-packages (1.13.4)\n",
      "Requirement already satisfied: certifi<2024.0.0,>=2022.5.18 in /Users/rosario/anaconda3/lib/python3.11/site-packages (from polygon-api-client) (2023.11.17)\n",
      "Requirement already satisfied: urllib3<2.0.0,>=1.26.9 in /Users/rosario/anaconda3/lib/python3.11/site-packages (from polygon-api-client) (1.26.16)\n",
      "Requirement already satisfied: websockets<13.0,>=10.3 in /Users/rosario/anaconda3/lib/python3.11/site-packages (from polygon-api-client) (12.0)\n",
      "Note: you may need to restart the kernel to use updated packages.\n"
     ]
    }
   ],
   "source": [
    "pip install polygon-api-client"
   ]
  },
  {
   "cell_type": "markdown",
   "id": "dc3e2e31",
   "metadata": {},
   "source": [
    "#### Import Modules"
   ]
  },
  {
   "cell_type": "code",
   "execution_count": 152,
   "id": "52c1e94a",
   "metadata": {},
   "outputs": [],
   "source": [
    "from polygon import RESTClient\n",
    "import datetime as dt\n",
    "import pandas as pd\n",
    "import matplotlib.pyplot as plt\n",
    "import numpy as np\n",
    "import json\n",
    "from urllib.request import urlopen\n",
    "import time\n",
    "import requests"
   ]
  },
  {
   "cell_type": "markdown",
   "id": "2a8ba178",
   "metadata": {},
   "source": [
    " #### API key from config: https://polygon-api-client.readthedocs.io/en/latest/Getting-Started.html"
   ]
  },
  {
   "cell_type": "code",
   "execution_count": 100,
   "id": "980a15e6",
   "metadata": {},
   "outputs": [
    {
     "data": {
      "text/plain": [
       "<polygon.rest.RESTClient at 0x16920c450>"
      ]
     },
     "execution_count": 100,
     "metadata": {},
     "output_type": "execute_result"
    }
   ],
   "source": [
    "polygonAPIkey = \"api_key_here\"\n",
    "client = RESTClient(polygonAPIkey, verbose = True) #polygonAPIkey is used\n",
    "client"
   ]
  },
  {
   "cell_type": "markdown",
   "id": "56e4637a",
   "metadata": {},
   "source": [
    "#### Get the list of exchanges in the USA\n",
    "\n",
    "Note: I find that the JSON file for ticker details is much more accurate when it comes to active tickers however, max per page is 1000 tickers and it is paginated so unless we have the paid version, I working on a script to obtain multiple json files without triggering the max api call error. \n",
    "\n",
    "For now, I used the list_ticker function to create a list of active tickers, but it is not clean. "
   ]
  },
  {
   "cell_type": "code",
   "execution_count": 47,
   "id": "78c4343d",
   "metadata": {},
   "outputs": [],
   "source": [
    "exchanges = pd.DataFrame(client.get_exchanges(asset_class='stocks', locale='us'))"
   ]
  },
  {
   "cell_type": "code",
   "execution_count": 48,
   "id": "45ddcf9b",
   "metadata": {},
   "outputs": [],
   "source": [
    "exchangeList = list(set(exchanges.mic))"
   ]
  },
  {
   "cell_type": "code",
   "execution_count": 49,
   "id": "a375915c",
   "metadata": {},
   "outputs": [],
   "source": [
    "exchangeList.remove(None)"
   ]
  },
  {
   "cell_type": "code",
   "execution_count": 50,
   "id": "38491944",
   "metadata": {},
   "outputs": [
    {
     "name": "stdout",
     "output_type": "stream",
     "text": [
      "['EDGX', 'XNYS', 'CBSX', 'XCIS', 'XADF', 'LTSE', 'BATY', 'XASE', 'OOTC', 'BATS', 'FINN', 'XNAS', 'IEXG', 'XCHI', 'FINY', 'FINC', 'XPHL', 'EPRL', 'XISE', 'XBOS', 'ARCX', 'MEMX', 'EDGA']\n"
     ]
    }
   ],
   "source": [
    "print(exchangeList)"
   ]
  },
  {
   "cell_type": "markdown",
   "id": "4c69b210",
   "metadata": {},
   "source": [
    "#### Get the list of tickers from all the exchanges in the USA"
   ]
  },
  {
   "cell_type": "code",
   "execution_count": 72,
   "id": "073bb612",
   "metadata": {},
   "outputs": [],
   "source": [
    "usTickers = []\n",
    "api_calls_count = 0  # Initialize the count of API calls made\n",
    "\n",
    "for x in exchangeList:\n",
    "    # page through response\n",
    "    for t in client.list_tickers(market='stocks',\n",
    "                                 exchange=x,\n",
    "                                 active=True,\n",
    "                                 limit=1000):\n",
    "        # add to list\n",
    "        usTickers.append(t.ticker)\n",
    "        api_calls_count += 1  # Increment the count of API calls made\n",
    "        \n",
    "        # Check if 1 API calls have been made\n",
    "        if api_calls_count % 1 == 0:\n",
    "            print(\"Delaying for 15 seconds...\")\n",
    "            time.sleep(15)  # Introduce a 15 sec delay after every API call 5 calls / min\n",
    "        \n",
    "    # print exchange when finished looping through exchange for active US stock tickers\n",
    "    print(x)\n",
    "\n",
    "\n",
    "###NOTE: this code is still including delisted tickers and active tickers that do not have any data"
   ]
  },
  {
   "cell_type": "code",
   "execution_count": 2,
   "id": "abcb0de3",
   "metadata": {},
   "outputs": [],
   "source": [
    "usTickersDF = pd.DataFrame(usTickers) ## this df does NOT include all tickers, max call error was triggered at some point"
   ]
  },
  {
   "cell_type": "code",
   "execution_count": 138,
   "id": "38ef2d3e",
   "metadata": {},
   "outputs": [
    {
     "name": "stdout",
     "output_type": "stream",
     "text": [
      "<class 'pandas.core.frame.DataFrame'>\n",
      "RangeIndex: 2981 entries, 0 to 2980\n",
      "Data columns (total 1 columns):\n",
      " #   Column  Non-Null Count  Dtype \n",
      "---  ------  --------------  ----- \n",
      " 0   0       2981 non-null   object\n",
      "dtypes: object(1)\n",
      "memory usage: 23.4+ KB\n"
     ]
    }
   ],
   "source": [
    "usTickersDF.info()"
   ]
  },
  {
   "cell_type": "code",
   "execution_count": 140,
   "id": "7940f6ac",
   "metadata": {
    "scrolled": true
   },
   "outputs": [
    {
     "data": {
      "text/html": [
       "<div>\n",
       "<style scoped>\n",
       "    .dataframe tbody tr th:only-of-type {\n",
       "        vertical-align: middle;\n",
       "    }\n",
       "\n",
       "    .dataframe tbody tr th {\n",
       "        vertical-align: top;\n",
       "    }\n",
       "\n",
       "    .dataframe thead th {\n",
       "        text-align: right;\n",
       "    }\n",
       "</style>\n",
       "<table border=\"1\" class=\"dataframe\">\n",
       "  <thead>\n",
       "    <tr style=\"text-align: right;\">\n",
       "      <th></th>\n",
       "      <th>0</th>\n",
       "    </tr>\n",
       "  </thead>\n",
       "  <tbody>\n",
       "    <tr>\n",
       "      <th>0</th>\n",
       "      <td>A</td>\n",
       "    </tr>\n",
       "    <tr>\n",
       "      <th>1</th>\n",
       "      <td>AA</td>\n",
       "    </tr>\n",
       "    <tr>\n",
       "      <th>2</th>\n",
       "      <td>AACT</td>\n",
       "    </tr>\n",
       "    <tr>\n",
       "      <th>3</th>\n",
       "      <td>AACT.U</td>\n",
       "    </tr>\n",
       "    <tr>\n",
       "      <th>4</th>\n",
       "      <td>AACT.WS</td>\n",
       "    </tr>\n",
       "  </tbody>\n",
       "</table>\n",
       "</div>"
      ],
      "text/plain": [
       "         0\n",
       "0        A\n",
       "1       AA\n",
       "2     AACT\n",
       "3   AACT.U\n",
       "4  AACT.WS"
      ]
     },
     "execution_count": 140,
     "metadata": {},
     "output_type": "execute_result"
    }
   ],
   "source": [
    "usTickersDF.head()"
   ]
  },
  {
   "cell_type": "markdown",
   "id": "91921965",
   "metadata": {},
   "source": [
    "#### Get aggregate data for stock ticker \n",
    "Plan: use the usTickersList (when completed) in a loop function to scrape polygon.io to add aggregate data to activeUsTickersDB"
   ]
  },
  {
   "cell_type": "code",
   "execution_count": 141,
   "id": "1001f16c",
   "metadata": {},
   "outputs": [
    {
     "data": {
      "text/html": [
       "<div>\n",
       "<style scoped>\n",
       "    .dataframe tbody tr th:only-of-type {\n",
       "        vertical-align: middle;\n",
       "    }\n",
       "\n",
       "    .dataframe tbody tr th {\n",
       "        vertical-align: top;\n",
       "    }\n",
       "\n",
       "    .dataframe thead th {\n",
       "        text-align: right;\n",
       "    }\n",
       "</style>\n",
       "<table border=\"1\" class=\"dataframe\">\n",
       "  <thead>\n",
       "    <tr style=\"text-align: right;\">\n",
       "      <th></th>\n",
       "      <th>0</th>\n",
       "    </tr>\n",
       "  </thead>\n",
       "  <tbody>\n",
       "    <tr>\n",
       "      <th>0</th>\n",
       "      <td>A</td>\n",
       "    </tr>\n",
       "    <tr>\n",
       "      <th>1</th>\n",
       "      <td>AA</td>\n",
       "    </tr>\n",
       "    <tr>\n",
       "      <th>2</th>\n",
       "      <td>AACT</td>\n",
       "    </tr>\n",
       "    <tr>\n",
       "      <th>3</th>\n",
       "      <td>AACT.U</td>\n",
       "    </tr>\n",
       "    <tr>\n",
       "      <th>4</th>\n",
       "      <td>AACT.WS</td>\n",
       "    </tr>\n",
       "    <tr>\n",
       "      <th>...</th>\n",
       "      <td>...</td>\n",
       "    </tr>\n",
       "    <tr>\n",
       "      <th>2976</th>\n",
       "      <td>ZTR</td>\n",
       "    </tr>\n",
       "    <tr>\n",
       "      <th>2977</th>\n",
       "      <td>ZTS</td>\n",
       "    </tr>\n",
       "    <tr>\n",
       "      <th>2978</th>\n",
       "      <td>ZUO</td>\n",
       "    </tr>\n",
       "    <tr>\n",
       "      <th>2979</th>\n",
       "      <td>ZVIA</td>\n",
       "    </tr>\n",
       "    <tr>\n",
       "      <th>2980</th>\n",
       "      <td>ZWS</td>\n",
       "    </tr>\n",
       "  </tbody>\n",
       "</table>\n",
       "<p>2981 rows × 1 columns</p>\n",
       "</div>"
      ],
      "text/plain": [
       "            0\n",
       "0           A\n",
       "1          AA\n",
       "2        AACT\n",
       "3      AACT.U\n",
       "4     AACT.WS\n",
       "...       ...\n",
       "2976      ZTR\n",
       "2977      ZTS\n",
       "2978      ZUO\n",
       "2979     ZVIA\n",
       "2980      ZWS\n",
       "\n",
       "[2981 rows x 1 columns]"
      ]
     },
     "execution_count": 141,
     "metadata": {},
     "output_type": "execute_result"
    }
   ],
   "source": [
    "aggUsTickersDf= usTickersDF\n",
    "aggUsTickersDf\n",
    "\n",
    "#need to filter out inactive stock tickers"
   ]
  },
  {
   "cell_type": "code",
   "execution_count": 145,
   "id": "bbfba58d",
   "metadata": {},
   "outputs": [
    {
     "data": {
      "text/plain": [
       "'A'"
      ]
     },
     "execution_count": 145,
     "metadata": {},
     "output_type": "execute_result"
    }
   ],
   "source": [
    "aggUsTickersDf.iloc[0, 0]"
   ]
  },
  {
   "cell_type": "code",
   "execution_count": 156,
   "id": "026259f9",
   "metadata": {},
   "outputs": [],
   "source": [
    "stockPriceRequest = client.get_aggs(ticker = aggUsTickersDf.iloc[1, 0],\n",
    "                                   multiplier = 1, \n",
    "                                   timespan = 'day',\n",
    "                                   from_ = \"2022-03-22\",\n",
    "                                   to = '2024-03-22')\n",
    "\n",
    "## Need to iterate through the dataframe of active tickers once full df of active tickers is set up"
   ]
  },
  {
   "cell_type": "code",
   "execution_count": 157,
   "id": "b4ef213a",
   "metadata": {},
   "outputs": [],
   "source": [
    "stockPriceDB = pd.DataFrame(stockPriceRequest)"
   ]
  },
  {
   "cell_type": "code",
   "execution_count": 158,
   "id": "0e278d8a",
   "metadata": {},
   "outputs": [
    {
     "data": {
      "text/html": [
       "<div>\n",
       "<style scoped>\n",
       "    .dataframe tbody tr th:only-of-type {\n",
       "        vertical-align: middle;\n",
       "    }\n",
       "\n",
       "    .dataframe tbody tr th {\n",
       "        vertical-align: top;\n",
       "    }\n",
       "\n",
       "    .dataframe thead th {\n",
       "        text-align: right;\n",
       "    }\n",
       "</style>\n",
       "<table border=\"1\" class=\"dataframe\">\n",
       "  <thead>\n",
       "    <tr style=\"text-align: right;\">\n",
       "      <th></th>\n",
       "      <th>open</th>\n",
       "      <th>high</th>\n",
       "      <th>low</th>\n",
       "      <th>close</th>\n",
       "      <th>volume</th>\n",
       "      <th>vwap</th>\n",
       "      <th>timestamp</th>\n",
       "      <th>transactions</th>\n",
       "      <th>otc</th>\n",
       "    </tr>\n",
       "  </thead>\n",
       "  <tbody>\n",
       "    <tr>\n",
       "      <th>0</th>\n",
       "      <td>90.64</td>\n",
       "      <td>92.870</td>\n",
       "      <td>88.1100</td>\n",
       "      <td>92.46</td>\n",
       "      <td>5111285.0</td>\n",
       "      <td>91.5145</td>\n",
       "      <td>1648440000000</td>\n",
       "      <td>55764</td>\n",
       "      <td>None</td>\n",
       "    </tr>\n",
       "    <tr>\n",
       "      <th>1</th>\n",
       "      <td>86.50</td>\n",
       "      <td>90.100</td>\n",
       "      <td>84.1295</td>\n",
       "      <td>90.07</td>\n",
       "      <td>7530657.0</td>\n",
       "      <td>88.1407</td>\n",
       "      <td>1648526400000</td>\n",
       "      <td>86795</td>\n",
       "      <td>None</td>\n",
       "    </tr>\n",
       "    <tr>\n",
       "      <th>2</th>\n",
       "      <td>92.60</td>\n",
       "      <td>93.990</td>\n",
       "      <td>90.9600</td>\n",
       "      <td>92.19</td>\n",
       "      <td>5513570.0</td>\n",
       "      <td>92.1627</td>\n",
       "      <td>1648612800000</td>\n",
       "      <td>58465</td>\n",
       "      <td>None</td>\n",
       "    </tr>\n",
       "    <tr>\n",
       "      <th>3</th>\n",
       "      <td>91.67</td>\n",
       "      <td>92.700</td>\n",
       "      <td>89.8006</td>\n",
       "      <td>90.03</td>\n",
       "      <td>4567221.0</td>\n",
       "      <td>91.1805</td>\n",
       "      <td>1648699200000</td>\n",
       "      <td>52497</td>\n",
       "      <td>None</td>\n",
       "    </tr>\n",
       "    <tr>\n",
       "      <th>4</th>\n",
       "      <td>91.69</td>\n",
       "      <td>93.580</td>\n",
       "      <td>87.5350</td>\n",
       "      <td>90.62</td>\n",
       "      <td>5746311.0</td>\n",
       "      <td>90.4137</td>\n",
       "      <td>1648785600000</td>\n",
       "      <td>64440</td>\n",
       "      <td>None</td>\n",
       "    </tr>\n",
       "    <tr>\n",
       "      <th>...</th>\n",
       "      <td>...</td>\n",
       "      <td>...</td>\n",
       "      <td>...</td>\n",
       "      <td>...</td>\n",
       "      <td>...</td>\n",
       "      <td>...</td>\n",
       "      <td>...</td>\n",
       "      <td>...</td>\n",
       "      <td>...</td>\n",
       "    </tr>\n",
       "    <tr>\n",
       "      <th>495</th>\n",
       "      <td>30.94</td>\n",
       "      <td>31.660</td>\n",
       "      <td>30.7900</td>\n",
       "      <td>31.03</td>\n",
       "      <td>6844237.0</td>\n",
       "      <td>31.2471</td>\n",
       "      <td>1710734400000</td>\n",
       "      <td>51220</td>\n",
       "      <td>None</td>\n",
       "    </tr>\n",
       "    <tr>\n",
       "      <th>496</th>\n",
       "      <td>30.30</td>\n",
       "      <td>30.470</td>\n",
       "      <td>28.7200</td>\n",
       "      <td>29.67</td>\n",
       "      <td>9888748.0</td>\n",
       "      <td>29.3871</td>\n",
       "      <td>1710820800000</td>\n",
       "      <td>72847</td>\n",
       "      <td>None</td>\n",
       "    </tr>\n",
       "    <tr>\n",
       "      <th>497</th>\n",
       "      <td>29.63</td>\n",
       "      <td>31.880</td>\n",
       "      <td>29.5200</td>\n",
       "      <td>31.35</td>\n",
       "      <td>7446940.0</td>\n",
       "      <td>30.9679</td>\n",
       "      <td>1710907200000</td>\n",
       "      <td>63363</td>\n",
       "      <td>None</td>\n",
       "    </tr>\n",
       "    <tr>\n",
       "      <th>498</th>\n",
       "      <td>31.71</td>\n",
       "      <td>32.130</td>\n",
       "      <td>31.0500</td>\n",
       "      <td>31.35</td>\n",
       "      <td>5594696.0</td>\n",
       "      <td>31.5260</td>\n",
       "      <td>1710993600000</td>\n",
       "      <td>46313</td>\n",
       "      <td>None</td>\n",
       "    </tr>\n",
       "    <tr>\n",
       "      <th>499</th>\n",
       "      <td>31.00</td>\n",
       "      <td>31.525</td>\n",
       "      <td>30.8400</td>\n",
       "      <td>31.40</td>\n",
       "      <td>4334930.0</td>\n",
       "      <td>31.3299</td>\n",
       "      <td>1711080000000</td>\n",
       "      <td>46295</td>\n",
       "      <td>None</td>\n",
       "    </tr>\n",
       "  </tbody>\n",
       "</table>\n",
       "<p>500 rows × 9 columns</p>\n",
       "</div>"
      ],
      "text/plain": [
       "      open    high      low  close     volume     vwap      timestamp  \\\n",
       "0    90.64  92.870  88.1100  92.46  5111285.0  91.5145  1648440000000   \n",
       "1    86.50  90.100  84.1295  90.07  7530657.0  88.1407  1648526400000   \n",
       "2    92.60  93.990  90.9600  92.19  5513570.0  92.1627  1648612800000   \n",
       "3    91.67  92.700  89.8006  90.03  4567221.0  91.1805  1648699200000   \n",
       "4    91.69  93.580  87.5350  90.62  5746311.0  90.4137  1648785600000   \n",
       "..     ...     ...      ...    ...        ...      ...            ...   \n",
       "495  30.94  31.660  30.7900  31.03  6844237.0  31.2471  1710734400000   \n",
       "496  30.30  30.470  28.7200  29.67  9888748.0  29.3871  1710820800000   \n",
       "497  29.63  31.880  29.5200  31.35  7446940.0  30.9679  1710907200000   \n",
       "498  31.71  32.130  31.0500  31.35  5594696.0  31.5260  1710993600000   \n",
       "499  31.00  31.525  30.8400  31.40  4334930.0  31.3299  1711080000000   \n",
       "\n",
       "     transactions   otc  \n",
       "0           55764  None  \n",
       "1           86795  None  \n",
       "2           58465  None  \n",
       "3           52497  None  \n",
       "4           64440  None  \n",
       "..            ...   ...  \n",
       "495         51220  None  \n",
       "496         72847  None  \n",
       "497         63363  None  \n",
       "498         46313  None  \n",
       "499         46295  None  \n",
       "\n",
       "[500 rows x 9 columns]"
      ]
     },
     "execution_count": 158,
     "metadata": {},
     "output_type": "execute_result"
    }
   ],
   "source": [
    "stockPriceDB #specific ticker ex: \"AA\""
   ]
  },
  {
   "cell_type": "markdown",
   "id": "4070ac20",
   "metadata": {},
   "source": [
    "#### Change Timestamp to datetime"
   ]
  },
  {
   "cell_type": "code",
   "execution_count": 159,
   "id": "855a3750",
   "metadata": {},
   "outputs": [],
   "source": [
    "stockPriceDB['Date'] = stockPriceDB['timestamp'].apply(\n",
    "                            lambda x: pd.to_datetime(x*1000000))\n",
    "\n",
    "# stockPriceData['Date'] = pd.to_datetime(stockPriceData['timestamp'])\n",
    "\n",
    "stockPriceDB = stockPriceDB.set_index('Date')"
   ]
  },
  {
   "cell_type": "code",
   "execution_count": 160,
   "id": "6ea4129d",
   "metadata": {},
   "outputs": [
    {
     "data": {
      "text/html": [
       "<div>\n",
       "<style scoped>\n",
       "    .dataframe tbody tr th:only-of-type {\n",
       "        vertical-align: middle;\n",
       "    }\n",
       "\n",
       "    .dataframe tbody tr th {\n",
       "        vertical-align: top;\n",
       "    }\n",
       "\n",
       "    .dataframe thead th {\n",
       "        text-align: right;\n",
       "    }\n",
       "</style>\n",
       "<table border=\"1\" class=\"dataframe\">\n",
       "  <thead>\n",
       "    <tr style=\"text-align: right;\">\n",
       "      <th></th>\n",
       "      <th>open</th>\n",
       "      <th>high</th>\n",
       "      <th>low</th>\n",
       "      <th>close</th>\n",
       "      <th>volume</th>\n",
       "      <th>vwap</th>\n",
       "      <th>timestamp</th>\n",
       "      <th>transactions</th>\n",
       "      <th>otc</th>\n",
       "    </tr>\n",
       "    <tr>\n",
       "      <th>Date</th>\n",
       "      <th></th>\n",
       "      <th></th>\n",
       "      <th></th>\n",
       "      <th></th>\n",
       "      <th></th>\n",
       "      <th></th>\n",
       "      <th></th>\n",
       "      <th></th>\n",
       "      <th></th>\n",
       "    </tr>\n",
       "  </thead>\n",
       "  <tbody>\n",
       "    <tr>\n",
       "      <th>2022-03-28 04:00:00</th>\n",
       "      <td>90.64</td>\n",
       "      <td>92.870</td>\n",
       "      <td>88.1100</td>\n",
       "      <td>92.46</td>\n",
       "      <td>5111285.0</td>\n",
       "      <td>91.5145</td>\n",
       "      <td>1648440000000</td>\n",
       "      <td>55764</td>\n",
       "      <td>None</td>\n",
       "    </tr>\n",
       "    <tr>\n",
       "      <th>2022-03-29 04:00:00</th>\n",
       "      <td>86.50</td>\n",
       "      <td>90.100</td>\n",
       "      <td>84.1295</td>\n",
       "      <td>90.07</td>\n",
       "      <td>7530657.0</td>\n",
       "      <td>88.1407</td>\n",
       "      <td>1648526400000</td>\n",
       "      <td>86795</td>\n",
       "      <td>None</td>\n",
       "    </tr>\n",
       "    <tr>\n",
       "      <th>2022-03-30 04:00:00</th>\n",
       "      <td>92.60</td>\n",
       "      <td>93.990</td>\n",
       "      <td>90.9600</td>\n",
       "      <td>92.19</td>\n",
       "      <td>5513570.0</td>\n",
       "      <td>92.1627</td>\n",
       "      <td>1648612800000</td>\n",
       "      <td>58465</td>\n",
       "      <td>None</td>\n",
       "    </tr>\n",
       "    <tr>\n",
       "      <th>2022-03-31 04:00:00</th>\n",
       "      <td>91.67</td>\n",
       "      <td>92.700</td>\n",
       "      <td>89.8006</td>\n",
       "      <td>90.03</td>\n",
       "      <td>4567221.0</td>\n",
       "      <td>91.1805</td>\n",
       "      <td>1648699200000</td>\n",
       "      <td>52497</td>\n",
       "      <td>None</td>\n",
       "    </tr>\n",
       "    <tr>\n",
       "      <th>2022-04-01 04:00:00</th>\n",
       "      <td>91.69</td>\n",
       "      <td>93.580</td>\n",
       "      <td>87.5350</td>\n",
       "      <td>90.62</td>\n",
       "      <td>5746311.0</td>\n",
       "      <td>90.4137</td>\n",
       "      <td>1648785600000</td>\n",
       "      <td>64440</td>\n",
       "      <td>None</td>\n",
       "    </tr>\n",
       "    <tr>\n",
       "      <th>...</th>\n",
       "      <td>...</td>\n",
       "      <td>...</td>\n",
       "      <td>...</td>\n",
       "      <td>...</td>\n",
       "      <td>...</td>\n",
       "      <td>...</td>\n",
       "      <td>...</td>\n",
       "      <td>...</td>\n",
       "      <td>...</td>\n",
       "    </tr>\n",
       "    <tr>\n",
       "      <th>2024-03-18 04:00:00</th>\n",
       "      <td>30.94</td>\n",
       "      <td>31.660</td>\n",
       "      <td>30.7900</td>\n",
       "      <td>31.03</td>\n",
       "      <td>6844237.0</td>\n",
       "      <td>31.2471</td>\n",
       "      <td>1710734400000</td>\n",
       "      <td>51220</td>\n",
       "      <td>None</td>\n",
       "    </tr>\n",
       "    <tr>\n",
       "      <th>2024-03-19 04:00:00</th>\n",
       "      <td>30.30</td>\n",
       "      <td>30.470</td>\n",
       "      <td>28.7200</td>\n",
       "      <td>29.67</td>\n",
       "      <td>9888748.0</td>\n",
       "      <td>29.3871</td>\n",
       "      <td>1710820800000</td>\n",
       "      <td>72847</td>\n",
       "      <td>None</td>\n",
       "    </tr>\n",
       "    <tr>\n",
       "      <th>2024-03-20 04:00:00</th>\n",
       "      <td>29.63</td>\n",
       "      <td>31.880</td>\n",
       "      <td>29.5200</td>\n",
       "      <td>31.35</td>\n",
       "      <td>7446940.0</td>\n",
       "      <td>30.9679</td>\n",
       "      <td>1710907200000</td>\n",
       "      <td>63363</td>\n",
       "      <td>None</td>\n",
       "    </tr>\n",
       "    <tr>\n",
       "      <th>2024-03-21 04:00:00</th>\n",
       "      <td>31.71</td>\n",
       "      <td>32.130</td>\n",
       "      <td>31.0500</td>\n",
       "      <td>31.35</td>\n",
       "      <td>5594696.0</td>\n",
       "      <td>31.5260</td>\n",
       "      <td>1710993600000</td>\n",
       "      <td>46313</td>\n",
       "      <td>None</td>\n",
       "    </tr>\n",
       "    <tr>\n",
       "      <th>2024-03-22 04:00:00</th>\n",
       "      <td>31.00</td>\n",
       "      <td>31.525</td>\n",
       "      <td>30.8400</td>\n",
       "      <td>31.40</td>\n",
       "      <td>4334930.0</td>\n",
       "      <td>31.3299</td>\n",
       "      <td>1711080000000</td>\n",
       "      <td>46295</td>\n",
       "      <td>None</td>\n",
       "    </tr>\n",
       "  </tbody>\n",
       "</table>\n",
       "<p>500 rows × 9 columns</p>\n",
       "</div>"
      ],
      "text/plain": [
       "                      open    high      low  close     volume     vwap  \\\n",
       "Date                                                                     \n",
       "2022-03-28 04:00:00  90.64  92.870  88.1100  92.46  5111285.0  91.5145   \n",
       "2022-03-29 04:00:00  86.50  90.100  84.1295  90.07  7530657.0  88.1407   \n",
       "2022-03-30 04:00:00  92.60  93.990  90.9600  92.19  5513570.0  92.1627   \n",
       "2022-03-31 04:00:00  91.67  92.700  89.8006  90.03  4567221.0  91.1805   \n",
       "2022-04-01 04:00:00  91.69  93.580  87.5350  90.62  5746311.0  90.4137   \n",
       "...                    ...     ...      ...    ...        ...      ...   \n",
       "2024-03-18 04:00:00  30.94  31.660  30.7900  31.03  6844237.0  31.2471   \n",
       "2024-03-19 04:00:00  30.30  30.470  28.7200  29.67  9888748.0  29.3871   \n",
       "2024-03-20 04:00:00  29.63  31.880  29.5200  31.35  7446940.0  30.9679   \n",
       "2024-03-21 04:00:00  31.71  32.130  31.0500  31.35  5594696.0  31.5260   \n",
       "2024-03-22 04:00:00  31.00  31.525  30.8400  31.40  4334930.0  31.3299   \n",
       "\n",
       "                         timestamp  transactions   otc  \n",
       "Date                                                    \n",
       "2022-03-28 04:00:00  1648440000000         55764  None  \n",
       "2022-03-29 04:00:00  1648526400000         86795  None  \n",
       "2022-03-30 04:00:00  1648612800000         58465  None  \n",
       "2022-03-31 04:00:00  1648699200000         52497  None  \n",
       "2022-04-01 04:00:00  1648785600000         64440  None  \n",
       "...                            ...           ...   ...  \n",
       "2024-03-18 04:00:00  1710734400000         51220  None  \n",
       "2024-03-19 04:00:00  1710820800000         72847  None  \n",
       "2024-03-20 04:00:00  1710907200000         63363  None  \n",
       "2024-03-21 04:00:00  1710993600000         46313  None  \n",
       "2024-03-22 04:00:00  1711080000000         46295  None  \n",
       "\n",
       "[500 rows x 9 columns]"
      ]
     },
     "execution_count": 160,
     "metadata": {},
     "output_type": "execute_result"
    }
   ],
   "source": [
    "stockPriceDB"
   ]
  },
  {
   "cell_type": "markdown",
   "id": "b8534f8a",
   "metadata": {},
   "source": [
    "#### Create simple plot for the historical data (2 years) of a specified ticker"
   ]
  },
  {
   "cell_type": "code",
   "execution_count": 161,
   "id": "3b76353f",
   "metadata": {},
   "outputs": [
    {
     "data": {
      "image/png": "[encoded data removed]",
      "text/plain": [
       "<Figure size 1200x600 with 1 Axes>"
      ]
     },
     "metadata": {},
     "output_type": "display_data"
    }
   ],
   "source": [
    "plt.figure(figsize=(12,6))\n",
    "plt.plot(stockPriceDB[\"close\"])\n",
    "plt.title(\"Stock Historical Closing Price\")\n",
    "plt.xticks(rotation=45, ha=\"right\")\n",
    "plt.xlabel(\"Date\")\n",
    "plt.ylabel(\"Closing Price\")\n",
    "plt.show()"
   ]
  },
  {
   "cell_type": "code",
   "execution_count": null,
   "id": "4bd96317",
   "metadata": {},
   "outputs": [],
   "source": []
  }
 ],
 "metadata": {
  "kernelspec": {
   "display_name": "Python 3 (ipykernel)",
   "language": "python",
   "name": "python3"
  },
  "language_info": {
   "codemirror_mode": {
    "name": "ipython",
    "version": 3
   },
   "file_extension": ".py",
   "mimetype": "text/x-python",
   "name": "python",
   "nbconvert_exporter": "python",
   "pygments_lexer": "ipython3",
   "version": "3.11.5"
  }
 },
 "nbformat": 4,
 "nbformat_minor": 5
}
